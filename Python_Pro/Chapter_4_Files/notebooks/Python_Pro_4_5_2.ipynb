{
 "cells": [
  {
   "cell_type": "markdown",
   "id": "5dc75096-f6d0-4d0d-be80-4e102b0186af",
   "metadata": {},
   "source": [
    "## Task \"Объем файлов\"\n",
    "\n",
    "Вам доступен архив workbook.zip, содержащий различные папки и файлы. Напишите программу, которая выводит суммарный объем файлов этого архива в сжатом и не сжатом видах в байтах, в следующем формате:\n",
    "\n",
    "Объем исходных файлов: <объем до сжатия> байт(а)  \n",
    "Объем сжатых файлов: <объем после сжатия> байт(а)"
   ]
  },
  {
   "cell_type": "code",
   "execution_count": null,
   "id": "4f6870b4-7dd4-49a1-9f1b-685b78807365",
   "metadata": {},
   "outputs": [],
   "source": [
    "from zipfile import ZipFile\n",
    "\n",
    "with ZipFile('../data/workbook.zip', 'r') as zip_file:\n",
    "    compression = ([(x.file_size, x.compress_size) for x in zip_file.infolist() if not x.is_dir()])\n",
    "    print(f'Объем исходных файлов: {sum(map(lambda x: x[0], compression))} байт(а)')\n",
    "    print(f'Объем сжатых файлов: {sum(map(lambda x: x[1], compression))} байт(а)')"
   ]
  }
 ],
 "metadata": {
  "kernelspec": {
   "display_name": "Python 3 (ipykernel)",
   "language": "python",
   "name": "python3"
  },
  "language_info": {
   "codemirror_mode": {
    "name": "ipython",
    "version": 3
   },
   "file_extension": ".py",
   "mimetype": "text/x-python",
   "name": "python",
   "nbconvert_exporter": "python",
   "pygments_lexer": "ipython3",
   "version": "3.9.16"
  }
 },
 "nbformat": 4,
 "nbformat_minor": 5
}
