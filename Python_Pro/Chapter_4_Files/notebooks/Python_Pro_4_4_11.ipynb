{
 "cells": [
  {
   "cell_type": "markdown",
   "id": "10bcbc9a-369a-47e6-bedc-a6698e7af79e",
   "metadata": {},
   "source": [
    "## Task \"Спортивные площадки\"\n",
    "\n",
    "Вам доступен файл playgrounds.csv с информацией о спортивных площадках Москвы. В первом столбце записан тип площадки,  во втором — административный округ, в третьем — название района, в четвертом — адрес:\n",
    "\n",
    "ObjectName;AdmArea;District;Address  \n",
    "Парк, озелененная городская территория «Лианозовский парк культуры и отдыха»;Северо-Восточный административный округ;район Лианозово;Угличская улица, дом 13  \n",
    "...\n",
    "\n",
    "Напишите программу, создающую JSON-объект, ключом в котором является административный округ, а значением — JSON-объект, в котором, в свою очередь, ключом является название района, относящийся к этому административному округу, а значением — список адресов всех площадок в этом районе. Полученный JSON-объект программа должна записать в файл addresses.json.\n",
    "\n",
    "**Примечание 1.** Адреса в списках должны располагаться в своем исходном порядке.\n",
    "\n",
    "**Примечание 2.** Разделителем в файле playgrounds.csv является точка с запятой, при этом кавычки не используются.\n",
    "\n",
    "**Примечание 3.** Начальная часть файла addresses.json выглядит так:\n",
    "\n",
    "{  \n",
    "   \"Северо-Восточный административный округ\": {  \n",
    "      \"район Лианозово\": [  \n",
    "         \"Угличская улица, дом 13\",  \n",
    "         \"Алтуфьевское шоссе, дом 147А\"  \n",
    "      ],  \n",
    "      \"район Отрадное\": [  \n",
    "         \"Алтуфьевское шоссе, дом 20А\",  \n",
    "         \"Юрловский проезд, дом 8, строение 1\",  \n",
    "         \"Юрловский проезд, дом 8, строение 1\"  \n",
    "      ],  \n",
    "      ...  \n",
    "   },  \n",
    "   ...  \n",
    "}  \n",
    "\n",
    "**Примечание 4.** При открытии файла используйте явное указание кодировки UTF-8."
   ]
  },
  {
   "cell_type": "code",
   "execution_count": 36,
   "id": "29e566f8-9535-4a20-aec6-f97cad34cd8f",
   "metadata": {},
   "outputs": [],
   "source": [
    "import csv\n",
    "import json\n",
    "\n",
    "park_address_dict = {}\n",
    "with open('../data/playgrounds.csv', 'r', encoding='utf-8') as file:\n",
    "    data = csv.DictReader(file, delimiter=';')\n",
    "    for item in data:\n",
    "        park_address_dict.setdefault(item['AdmArea'], {}).setdefault(item['District'], []).append(item['Address'])\n",
    "\n",
    "with open('../data/addresses.json', 'w', encoding='utf-8') as out_file:\n",
    "    json.dump(park_address_dict, out_file)"
   ]
  }
 ],
 "metadata": {
  "kernelspec": {
   "display_name": "Python 3 (ipykernel)",
   "language": "python",
   "name": "python3"
  },
  "language_info": {
   "codemirror_mode": {
    "name": "ipython",
    "version": 3
   },
   "file_extension": ".py",
   "mimetype": "text/x-python",
   "name": "python",
   "nbconvert_exporter": "python",
   "pygments_lexer": "ipython3",
   "version": "3.9.16"
  }
 },
 "nbformat": 4,
 "nbformat_minor": 5
}
