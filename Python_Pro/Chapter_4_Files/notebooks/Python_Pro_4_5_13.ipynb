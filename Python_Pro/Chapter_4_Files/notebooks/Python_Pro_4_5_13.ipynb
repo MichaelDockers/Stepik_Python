{
 "cells": [
  {
   "cell_type": "markdown",
   "id": "2c2bc29b-7276-41f4-b6d4-dfc5fd89d399",
   "metadata": {},
   "source": [
    "## Task \"Контрольная сумма\"\n",
    "\n",
    "По каналу связи передаются pickle файл, содержащий сериализованный словарь или список, и целое число — контрольная сумма, которая вычисляется по следующему правилу:\n",
    "\n",
    "* для словаря — сумма всех целочисленных ключей (тип int)\n",
    "* для списка — произведение минимального и максимального целочисленных элементов (тип int)\n",
    "\n",
    "Напишите программу, которая вычисляет контрольную сумму для объекта, содержащегося в pickle файле, и сравнивает ее с данным целым числом.\n",
    "\n",
    "**Формат входных данных**\n",
    "\n",
    "На вход программе в первой строке подается название pickle файла, в котором содержится сериализованный словарь или список, в следующей — целое число.\n",
    "\n",
    "**Формат выходных данных**\n",
    "\n",
    "Программа должна вычислить контрольную сумму для объекта, который содержится в данном pickle файле, и если она совпадает с введенным числом, вывести текст:\n",
    "\n",
    "_Контрольные суммы совпадают_\n",
    "\n",
    "если она не совпадает с введенным числом, вывести текст:\n",
    "\n",
    "_Контрольные суммы не совпадают_\n",
    "\n",
    "**Примечание 1.** Если список (словарь) не содержит целочисленных элементов (ключей), то считайте, что контрольная сумма равна 0."
   ]
  },
  {
   "cell_type": "code",
   "execution_count": 33,
   "id": "9b372c1a-5ed6-4b15-8b98-d023497b4c94",
   "metadata": {},
   "outputs": [],
   "source": [
    "import os\n",
    "pkl_dir  = '../data/test_pkl/'\n",
    "pkl_file = 'list_str.pkl'\n",
    "\n",
    "if not os.path.isdir(pkl_dir):\n",
    "    os.mkdir(pkl_dir)\n",
    "    \n",
    "with open(f'{pkl_dir}{pkl_file}', 'wb') as file:\n",
    "    pickle.dump(['1', '3', '6', '10', '6'], file)"
   ]
  },
  {
   "cell_type": "code",
   "execution_count": 34,
   "id": "2d0668da-d58b-4e72-866b-23f71c8d507d",
   "metadata": {},
   "outputs": [
    {
     "name": "stdout",
     "output_type": "stream",
     "text": [
      "Контрольные суммы совпадают\n"
     ]
    }
   ],
   "source": [
    "import pickle\n",
    "\n",
    "\n",
    "check_sum = 0\n",
    "with open(f'{pkl_dir}{pkl_file}', 'rb') as file:\n",
    "    data = pickle.load(file)\n",
    "    if isinstance(data, dict):\n",
    "        key_sum = sum(filter(lambda x: isinstance(x, int), data.keys()))\n",
    "        print('Контрольные суммы совпадают' if key_sum == check_sum else 'Контрольные суммы не совпадают')\n",
    "    elif isinstance(data, list):\n",
    "        only_int_list = list(filter(lambda x: isinstance(x, int), data))\n",
    "        key_sum = min(only_int_list, default=0) * max(only_int_list, default=0)\n",
    "        print('Контрольные суммы совпадают' if key_sum == check_sum else 'Контрольные суммы не совпадают')"
   ]
  }
 ],
 "metadata": {
  "kernelspec": {
   "display_name": "Python 3 (ipykernel)",
   "language": "python",
   "name": "python3"
  },
  "language_info": {
   "codemirror_mode": {
    "name": "ipython",
    "version": 3
   },
   "file_extension": ".py",
   "mimetype": "text/x-python",
   "name": "python",
   "nbconvert_exporter": "python",
   "pygments_lexer": "ipython3",
   "version": "3.9.16"
  }
 },
 "nbformat": 4,
 "nbformat_minor": 5
}
