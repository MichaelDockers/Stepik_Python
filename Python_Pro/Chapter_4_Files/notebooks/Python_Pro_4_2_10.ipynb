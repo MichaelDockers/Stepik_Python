{
 "cells": [
  {
   "cell_type": "markdown",
   "id": "e01c29b9-8fbe-4fb5-93aa-46c3aca3e372",
   "metadata": {},
   "source": [
    "## Task \"Лог-файл\"\n",
    "\n",
    "Вам доступен файл name_log.csv, в котором находятся логи изменения имени пользователя. В первом столбце записано измененное имя пользователя, во втором — адрес электронной почты, в третьем — дата и время изменения. При этом email пользователь менять не может, только имя:\n",
    "\n",
    "username,email,dtime  \n",
    "rare_charles6,charlesthompson@inbox.ru,15/11/2021 08:15  \n",
    "busy_patricia5,patriciasmith@bk.ru,07/11/2021 08:07  \n",
    "...\n",
    "\n",
    "Напишите программу, которая отбирает из файла name_log.csv только самые свежие записи для каждого пользователя и записывает их в файл new_name_log.csv. В файле new_name_log.csv первой строкой должны быть заголовки столбцов такие же, как в файле name_log.csv. Логи в итоговом файле должны быть расположены в лексикографическом порядке названий электронных ящиков пользователей.\n",
    "\n",
    "**Примечание 1.** Для части пользователей в исходном файле запись только одна, и тогда в итоговый файл следует записать только ее, для некоторых пользователей есть несколько записей с разными именами.\n",
    "\n",
    "Например, пользователь с электронной почтой *c3po@gmail.com* несколько раз менял имя:\n",
    "\n",
    "C=3PO,c3po@gmail.com,16/11/2021 17:10  \n",
    "C3PO,c3po@gmail.com,16/11/2021 17:15  \n",
    "C-3PO,c3po@gmail.com,16/11/2021 17:24  \n",
    "\n",
    "Из этих трех записей в итоговый файл должна быть записана только одна — самая свежая:\n",
    "\n",
    "C-3PO,c3po@gmail.com,16/11/2021 17:24\n",
    "\n",
    "**Примечание 2.** Разделителем в файле name_log.csv является запятая, при этом кавычки не используются.\n",
    "\n",
    "**Примечание 3.** Начальная часть файла new_name_log.csv выглядит так:\n",
    "\n",
    "username,email,dtime  \n",
    "angry-barbara2,barbaraanderson@bk.ru,17/11/2021 01:17  \n",
    "dead-barbara6,barbarabrown@rambler.ru,27/11/2021 08:27  \n",
    "busy_barbara7,barbaradavis@aol.com,24/11/2021 08:24  \n",
    "...\n",
    "\n",
    "**Примечание 4.** При открытии файла используйте явное указание кодировки UTF-8."
   ]
  },
  {
   "cell_type": "code",
   "execution_count": 55,
   "id": "80471a40-2df3-41ac-b3a3-c8fa0a38465d",
   "metadata": {},
   "outputs": [],
   "source": [
    "from datetime import datetime\n",
    "import csv\n",
    "\n",
    "start_date = datetime.min\n",
    "last_record_log = {}\n",
    "with open('../data/name_log.csv', 'r', encoding='utf-8') as file:\n",
    "    log = [x for x in csv.DictReader(file)]\n",
    "\n",
    "columns = ['username', 'email', 'dtime']\n",
    "\n",
    "for row in log:\n",
    "    last_record_log.setdefault(row['email'], []).append(row)\n",
    "\n",
    "result = [max(last_record_log[x], key=lambda x: datetime.strptime(x['dtime'], '%d/%m/%Y %H:%M')) for x in last_record_log]\n",
    "\n",
    "with open('../data/new_name_log.csv', 'w', encoding='utf-8') as file:\n",
    "    writer = csv.DictWriter(file, fieldnames=columns)\n",
    "    writer.writeheader()\n",
    "    writer.writerows(sorted(result, key=lambda x: x['email']))"
   ]
  }
 ],
 "metadata": {
  "kernelspec": {
   "display_name": "Python 3 (ipykernel)",
   "language": "python",
   "name": "python3"
  },
  "language_info": {
   "codemirror_mode": {
    "name": "ipython",
    "version": 3
   },
   "file_extension": ".py",
   "mimetype": "text/x-python",
   "name": "python",
   "nbconvert_exporter": "python",
   "pygments_lexer": "ipython3",
   "version": "3.9.16"
  }
 },
 "nbformat": 4,
 "nbformat_minor": 5
}
