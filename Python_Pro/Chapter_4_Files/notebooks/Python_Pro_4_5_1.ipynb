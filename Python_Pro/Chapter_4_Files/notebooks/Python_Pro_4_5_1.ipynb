{
 "cells": [
  {
   "cell_type": "markdown",
   "id": "44c0ef01-9c3e-4282-8118-b2292bce2953",
   "metadata": {},
   "source": [
    "## Task \"Количество файлов\"\n",
    "\n",
    "Вам доступен архив workbook.zip, содержащий различные папки и файлы. Напишите программу, которая выводит единственное число — количество файлов в этом архиве.\n",
    "\n",
    "Примечание 1. Обратите внимание, что папка не считается файлом."
   ]
  },
  {
   "cell_type": "code",
   "execution_count": 20,
   "id": "f5227e8a-595a-4f1a-801b-89a6f8440c24",
   "metadata": {},
   "outputs": [
    {
     "name": "stdout",
     "output_type": "stream",
     "text": [
      "18\n"
     ]
    }
   ],
   "source": [
    "from zipfile import ZipFile\n",
    "\n",
    "with ZipFile('../data/workbook.zip', 'r') as zip_file:\n",
    "    print(sum([not x.is_dir() for x in zip_file.infolist()]))"
   ]
  }
 ],
 "metadata": {
  "kernelspec": {
   "display_name": "Python 3 (ipykernel)",
   "language": "python",
   "name": "python3"
  },
  "language_info": {
   "codemirror_mode": {
    "name": "ipython",
    "version": 3
   },
   "file_extension": ".py",
   "mimetype": "text/x-python",
   "name": "python",
   "nbconvert_exporter": "python",
   "pygments_lexer": "ipython3",
   "version": "3.9.16"
  }
 },
 "nbformat": 4,
 "nbformat_minor": 5
}
