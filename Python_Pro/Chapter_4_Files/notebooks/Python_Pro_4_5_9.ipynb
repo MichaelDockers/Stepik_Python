{
 "cells": [
  {
   "cell_type": "markdown",
   "id": "c686db0a-548d-40a7-8519-7bf9400588d2",
   "metadata": {},
   "source": [
    "## Task \"Шахматы были лучше 🌶️\"\n",
    "\n",
    "Вам доступен архив data.zip, содержащий различные папки и файлы. Среди них есть несколько JSON файлов, каждый из которых содержит информацию о каком-либо футболисте:\n",
    "\n",
    "{  \n",
    "   \"first_name\": \"Gary\",  \n",
    "   \"last_name\": \"Cahill\",  \n",
    "   \"team\": \"Chelsea\",  \n",
    "   \"position\": \"Defender\"  \n",
    "}\n",
    "\n",
    "У футболиста имеются следующие атрибуты: \n",
    "\n",
    "* first_name — имя\n",
    "* last_name — фамилия\n",
    "* team — название футбольного клуба\n",
    "* position — игровая позиция\n",
    "\n",
    "Напишите программу, которая обрабатывает только данные JSON файлы и выводит имена и фамилии футболистов, выступающих за футбольный клуб Arsenal. Футболисты должны быть расположены в лексикографическом порядке имен, а при совпадении — в лексикографическом порядке фамилий, каждый на отдельной строке.\n",
    "\n",
    "**Примечание 1.** Обратите внимание, что наличие у файла расширения .json не гарантирует, что он является корректным текстовым файлом в формате JSON. Для того чтобы определить, является ли файл корректным текстовым файлом в формате JSON, воспользуйтесь конструкцией try-except и функцией is_correct_json() из предыдущего урока."
   ]
  },
  {
   "cell_type": "code",
   "execution_count": 53,
   "id": "04267e3c-013b-413b-b738-f223460dad1f",
   "metadata": {},
   "outputs": [
    {
     "name": "stdout",
     "output_type": "stream",
     "text": [
      "Alex Iwobi\n",
      "Alexis Sanchez\n",
      "Hector Bellerin\n",
      "Laurent Koscielny\n",
      "Mesut Ozil\n",
      "Olivier Giroud\n",
      "Petr Cech\n",
      "Theo Walcott\n"
     ]
    }
   ],
   "source": [
    "import json\n",
    "from zipfile import ZipFile\n",
    "\n",
    "\n",
    "def is_correct_json(data):\n",
    "    try:\n",
    "        return json.loads(data)\n",
    "    except json.JSONDecodeError:\n",
    "        return False\n",
    "\n",
    "    \n",
    "arsenal_players = []\n",
    "with ZipFile('../data/data.zip', 'r') as file:\n",
    "    for item in file.infolist():\n",
    "        if not item.is_dir() and item.filename.split('.')[-1] == 'json':\n",
    "            with file.open(item.filename, 'r') as current_file:\n",
    "                json_data = is_correct_json(current_file.read().decode('utf-8', errors='ignore'))\n",
    "                if json_data and json_data['team'] == 'Arsenal':\n",
    "                    arsenal_players.append(f\"{json_data['first_name']} {json_data['last_name']}\")\n",
    "\n",
    "print(*sorted(arsenal_players), sep='\\n')"
   ]
  }
 ],
 "metadata": {
  "kernelspec": {
   "display_name": "Python 3 (ipykernel)",
   "language": "python",
   "name": "python3"
  },
  "language_info": {
   "codemirror_mode": {
    "name": "ipython",
    "version": 3
   },
   "file_extension": ".py",
   "mimetype": "text/x-python",
   "name": "python",
   "nbconvert_exporter": "python",
   "pygments_lexer": "ipython3",
   "version": "3.9.16"
  }
 },
 "nbformat": 4,
 "nbformat_minor": 5
}
