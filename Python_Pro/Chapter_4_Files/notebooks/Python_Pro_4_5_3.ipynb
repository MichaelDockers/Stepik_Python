{
 "cells": [
  {
   "cell_type": "markdown",
   "id": "ecefe1f2-25a2-430d-950f-1f0636e621a0",
   "metadata": {},
   "source": [
    "## Task \"Наилучший показатель\"\n",
    "\n",
    "Вам доступен архив workbook.zip, содержащий различные папки и файлы. Напишите программу, которая выводит название файла из этого архива, который имеет наилучший показатель степени сжатия.\n",
    "\n",
    "**Примечание 1.** Если файл находится в папке, вывести следует только название без пути.\n",
    "\n",
    "**Примечание 2.** Гарантируется, что в исходном архиве только один файл имеет наилучший показатель степени сжатия.\n",
    "\n",
    "**Примечание 3.** Степень сжатия файла характеризуется коэффициентом \n",
    "\n",
    "*K, определяемым как отношение объема сжатого файла Vc к объему исходного файла Vo, выраженным в процентах.*"
   ]
  },
  {
   "cell_type": "code",
   "execution_count": 33,
   "id": "5e50c8b6-c39d-433e-9445-3f0beeb6d228",
   "metadata": {},
   "outputs": [
    {
     "name": "stdout",
     "output_type": "stream",
     "text": [
      "fontlist-v330.json\n"
     ]
    }
   ],
   "source": [
    "from zipfile import ZipFile\n",
    "\n",
    "with ZipFile('../data/workbook.zip', 'r') as zip_file:\n",
    "    compression = ([(x.filename, x.compress_size / x.file_size * 100) for x in zip_file.infolist() if not x.is_dir()])\n",
    "    file_name = min(compression, key=lambda x: x[1])[0].split('/')[-1]\n",
    "    print(file_name)"
   ]
  }
 ],
 "metadata": {
  "kernelspec": {
   "display_name": "Python 3 (ipykernel)",
   "language": "python",
   "name": "python3"
  },
  "language_info": {
   "codemirror_mode": {
    "name": "ipython",
    "version": 3
   },
   "file_extension": ".py",
   "mimetype": "text/x-python",
   "name": "python",
   "nbconvert_exporter": "python",
   "pygments_lexer": "ipython3",
   "version": "3.9.16"
  }
 },
 "nbformat": 4,
 "nbformat_minor": 5
}
