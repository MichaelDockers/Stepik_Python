{
 "cells": [
  {
   "cell_type": "markdown",
   "id": "8a5284f2-f3a7-4df8-85b5-77673fe57822",
   "metadata": {},
   "source": [
    "## Task \"Общественное питание 😥\"\n",
    "Вам доступен файл food_services.json, содержащий список JSON-объектов, которые представляют данные о заведениях общественного питания:\n",
    "\n",
    "[  \n",
    "   {  \n",
    "      \"Name\": \"СМЕТАНА\",  \n",
    "      \"IsNetObject\": \"нет\",  \n",
    "      \"OperatingCompany\": \"\",  \n",
    "      \"TypeObject\": \"кафе\",  \n",
    "      \"AdmArea\": \"Северо-Восточный административный округ\",  \n",
    "      \"District\": \"Ярославский район\",  \n",
    "      \"Address\": \"город Москва, улица Егора Абакумова, дом 9\",  \n",
    "      \"SeatsCount\": 48  \n",
    "   },  \n",
    "   ...  \n",
    "]\n",
    "\n",
    "Под «заведением» будем подразумевать один JSON-объект из этого списка. У заведения имеются следующие атрибуты:\n",
    "\n",
    "* Name — название \n",
    "* IsNetObject — да\\нет в зависимости от того, является ли заведение сетевым\n",
    "* OperatingCompany — название сети\n",
    "* TypeObject — вид (кафе, столовая, ресторан и т.д.)\n",
    "* AdmArea — административная зона\n",
    "* District — район\n",
    "* Address — полный адрес\n",
    "* SeatsCount — количество мест\n",
    "\n",
    "Напишите программу, которая:\n",
    "\n",
    "определяет район Москвы, в котором находится больше всего заведений, и выводит название этого района и количество заведений в нем\n",
    "определяет сеть с самым большим числом заведений и выводит название этой сети и количество заведений этой сети\n",
    "Полученные значения программа должна вывести в следующем формате:\n",
    "\n",
    "<район>: <количество заведений>  \n",
    "<название сети>: <количество заведений>  \n",
    "\n",
    "**Примечание 1.** Гарантируется, что искомая сеть единственная.\n",
    "\n",
    "**Примечание 2.** Пример вывода:\n",
    "\n",
    "район Метрогородок: 456  \n",
    "Французская пекарня SeDelice: 144  \n",
    "\n",
    "**Примечание 3.** При открытии файла используйте явное указание кодировки UTF-8."
   ]
  },
  {
   "cell_type": "code",
   "execution_count": 22,
   "id": "3c4f8d28-7f19-475f-a117-c1017ec624be",
   "metadata": {},
   "outputs": [
    {
     "name": "stdout",
     "output_type": "stream",
     "text": [
      "Тверской район: 963\n",
      "KFC: 230\n"
     ]
    }
   ],
   "source": [
    "import json\n",
    "\n",
    "district_dict_counter = {}\n",
    "net_dict_counter = {}\n",
    "with open('../data/food_services.json', 'r', encoding='utf-8') as file:\n",
    "    data = json.load(file)\n",
    "\n",
    "for item in data:\n",
    "    district_dict_counter[item['District']] = district_dict_counter.get(item['District'], 0) + 1\n",
    "    if item['IsNetObject'] == 'да':\n",
    "        net_dict_counter[item['OperatingCompany']] = net_dict_counter.get(item['OperatingCompany'], 0) + 1\n",
    "\n",
    "district, d_counter = max(district_dict_counter.items(), key=lambda x: x[1])\n",
    "net, n_counter = max(net_dict_counter.items(), key=lambda x: x[1])\n",
    "print(f'{district}: {d_counter}')\n",
    "print(f'{net}: {n_counter}')"
   ]
  }
 ],
 "metadata": {
  "kernelspec": {
   "display_name": "Python 3 (ipykernel)",
   "language": "python",
   "name": "python3"
  },
  "language_info": {
   "codemirror_mode": {
    "name": "ipython",
    "version": 3
   },
   "file_extension": ".py",
   "mimetype": "text/x-python",
   "name": "python",
   "nbconvert_exporter": "python",
   "pygments_lexer": "ipython3",
   "version": "3.9.16"
  }
 },
 "nbformat": 4,
 "nbformat_minor": 5
}
