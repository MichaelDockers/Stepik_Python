{
 "cells": [
  {
   "cell_type": "markdown",
   "id": "80794c72-34a9-4fa4-ab90-26f1f1b0c3b7",
   "metadata": {},
   "source": [
    "## Task \"Голодный студент 🌶️\"\n",
    "\n",
    "Дима очень хочет поесть, но денег у него мало. Помогите ему определить самый дешевый продукт, а также магазин, в котором он продается. Вам доступен файл prices.csv, который содержит информацию о ценах продуктов в различных магазинах. В первом столбце записано название магазина, а в последующих — цена на соответствующий товар в этом магазине:\n",
    "\n",
    "Магазин;Творог;Гречка;Рис;Бородинский хлеб;Яблоки;Пельмени;Овсяное печенье;Спагетти;Печеная фасоль;Мороженое;Фарш;Вареники;Картофель;Батончик  \n",
    "Пятерочка;69;133;129;83;141;90;72;123;149;89;88;106;54;84  \n",
    "Магнит;102;87;95;75;109;112;97;82;101;134;69;61;141;79  \n",
    "...\n",
    "\n",
    "Напишите программу, которая определяет и выводит самый дешевый продукт и название магазина, в котором он продается, в следующем формате:\n",
    "\n",
    "<название продукта>: <название магазина>\n",
    "\n",
    "Если имеется несколько самых дешевых товаров, то следует вывести тот товар, чье название меньше в лексикографическом сравнении. Если один товар продается в нескольких магазинах по одной минимальной цене, то следует вывести тот магазин, чье название меньше в лексикографическом сравнении.\n",
    "\n",
    "**Примечание 1.** Разделителем в файле prices.csv является точка с запятой, при этом кавычки не используются.\n",
    "\n",
    "**Примечание 2.** Пример вывода:\n",
    "\n",
    "Клубничный йогурт: ВкусВилл\n",
    "\n",
    "**Примечание 3.** При открытии файла используйте явное указание кодировки UTF-8."
   ]
  },
  {
   "cell_type": "code",
   "execution_count": 67,
   "id": "17c46852-e94e-49b0-9748-5bfa9f392c57",
   "metadata": {},
   "outputs": [
    {
     "name": "stdout",
     "output_type": "stream",
     "text": [
      "Вареники: Дикси\n"
     ]
    }
   ],
   "source": [
    "import csv\n",
    "\n",
    "price_by_shop = {}\n",
    "with open('../data/prices.csv', 'r', encoding='utf-8') as in_file:\n",
    "    data = list(csv.DictReader(in_file, delimiter=';'))\n",
    "    for row in data:\n",
    "        shop_name = row['Магазин']\n",
    "        for key, value in row.items():\n",
    "            if key!= 'Магазин':\n",
    "                price_by_shop.setdefault(key, []).append((shop_name, value))\n",
    "\n",
    "    min_price_goods = [(key, min(value, key=lambda x: (int(x[1]), x[0]))) for key, value in price_by_shop.items()]\n",
    "    min_price_good = min(min_price_goods, key=lambda x: (int(x[1][1]), x[0]))\n",
    "    print(f'{min_price_good[0]}: {min_price_good[1][0]}')"
   ]
  },
  {
   "cell_type": "code",
   "execution_count": 86,
   "id": "a87eda71-abf2-4f45-9ef4-09b0d7fe1fcd",
   "metadata": {},
   "outputs": [
    {
     "name": "stdout",
     "output_type": "stream",
     "text": [
      "Вареники: Дикси\n"
     ]
    }
   ],
   "source": [
    "import csv\n",
    "\n",
    "price_by_shop = {}\n",
    "with open('../data/prices.csv', 'r', encoding='utf-8') as in_file:\n",
    "    data = csv.DictReader(in_file, delimiter=';')\n",
    "    shop, *goods  = data.fieldnames\n",
    "    open_list = [[row[shop], good, row[good]] for row in data for good in goods]\n",
    "\n",
    "    min_price_good = min(open_list, key=lambda x: (int(x[2]), x[1], x[0]))\n",
    "    print(f'{min_price_good[1]}: {min_price_good[0]}')"
   ]
  }
 ],
 "metadata": {
  "kernelspec": {
   "display_name": "Python 3 (ipykernel)",
   "language": "python",
   "name": "python3"
  },
  "language_info": {
   "codemirror_mode": {
    "name": "ipython",
    "version": 3
   },
   "file_extension": ".py",
   "mimetype": "text/x-python",
   "name": "python",
   "nbconvert_exporter": "python",
   "pygments_lexer": "ipython3",
   "version": "3.9.16"
  }
 },
 "nbformat": 4,
 "nbformat_minor": 5
}
