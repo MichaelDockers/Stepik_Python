{
 "cells": [
  {
   "cell_type": "markdown",
   "id": "de71a735-aa63-4efa-9cb5-d4cec0e20e0a",
   "metadata": {},
   "source": [
    "## Task \"Элементы JSON\"\n",
    "\n",
    "Напишите программу, которая принимает на вход описание одного объекта в формате JSON и выводит все пары ключ-значение этого объекта.\n",
    "\n",
    "**Формат входных данных**\n",
    "\n",
    "На вход программе подается корректное описание одного объекта в формате JSON.\n",
    "\n",
    "**Формат выходных данных**\n",
    "\n",
    "Программа должна вывести все пары ключ-значение введенного объекта, разделяя ключ и значение двоеточием, каждую на отдельной строке. Если значением ключа является список, то все его элементы должны быть выведены через запятую.\n",
    "\n",
    "**Примечание 1.** Пары ключ-значение при выводе должны располагаться в своем исходном порядке.\n",
    "\n",
    "**Примечание 2.** Для считывания произвольного числа строк используйте потоковый ввод sys.stdin."
   ]
  },
  {
   "cell_type": "code",
   "execution_count": 27,
   "id": "5e5b3715-1591-411f-921c-d52951a0926f",
   "metadata": {},
   "outputs": [
    {
     "name": "stdout",
     "output_type": "stream",
     "text": [
      "src: Images/Sun.png\n",
      "name: sun1\n",
      "hOffset: 250\n",
      "AAA: ABC, 123, 123, XYZ\n",
      "vOffset: 250\n",
      "alignment: center\n",
      "key: 1, 2, 3, 4, 5\n",
      "another_key: a, b, c\n"
     ]
    }
   ],
   "source": [
    "import json\n",
    "import sys\n",
    "\n",
    "data = '''{\n",
    "\"src\": \"Images/Sun.png\",\n",
    "\"name\": \"sun1\",\n",
    "\"hOffset\": 250,\n",
    "\"AAA\": [\"ABC\", 123, 123, \"XYZ\"],\n",
    "\"vOffset\": 250,\n",
    "\"alignment\": \"center\",\n",
    "\"key\": [1, 2, 3, 4, 5],\n",
    "\"another_key\": [\"a\", \"b\", \"c\"]\n",
    "}'''\n",
    "\n",
    "for key, value in json.loads(data).items():\n",
    "# for key, value in json.loads(sys.stdin.read()).items():\n",
    "    if not isinstance(value, list):\n",
    "        print(f'{key}: {value}')\n",
    "    else:\n",
    "        print(f'{key}: {\", \".join(map(str, value))}')"
   ]
  }
 ],
 "metadata": {
  "kernelspec": {
   "display_name": "Python 3 (ipykernel)",
   "language": "python",
   "name": "python3"
  },
  "language_info": {
   "codemirror_mode": {
    "name": "ipython",
    "version": 3
   },
   "file_extension": ".py",
   "mimetype": "text/x-python",
   "name": "python",
   "nbconvert_exporter": "python",
   "pygments_lexer": "ipython3",
   "version": "3.9.16"
  }
 },
 "nbformat": 4,
 "nbformat_minor": 5
}
