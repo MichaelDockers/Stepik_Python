{
 "cells": [
  {
   "cell_type": "markdown",
   "id": "e95096a8-134d-4ee1-a142-5090e82ec02d",
   "metadata": {},
   "source": [
    "## Task\n",
    "Вам доступны словари club1, club2 и club3, содержащие данные о различных футбольных клубах. Дополните приведенный ниже код, чтобы он объединил данные словари в список и записал полученную структуру данных в файл data.json, указав в качестве отступов три символа пробела.\n",
    "\n",
    "Примечание 1. Словари в списке должны располагаться в своем исходном порядке.\n",
    "\n",
    "Примечание 2. Начальная часть файла data.json выглядит так:\n",
    "\n",
    "[  \n",
    "   {  \n",
    "      \"name\": \"FC Byern Munchen\",  \n",
    "      \"country\": \"Germany\",  \n",
    "      ...  \n",
    "   },  \n",
    "   ...  \n",
    "]  \n",
    "\n",
    "**Примечание 3.** Используйте необязательный аргумент indent. "
   ]
  },
  {
   "cell_type": "code",
   "execution_count": 6,
   "id": "2435bdea-a60d-4f18-8e2e-0040f85506e7",
   "metadata": {},
   "outputs": [],
   "source": [
    "import json\n",
    "\n",
    "club1 = {\"name\": \"FC Byern Munchen\", \"country\": \"Germany\", \"founded\": 1900,\n",
    "         \"trainer\": \"Julian Nagelsmann\", \"goalkeeper\": \"M. Neuer\", \"league_position\": 1}\n",
    "\n",
    "club2 = {\"name\": \"FC Barcelona\", \"country\": \"Spain\", \"founded\": 1899,\n",
    "         \"trainer\": \"Xavier Creus\", \"goalkeeper\": \"M. Ter Stegen\", \"league_position\": 7}\n",
    "\n",
    "club3 = {\"name\": \"FC Manchester United\", \"country\": \"England\", \"founded\": 1878,\n",
    "         \"trainer\": \"Michael Carrick\", \"goalkeeper\": \"D. De Gea\", \"league_position\": 8}\n",
    "\n",
    "with open('../data/data.json', 'w', encoding='utf-8') as out_file:\n",
    "    json.dump([club1, club2, club3], out_file, indent=3)"
   ]
  }
 ],
 "metadata": {
  "kernelspec": {
   "display_name": "Python 3 (ipykernel)",
   "language": "python",
   "name": "python3"
  },
  "language_info": {
   "codemirror_mode": {
    "name": "ipython",
    "version": 3
   },
   "file_extension": ".py",
   "mimetype": "text/x-python",
   "name": "python",
   "nbconvert_exporter": "python",
   "pygments_lexer": "ipython3",
   "version": "3.9.16"
  }
 },
 "nbformat": 4,
 "nbformat_minor": 5
}
