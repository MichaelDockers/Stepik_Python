{
 "cells": [
  {
   "cell_type": "markdown",
   "id": "6e741bb4-9c27-429e-85d1-7b6edc68a7ed",
   "metadata": {},
   "source": [
    "## Task \"Бассейны\"\n",
    "Тимур планирует пойти в бассейн. Среди всех бассейнов ему подходят те, которые открыты в понедельник в период с 10:00 до 12:00. Также ему нравится плавать по длинным дорожкам, поэтому из всех работающих в это время бассейнов нужно выбрать бассейн с наибольшей длиной дорожки, при равных значениях — c наибольшей шириной.\n",
    "\n",
    "Вам доступен файл pools.json, содержащий список JSON-объектов, которые представляют данные о крытых плавательных бассейнах:\n",
    "\n",
    "[  \n",
    "   {  \n",
    "      \"ObjectName\": \"Физкультурно-оздоровительный комплекс с бассейном «ГБУ «СШОР № 82» Москомспорта»\",  \n",
    "      \"AdmArea\": \"Северо-Восточный административный округ\",  \n",
    "      \"District\": \"Алтуфьевский район\",  \n",
    "      \"Address\": \"Инженерная улица, дом 5, корпус 1\",  \n",
    "      \"WorkingHoursSummer\": {  \n",
    "         \"Понедельник\": \"10:00-11:00\",  \n",
    "         \"Вторник\": \"10:00-11:00\",  \n",
    "         \"Среда\": \"10:00-11:00\",  \n",
    "         \"Четверг\": \"10:00-11:00\",  \n",
    "         \"Пятница\": \"10:00-11:00\",  \n",
    "         \"Суббота\": \"10:00-11:00\",  \n",
    "         \"Воскресенье\": \"09:00-15:00\",  \n",
    "      },  \n",
    "      \"DimensionsSummer\": {  \n",
    "         \"Square\": 350,  \n",
    "         \"Length\": 25,  \n",
    "         \"Width\": 14,  \n",
    "         \"Depth\": 1.8  \n",
    "      }  \n",
    "   },  \n",
    "   ...  \n",
    "]\n",
    "\n",
    "Под «бассейном» будем подразумевать один JSON-объект из этого списка. У бассейна имеются следующие атрибуты:\n",
    "\n",
    "* ObjectName — название, будь то фитнес клуб или спортивный комплекс\n",
    "* AdmArea — административный округ\n",
    "* District — название района\n",
    "* Address — адрес\n",
    "* WorkingHoursSummer — график работы, время начала и закрытия указываются в формате HH:MM\n",
    "* DimensionsSummer — размеры бассейна, где Square — площадь, Length — длина, Width — ширина, Depth — глубина\n",
    "\n",
    "Напишите программу, которая определяет бассейн, подходящий Тимуру. Программа должна вывести его размеры и адрес в следующем формате:\n",
    "\n",
    "* <длина>x<ширина>\n",
    "* <адрес>\n",
    "\n",
    "**Примечание 1.** Пример вывода:\n",
    "\n",
    "25x16  \n",
    "Писцовая улица, дом 12, строение 1  \n",
    "\n",
    "**Примечание 2.** Бассейн должен быть открыт во время всего периода с 10:00 до 12:00. Например, если бассейн работает в 10:00, но не работает в 11:30, он не подходит.\n",
    "\n",
    "**Примечание 3.** При открытии файла используйте явное указание кодировки UTF-8."
   ]
  },
  {
   "cell_type": "code",
   "execution_count": 26,
   "id": "1f87a012-bdc7-4633-9cd7-5a27add1c02f",
   "metadata": {},
   "outputs": [
    {
     "name": "stdout",
     "output_type": "stream",
     "text": [
      "70x20\n",
      "Новоостаповская улица, дом 5, строение 2\n"
     ]
    }
   ],
   "source": [
    "import json\n",
    "from datetime import time\n",
    "\n",
    "monday_pools = []\n",
    "with open('../data/pools.json', 'r', encoding='utf-8') as file:\n",
    "    data = json.load(file)\n",
    "    for pool in data:\n",
    "        left, right = [int(x.replace(':', '')) for x in pool['WorkingHoursSummer']['Понедельник'].split('-')]\n",
    "        if left <= 1000 and right >= 1200:\n",
    "            monday_pools.append(pool)\n",
    "right_pool = max(monday_pools, key=lambda x: (x['DimensionsSummer']['Length'], x['DimensionsSummer']['Width']))\n",
    "\n",
    "print(f\"{right_pool['DimensionsSummer']['Length']}x{right_pool['DimensionsSummer']['Width']}\\n{right_pool['Address']}\")"
   ]
  }
 ],
 "metadata": {
  "kernelspec": {
   "display_name": "Python 3 (ipykernel)",
   "language": "python",
   "name": "python3"
  },
  "language_info": {
   "codemirror_mode": {
    "name": "ipython",
    "version": 3
   },
   "file_extension": ".py",
   "mimetype": "text/x-python",
   "name": "python",
   "nbconvert_exporter": "python",
   "pygments_lexer": "ipython3",
   "version": "3.9.16"
  }
 },
 "nbformat": 4,
 "nbformat_minor": 5
}
