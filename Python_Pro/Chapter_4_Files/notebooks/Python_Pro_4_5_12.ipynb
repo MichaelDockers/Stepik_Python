{
 "cells": [
  {
   "cell_type": "markdown",
   "id": "5ca7c915-dc51-4e92-bce7-d5f0199eab0b",
   "metadata": {},
   "source": [
    "## Task \"Ты не пройдешь\"\n",
    "\n",
    "Реализуйте функцию filter_dump(), которая принимает три аргумента в следующем порядке:\n",
    "\n",
    "* filename — название pickle файла, например, data.pkl\n",
    "* objects — список произвольных объектов\n",
    "* typename — тип данных\n",
    "\n",
    "Функция должна создавать pickle файл с названием filename, который содержит сериализованный список только тех объектов из списка objects, тип которых равен typename.\n",
    "\n",
    "**Примечание 1.** Например, вызов функции filter_dump() следующим образом:\n",
    "\n",
    "filter_dump('numbers.pkl', [1, '2', 3, 4, '5'], int)  \n",
    "\n",
    "должен создавать файл numbers.pkl, содержащий сериализованный список [1, 3, 4].\n",
    "\n",
    "**Примечание 2.** В тестирующую систему сдайте программу, содержащую только необходимую функцию filter_dump(), но не код, вызывающий ее."
   ]
  },
  {
   "cell_type": "code",
   "execution_count": 29,
   "id": "41b0301d-e118-4d66-aa57-4b008080408c",
   "metadata": {},
   "outputs": [],
   "source": [
    "import pickle\n",
    "\n",
    "def filter_dump(pkl_file, data, d_type):\n",
    "    with open(pkl_file, 'wb') as file:\n",
    "        pickle.dump(list(filter(lambda x: isinstance(x, d_type), data)), file)\n",
    "    \n",
    "filter_dump('../data/numbers.pkl', [1, '2', 3, 4, '5'], int)"
   ]
  }
 ],
 "metadata": {
  "kernelspec": {
   "display_name": "Python 3 (ipykernel)",
   "language": "python",
   "name": "python3"
  },
  "language_info": {
   "codemirror_mode": {
    "name": "ipython",
    "version": 3
   },
   "file_extension": ".py",
   "mimetype": "text/x-python",
   "name": "python",
   "nbconvert_exporter": "python",
   "pygments_lexer": "ipython3",
   "version": "3.9.16"
  }
 },
 "nbformat": 4,
 "nbformat_minor": 5
}
