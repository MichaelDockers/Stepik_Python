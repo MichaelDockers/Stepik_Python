{
 "cells": [
  {
   "cell_type": "markdown",
   "id": "aa9d6e7a-c24a-498b-a269-efacf3a55f78",
   "metadata": {},
   "source": [
    "## Task \"Разные типы\"\n",
    "Вам доступен файл data.json, содержащий список различных объектов:\n",
    "\n",
    "[  \n",
    "   \"nwkWXma\",  \n",
    "   null,  \n",
    "   {  \n",
    "      \"ISgHT\": \"dIUbf\"  \n",
    "   },  \n",
    "   \"Pzt\",  \n",
    "   \"BXcbGVTE\",  \n",
    "   ...  \n",
    "]\n",
    "\n",
    "Напишите программу, которая создает список, элементами которого являются объекты из списка, содержащегося в файле data.json, измененные по следующим правилам:\n",
    "\n",
    "* если объект является строкой, в его конец добавляется восклицательный знак\n",
    "* если объект является числом, он увеличивается на единицу\n",
    "* если объект является логическим значением, он инвертируется\n",
    "* если объект является списком, он удваивается\n",
    "* если объект является JSON-объектом (словарем), в него добавляется новая пара \"newkey\": null\n",
    "* если объект является пустым значением (null), он не добавляется\n",
    "\n",
    "Полученный список программа должна записать в файл updated_data.json.\n",
    "\n",
    "**Примечание 1.** Например, если бы файл data.json имел вид:\n",
    "\n",
    "[\"Hello\", 179, true, null, [1, 2, 3], {\"key\": \"value\"}]\n",
    "\n",
    "то программа должна была бы создать файл updated_data.json со следующим содержанием:\n",
    "\n",
    "[\"Hello!\", 180, false, [1, 2, 3, 1, 2, 3], {\"key\": \"value\", \"newkey\": null}]\n",
    "\n",
    "**Примечание 2.** При открытии файла используйте явное указание кодировки UTF-8."
   ]
  },
  {
   "cell_type": "code",
   "execution_count": 26,
   "id": "d69529fd-5d8e-4f52-8007-aa0e3f700081",
   "metadata": {},
   "outputs": [],
   "source": [
    "import json\n",
    "\n",
    "with open('../data/data_4_4_7.json', 'r', encoding='utf-8') as in_file:\n",
    "    data = json.load(in_file)\n",
    "json_to_save = []\n",
    "for item in data:\n",
    "    if isinstance(item, str):\n",
    "        json_to_save.append(item + '!')\n",
    "    elif isinstance(item, bool):\n",
    "        json_to_save.append(not item)\n",
    "    elif isinstance(item, int):\n",
    "        json_to_save.append(item + 1)\n",
    "    elif isinstance(item, list):\n",
    "        json_to_save.append(item * 2)\n",
    "    elif isinstance(item, dict):\n",
    "        json_to_save.append({**item, **{'newkey': None}})\n",
    "\n",
    "with open('../data/updated_data.json', 'w', encoding='utf-8') as out_file:\n",
    "    json.dump(json_to_save, out_file)"
   ]
  },
  {
   "cell_type": "code",
   "execution_count": null,
   "id": "1a642c93-2d1a-4315-956c-666b8f362ad7",
   "metadata": {},
   "outputs": [],
   "source": [
    "'''\n",
    "import json\n",
    "\n",
    "with open('data.json', encoding='utf-8') as file, open('updated_data.json', 'w', encoding='utf-8') as new_file:\n",
    "    data = json.load(file)\n",
    "    conv_values = {\n",
    "        str: lambda x: x + '!',\n",
    "        int: lambda x: x + 1,\n",
    "        bool: lambda x: not x,\n",
    "        list: lambda x: x * 2,\n",
    "        dict: lambda x: {**x, \"newkey\": None},\n",
    "    }\n",
    "    new_data = []\n",
    "    for d in data:\n",
    "        if type(d) in conv_values:\n",
    "            new_data.append(conv_values[type(d)](d))\n",
    "    json.dump(new_data, new_file, indent=2)\n",
    "'''"
   ]
  }
 ],
 "metadata": {
  "kernelspec": {
   "display_name": "Python 3 (ipykernel)",
   "language": "python",
   "name": "python3"
  },
  "language_info": {
   "codemirror_mode": {
    "name": "ipython",
    "version": 3
   },
   "file_extension": ".py",
   "mimetype": "text/x-python",
   "name": "python",
   "nbconvert_exporter": "python",
   "pygments_lexer": "ipython3",
   "version": "3.9.16"
  }
 },
 "nbformat": 4,
 "nbformat_minor": 5
}
