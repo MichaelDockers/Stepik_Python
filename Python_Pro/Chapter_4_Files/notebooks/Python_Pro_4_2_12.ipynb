{
 "cells": [
  {
   "cell_type": "markdown",
   "id": "50c65f10-72f1-4984-885b-0fcd4ca20b53",
   "metadata": {},
   "source": [
    "## Task \"Возрастание классов 🌶️\"\n",
    "Вам доступен файл student_counts.csv, который содержит данные о количестве учеников в некотором учебном заведении за период 2000 — \n",
    "2021 г. В первом столбце записан год, в последующих столбцах записан класс и количество учеников в данном классе в этом году:\n",
    "\n",
    "year,5-Б,3-Б,8-А,2-Г,7-Б,1-Б,3-Г,3-А,2-В,6-Б,6-А,8-Б,8-Г,11-А,2-А,7-А,5-А,2-Б,10-А,11-Б,8-В,4-А,7-В,3-В,1-А,9-А,11-В  \n",
    "2000,19,15,18,29,19,17,26,29,28,30,26,27,27,22,29,19,27,20,16,18,15,27,19,29,22,20,23  \n",
    "2001,21,30,22,19,26,20,24,27,20,30,24,30,29,21,20,19,29,27,23,25,30,30,23,22,22,18,22  \n",
    "...\n",
    "\n",
    "Напишите программу, которая записывает данную таблицу в файл sorted_student_counts.csv, располагая все столбцы в порядке возрастания классов, при совпадении классов — в порядке возрастания букв.\n",
    "\n",
    "**Примечание 1.** Каждый класс содержит номер и букву и записывается в следующем формате:\n",
    "\n",
    "<номер класса>-<буква класса>\n",
    "\n",
    "**Примечание 2.** Разделителем в файле student_counts.csv является запятая, при этом кавычки не используются.\n",
    "\n",
    "**Примечание 3.** Начальная часть файла sorted_student_counts.csv выглядит так:\n",
    "\n",
    "year,1-А,1-Б,2-А,2-Б,...  \n",
    "2000,22,17,29,20,...  \n",
    "2001,22,20,20,27,...  \n",
    "...\n",
    "\n",
    "**Примечание 4.** При открытии файла используйте явное указание кодировки UTF-8."
   ]
  },
  {
   "cell_type": "code",
   "execution_count": 27,
   "id": "d3fc8135-81c1-4831-b249-cffd01480963",
   "metadata": {},
   "outputs": [],
   "source": [
    "import csv\n",
    "\n",
    "with open('../data/student_counts.csv', 'r', encoding='utf-8') as in_file, open('../data/sorted_student_counts.csv', 'w', encoding='utf-8') as out_file:\n",
    "    data = csv.DictReader(in_file)\n",
    "    sorted_columns = [data.fieldnames[0]] + sorted(data.fieldnames[1:], key=lambda x: (int(x.split('-')[0]), x.split('-')[-1]))\n",
    "    \n",
    "    writer = csv.DictWriter(out_file, fieldnames=sorted_columns)\n",
    "    writer.writeheader()\n",
    "    writer.writerows(list(data))"
   ]
  }
 ],
 "metadata": {
  "kernelspec": {
   "display_name": "Python 3 (ipykernel)",
   "language": "python",
   "name": "python3"
  },
  "language_info": {
   "codemirror_mode": {
    "name": "ipython",
    "version": 3
   },
   "file_extension": ".py",
   "mimetype": "text/x-python",
   "name": "python",
   "nbconvert_exporter": "python",
   "pygments_lexer": "ipython3",
   "version": "3.9.16"
  }
 },
 "nbformat": 4,
 "nbformat_minor": 5
}
