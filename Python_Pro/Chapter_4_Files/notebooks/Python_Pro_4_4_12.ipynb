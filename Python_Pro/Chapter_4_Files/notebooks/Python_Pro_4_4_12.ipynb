{
 "cells": [
  {
   "cell_type": "markdown",
   "id": "0d225bf3-69bb-4bf6-b080-227b1fde0590",
   "metadata": {},
   "source": [
    "## Task \"Студенты курса\"\n",
    "\n",
    "Вам доступен файл students.json, содержащий список JSON-объектов, которые представляют данные о студентах некоторого курса:\n",
    "\n",
    "[  \n",
    "   {  \n",
    "      \"name\": \"Holly-Anne\",  \n",
    "      \"city\": \"Abilene\",  \n",
    "      \"age\": 29,  \n",
    "      \"progress\": 85,  \n",
    "      \"phone\": \"(802) 983-9126\"  \n",
    "   },  \n",
    "   ...  \n",
    "]\n",
    "\n",
    "Под «студентом» мы будем подразумевать один JSON-объект из этого списка. У студента имеются следующие атрибуты:\n",
    "\n",
    "* name — имя \n",
    "* city — город проживания\n",
    "* age — возраст\n",
    "* progress — прогресс по курсу в процентах\n",
    "* phone— контактный номер\n",
    "\n",
    "Напишите программу, которая определяет студентов, удовлетворяющих следующим условиям:\n",
    "\n",
    "* возраст 18 лет или более  \n",
    "* прогресс по курсу 75% или более  \n",
    "\n",
    "Программа должна создать файл data.csv с двумя столбцами — name (имя) и phone (номер), и записать в него данные выбранных студентов, расположив их в лексикографическом порядке имён. В качестве разделителя в файле data.csv должна быть использована запятая.\n",
    "\n",
    "**Примечание 1.** Гарантируется, что все студенты имеют различные имена.\n",
    "\n",
    "**Примечание 2.** Начальная часть файла data.csv выглядит так:\n",
    "\n",
    "name,phone \n",
    "Cary,(580) 476-8517 \n",
    "Catarina,(237) 608-2757 \n",
    "Catherin,(876) 215-3666 \n",
    "...\n",
    "\n",
    "**Примечание 3.** При открытии файла используйте явное указание кодировки UTF-8."
   ]
  },
  {
   "cell_type": "code",
   "execution_count": 12,
   "id": "2a57c392-03fd-4d62-a945-4879530a881e",
   "metadata": {},
   "outputs": [],
   "source": [
    "import csv\n",
    "import json\n",
    "\n",
    "\n",
    "with open('../data/students.json', 'r', encoding='utf-8') as file:\n",
    "    data = json.load(file)\n",
    "    selected_students = [(item['name'], item['phone']) for item in data if (item['age'] >= 18 and item['progress'] >= 75)]\n",
    "\n",
    "with open('../data/data_4_4_12.csv', 'w', encoding='utf-8') as out_file:\n",
    "    writer = csv.writer(out_file)\n",
    "    writer.writerow(['name', 'phone'])\n",
    "    writer.writerows(sorted(selected_students, key=lambda x: x[0]))"
   ]
  }
 ],
 "metadata": {
  "kernelspec": {
   "display_name": "Python 3 (ipykernel)",
   "language": "python",
   "name": "python3"
  },
  "language_info": {
   "codemirror_mode": {
    "name": "ipython",
    "version": 3
   },
   "file_extension": ".py",
   "mimetype": "text/x-python",
   "name": "python",
   "nbconvert_exporter": "python",
   "pygments_lexer": "ipython3",
   "version": "3.9.16"
  }
 },
 "nbformat": 4,
 "nbformat_minor": 5
}
