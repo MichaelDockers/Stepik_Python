{
 "cells": [
  {
   "cell_type": "markdown",
   "id": "ee34e794-5d7d-4303-b81a-fcd39f2d1813",
   "metadata": {},
   "source": [
    "## Task\n",
    "Дополните приведенный ниже код, чтобы он преобразовал словарь words в строку в формате JSON, пропуская пары, которые имеют недопустимые ключи, и присвоил полученный результат переменной data_json.\n",
    "\n",
    "**Примечание.** Используйте необязательный аргумент skipkeys."
   ]
  },
  {
   "cell_type": "code",
   "execution_count": 1,
   "id": "5fa171db-e91c-4f57-aa4e-8f08165420f0",
   "metadata": {},
   "outputs": [
    {
     "name": "stdout",
     "output_type": "stream",
     "text": [
      "{\"travel\": \"tr\\u00e6vl\", \"moonlight\": \"mu\\u02d0n.la\\u026at\", \"sunshine\": \"\\u02c8s\\u028cn.\\u0283a\\u026an\", \"adventure\": \"\\u0259d\\u02c8vent\\u0283\\u0259r\", \"beautiful\": \"\\u02c8bju\\u02d0t\\u026afl\", \"bicycle\": \"baisikl\"}\n"
     ]
    }
   ],
   "source": [
    "import json\n",
    "\n",
    "words = {\n",
    "         frozenset([\"tap\", \"telephone\"]): (\"tæp\", \"telifəun\"),\n",
    "         \"travel\": \"trævl\",\n",
    "         (\"hello\", \"world\"): (\"həˈləʊ\", \"wɜːld\"),\n",
    "         \"moonlight\": \"muːn.laɪt\",\n",
    "         \"sunshine\": \"ˈsʌn.ʃaɪn\",\n",
    "         (\"why\", \"is\", \"so\", \"difficult\"): (\"waɪ\", \"ɪz\", \"səʊ\", \"ˈdɪfɪkəlt\"),\n",
    "         \"adventure\": \"ədˈventʃər\",\n",
    "         \"beautiful\": \"ˈbjuːtɪfl\",\n",
    "         frozenset([\"spoon\", \"block\"]): (\"spu:n\", \"blɔk\"),\n",
    "         \"bicycle\": \"baisikl\",\n",
    "         (\"pilot\", \"fly\"): (\"pailət\", \"flai\")\n",
    "        }\n",
    "\n",
    "data_json = json.dumps(words, skipkeys=True)\n",
    "\n",
    "print(data_json)"
   ]
  }
 ],
 "metadata": {
  "kernelspec": {
   "display_name": "Python 3 (ipykernel)",
   "language": "python",
   "name": "python3"
  },
  "language_info": {
   "codemirror_mode": {
    "name": "ipython",
    "version": 3
   },
   "file_extension": ".py",
   "mimetype": "text/x-python",
   "name": "python",
   "nbconvert_exporter": "python",
   "pygments_lexer": "ipython3",
   "version": "3.9.16"
  }
 },
 "nbformat": 4,
 "nbformat_minor": 5
}
