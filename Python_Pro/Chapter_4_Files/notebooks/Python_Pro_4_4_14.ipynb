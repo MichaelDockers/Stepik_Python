{
 "cells": [
  {
   "cell_type": "markdown",
   "id": "867f5e6a-7c3d-4f6c-ab9d-f9c4007d1e2e",
   "metadata": {},
   "source": [
    "## Task \"Результаты экзамена 🌶️\"\n",
    "\n",
    "Вам доступен файл exam_results.csv, который содержит информацию о прошедшем экзамене в некотором учебном заведении. В первом столбце записано имя студента, во втором — фамилия, в третьем — оценка за экзамен, в четвертом — дата и время сдачи в формате YYYY-MM-DD HH:MM:SS, в пятом — адрес электронной почты:\n",
    "\n",
    "name,surname,score,date_and_time,email  \n",
    "Jayson,Edwards,2,2021-11-10 10:00:00,sonnen@yahoo.com  \n",
    "April,Sims,3,2021-11-01 11:00:00,retoh@outlook.com  \n",
    "...\n",
    "\n",
    "Каждый студент имеет право пересдать экзамен два раза, поэтому он может встречаться в исходном файле до трёх раз с различной оценкой и различными датой и временем сдачи.\n",
    "\n",
    "Напишите программу, которая для каждого студента определяет его максимальную оценку, а также дату и время ее получения. Программа должна создать список словарей, каждый из которых содержит следующие пары ключ-значение:\n",
    "\n",
    "* name — имя студента\n",
    "* surname — фамилия студента\n",
    "* best_score — максимальная оценка за экзамен\n",
    "* date_and_time — дата и время получения максимальной оценки в исходном формате\n",
    "* email — адрес электронной почты\n",
    "\n",
    "Полученный список программа должна записать в файл best_scores.json, причем словари в списке должны быть расположены в лексикографическом порядке названий электронных почт.\n",
    "\n",
    "**Примечание 1.** Если при пересдаче студент получил такую же оценку, что и в прошлый раз, то в качестве даты следует указать дату пересдачи.\n",
    "\n",
    "**Примечание 2.** В качестве разделителя в файле exam_results.csv используется запятая, при этом кавычки не используются.\n",
    "\n",
    "**Примечание 3.** Начальная часть файла best_scores.json выглядит так:\n",
    "\n",
    "[  \n",
    "   {  \n",
    "      \"name\": \"Stephen\",  \n",
    "      \"surname\": \"Farley\",  \n",
    "      \"best_score\": 3,  \n",
    "      \"date_and_time\": \"2021-11-12 12:00:00\",  \n",
    "      \"email\": \"aardo@mac.com\"  \n",
    "   },  \n",
    "   {  \n",
    "      \"name\": \"Kaylen\",  \n",
    "      \"surname\": \"Horne\",  \n",
    "      \"best_score\": 4,  \n",
    "      \"date_and_time\": \"2021-11-09 11:00:00\",  \n",
    "      \"email\": \"aaribaud@att.net\"  \n",
    "   },  \n",
    "   ...  \n",
    "]  \n",
    "\n",
    "**Примечание 4.** При открытии файла используйте явное указание кодировки UTF-8."
   ]
  },
  {
   "cell_type": "code",
   "execution_count": 64,
   "id": "354931a1-1a0f-48d6-a477-7dc025bcc335",
   "metadata": {},
   "outputs": [],
   "source": [
    "import json\n",
    "import csv\n",
    "from datetime import datetime\n",
    "\n",
    "\n",
    "students_dict = {}\n",
    "best_score_list = []\n",
    "with open('../data/exam_results.csv', 'r', encoding='utf-8') as file:\n",
    "    data = list(csv.reader(file))\n",
    "    columns = data[0]\n",
    "    for x in data[1:]:\n",
    "        students_dict.setdefault(x[4], []).append(x[: 4])\n",
    "\n",
    "for key, value in students_dict.items():\n",
    "    n, s, bs, d = max(value, key=lambda x: (int(x[2]), datetime.strptime(x[3], '%Y-%m-%d %H:%M:%S')))\n",
    "    best_score_list.append({'name': n, 'surname': s, 'best_score': int(bs), 'date_and_time': d, 'email': key})\n",
    "\n",
    "with open('../data/best_scores.json', 'w', encoding='utf-8') as out_file:\n",
    "    json.dump(sorted(best_score_list, key=lambda x: x['email']), out_file)"
   ]
  }
 ],
 "metadata": {
  "kernelspec": {
   "display_name": "Python 3 (ipykernel)",
   "language": "python",
   "name": "python3"
  },
  "language_info": {
   "codemirror_mode": {
    "name": "ipython",
    "version": 3
   },
   "file_extension": ".py",
   "mimetype": "text/x-python",
   "name": "python",
   "nbconvert_exporter": "python",
   "pygments_lexer": "ipython3",
   "version": "3.9.16"
  }
 },
 "nbformat": 4,
 "nbformat_minor": 5
}
