{
 "cells": [
  {
   "cell_type": "markdown",
   "id": "0f211d23-5e4c-4b46-9f58-01db11370d3c",
   "metadata": {},
   "source": [
    "## Task\n",
    "\n",
    "Вам доступен набор различных файлов, названия которых представлены в списке file_names. Также вам доступен архив files.zip. Дополните приведенный ниже код, чтобы он добавил в архив files.zip только те файлы из списка file_names, объем которых не превышает 100 байт.\n",
    "\n",
    "**Примечание 1.** Получить объем файла в байтах позволяет функция getsize() из модуля os.path. Данная функция принимает в качестве аргумента путь к файлу и возвращает размер указанного файла в байтах.\n",
    "\n",
    "*Например, вычислить объем архива files.zip в байтах и сохранить его в переменную size можно следующим образом:*\n",
    "\n",
    "import os.path  \n",
    "size = os.path.getsize('files.zip')  \n",
    "\n",
    "**Примечание 2.** Вычислить объем файла в байтах можно и вручную, не прибегая к использованию сторонних модулей. Подумайте, как 😉."
   ]
  },
  {
   "cell_type": "code",
   "execution_count": null,
   "id": "1e5275e4-60ce-4e1f-95eb-616a4187ceb9",
   "metadata": {},
   "outputs": [],
   "source": [
    "from zipfile import ZipFile\n",
    "\n",
    "file_names = ['how to prove.pdf', 'fipi_demo_2022.pdf', 'Hollow Knight Silksong.exe',\n",
    "              'code.jpeg', 'stepik.png', 'readme.txt', 'shopping_list.txt',\n",
    "              'Alexandra Savior – Crying All the Time.mp3', 'homework.py', 'test.py']\n",
    "\n",
    "with ZipFile('files.zip', 'a') as zip_file:\n",
    "    for file in file_names:\n",
    "        with open(file, 'rb') as file:\n",
    "            if len(file.read()) <= 100:\n",
    "                zip_file.write(file)"
   ]
  }
 ],
 "metadata": {
  "kernelspec": {
   "display_name": "Python 3 (ipykernel)",
   "language": "python",
   "name": "python3"
  },
  "language_info": {
   "codemirror_mode": {
    "name": "ipython",
    "version": 3
   },
   "file_extension": ".py",
   "mimetype": "text/x-python",
   "name": "python",
   "nbconvert_exporter": "python",
   "pygments_lexer": "ipython3",
   "version": "3.9.16"
  }
 },
 "nbformat": 4,
 "nbformat_minor": 5
}
