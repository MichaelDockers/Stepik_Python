{
 "cells": [
  {
   "cell_type": "markdown",
   "id": "973b9232-1b81-4984-b61e-e730d64c0c7b",
   "metadata": {},
   "source": [
    "## Task \"Объединение объектов\"\n",
    "\n",
    "Вам доступны два файла data1.json и data2.json, каждый из которых содержит по единственному JSON-объекту:\n",
    "\n",
    "{  \n",
    "   \"Holly-Anne\": [  \n",
    "      33,  \n",
    "      \"failed\"  \n",
    "   ],  \n",
    "   \"Caty\": [  \n",
    "      36,  \n",
    "      \"failed\"  \n",
    "   ],  \n",
    "   ...  \n",
    "}\n",
    "\n",
    "Напишите программу, которая объединяет два данных JSON-объекта в один JSON-объект, причем если пары из первого и второго объектов имеют совпадающие ключи, то значение следует взять из второго объекта. Полученный JSON-объект программа должна записать в файл data_merge.json.\n",
    "\n",
    "**Примечание 1.** Например, если бы файлы data1.json и data2.json имели вид:\n",
    "\n",
    "{  \n",
    "   \"Timur\": 99,  \n",
    "   \"Anri\": 97  \n",
    "}  \n",
    "{  \n",
    "   \"Dima\": 99,  \n",
    "   \"Anri\": 100  \n",
    "}\n",
    "\n",
    "то программа должна была бы создать файл data_merge.json со следующим содержанием:\n",
    "\n",
    "{  \n",
    "   \"Anri\": 100,  \n",
    "   \"Dima\": 99,  \n",
    "   \"Timur\": 99  \n",
    "}\n",
    "\n",
    "**Примечание 2.** Элементы в результирующем JSON-объекте могут располагаться в произвольном порядке.\n",
    "\n",
    "**Примечание 3.** При открытии файла используйте явное указание кодировки UTF-8."
   ]
  },
  {
   "cell_type": "code",
   "execution_count": 5,
   "id": "887c5cbd-1431-473b-9ef5-0384824f043c",
   "metadata": {},
   "outputs": [],
   "source": [
    "import json\n",
    "\n",
    "\n",
    "coding = 'utf-8'\n",
    "with open('../data/data1.json', 'r', encoding=coding) as file1, open('../data/data2.json', 'r', encoding=coding) as file2:\n",
    "    json_1 = json.load(file1)\n",
    "    json_2 = json.load(file2)\n",
    "\n",
    "with open('../data/data_merge.json', 'w', encoding=coding) as out_file:\n",
    "    merged_json = json_1 |json_2\n",
    "    json.dump(merged_json, out_file)"
   ]
  }
 ],
 "metadata": {
  "kernelspec": {
   "display_name": "Python 3 (ipykernel)",
   "language": "python",
   "name": "python3"
  },
  "language_info": {
   "codemirror_mode": {
    "name": "ipython",
    "version": 3
   },
   "file_extension": ".py",
   "mimetype": "text/x-python",
   "name": "python",
   "nbconvert_exporter": "python",
   "pygments_lexer": "ipython3",
   "version": "3.9.16"
  }
 },
 "nbformat": 4,
 "nbformat_minor": 5
}
