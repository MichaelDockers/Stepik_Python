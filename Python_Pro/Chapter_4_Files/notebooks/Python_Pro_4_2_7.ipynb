{
 "cells": [
  {
   "cell_type": "markdown",
   "id": "bfc5b7ae-9a68-4883-925a-6ba90a77ce02",
   "metadata": {},
   "source": [
    "## Task \"Популярные домены\"\n",
    "Вам доступен файл data.csv, который содержит неповторяющиеся данные о пользователях некоторого ресурса. В первом столбце записано имя пользователя, во втором — фамилия, в третьем — адрес электронной почты:\n",
    "\n",
    "first_name,surname,email  \n",
    "John,Wilson,johnwilson@outlook.com  \n",
    "Mary,Wilson,marywilson@list.ru  \n",
    "...\n",
    "\n",
    "Напишите программу, которая создает файл domain_usage.csv, имеющий следующее содержание:\n",
    "\n",
    "domain,count  \n",
    "rambler.ru,24  \n",
    "iCloud.com,29  \n",
    "...\n",
    "\n",
    "где в первом столбце записано название почтового домена, а во втором — количество пользователей, использующих данный домен. Домены в файле должны быть расположены в порядке возрастания количества их использований, при совпадении количества использований — в лексикографическом порядке.\n",
    "\n",
    "**Примечание 1.** Разделителем в файле data.csv является запятая, при этом кавычки не используются.\n",
    "\n",
    "**Примечание 2.** Начальная часть файла domain_usage.csv выглядит так:\n",
    "\n",
    "domain,count  \n",
    "rambler.ru,24  \n",
    "iCloud.com,29  \n",
    "...\n",
    "\n",
    "**Примечание 3.** При открытии файла используйте явное указание кодировки UTF-8."
   ]
  },
  {
   "cell_type": "code",
   "execution_count": 21,
   "id": "33d94f1e-4561-43cf-b82c-718b88f2b63b",
   "metadata": {},
   "outputs": [],
   "source": [
    "import csv\n",
    "\n",
    "domains_counter = {}\n",
    "with open('../data/data.csv', 'r', encoding='utf-8') as file:\n",
    "    domains = [x['email'].split('@')[1] for x in csv.DictReader(file)]\n",
    "\n",
    "for domain in domains:\n",
    "    domains_counter[domain] = domains_counter.get(domain, 0) + 1\n",
    "sorted_domains = sorted(domains_counter.items(), key=lambda x: (x[1], x[0]))\n",
    "columns = ['domain', 'count']\n",
    "with open('../data/domain_usage.csv', 'w', encoding='utf-8', newline='') as file:\n",
    "    writer = csv.writer(file)\n",
    "    writer.writerow(columns)\n",
    "    for row in sorted_domains:\n",
    "        writer.writerow(row)"
   ]
  }
 ],
 "metadata": {
  "kernelspec": {
   "display_name": "Python 3 (ipykernel)",
   "language": "python",
   "name": "python3"
  },
  "language_info": {
   "codemirror_mode": {
    "name": "ipython",
    "version": 3
   },
   "file_extension": ".py",
   "mimetype": "text/x-python",
   "name": "python",
   "nbconvert_exporter": "python",
   "pygments_lexer": "ipython3",
   "version": "3.9.16"
  }
 },
 "nbformat": 4,
 "nbformat_minor": 5
}
