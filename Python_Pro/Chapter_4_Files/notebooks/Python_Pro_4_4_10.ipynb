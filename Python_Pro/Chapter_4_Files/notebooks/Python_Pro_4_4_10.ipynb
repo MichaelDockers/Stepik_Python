{
 "cells": [
  {
   "cell_type": "markdown",
   "id": "06fa5c28-5ce5-482c-baa0-1f57968a4c4f",
   "metadata": {},
   "source": [
    "## Task \"Я исповедую Python, а ты?\"\n",
    "\n",
    "Вам доступен файл countries.json, содержащий список JSON-объектов c информацией о странах и исповедуемых в них религиях:\n",
    "\n",
    "[  \n",
    "   {\n",
    "      \"country\": \"Afghanistan\",  \n",
    "      \"religion\": \"Islam\"  \n",
    "   },  \n",
    "   {  \n",
    "      \"country\": \"Albania\",  \n",
    "      \"religion\": \"Islam\"  \n",
    "   },  \n",
    "   ...  \n",
    "]  \n",
    "\n",
    "Каждый объект из этого списка содержит два атрибута:\n",
    "\n",
    "* country — страна\n",
    "* religion — исповедуемая религия\n",
    "\n",
    "Напишите программу, которая создает единственный JSON-объект, имеющий в качестве ключа название религии, а в качестве значения — список стран, в которых исповедуется данная религия. Полученный JSON-объект программа должна записать в файл religion.json.\n",
    "\n",
    "***Примечание 1.** Страны в списках должны располагаться в своем исходном порядке.\n",
    "\n",
    "**Примечание 2.** Начальная часть файла religion.json выглядит так:\n",
    "\n",
    "{  \n",
    "   \"Islam\":[  \n",
    "      \"Afghanistan\",  \n",
    "      \"Albania\",  \n",
    "      \"Algeria\",  \n",
    "      ...  \n",
    "   ],  \n",
    "   ...  \n",
    "}\n",
    "\n",
    "**Примечание 3.** При открытии файла используйте явное указание кодировки UTF-8."
   ]
  },
  {
   "cell_type": "code",
   "execution_count": 11,
   "id": "fea19277-ee94-4d76-afb3-448f86bf2dca",
   "metadata": {},
   "outputs": [],
   "source": [
    "import json\n",
    "\n",
    "with open('../data/countries.json', 'r', encoding='utf-8') as file:\n",
    "    data = json.load(file)\n",
    "\n",
    "religion_dict = {}\n",
    "for item in data:\n",
    "    religion_dict[item['religion']] = religion_dict.get(item['religion'], []) + [item['country']]\n",
    "\n",
    "with open('../data/religion.json', 'w', encoding='utf-8') as out_file:\n",
    "    json.dump(religion_dict, out_file)"
   ]
  }
 ],
 "metadata": {
  "kernelspec": {
   "display_name": "Python 3 (ipykernel)",
   "language": "python",
   "name": "python3"
  },
  "language_info": {
   "codemirror_mode": {
    "name": "ipython",
    "version": 3
   },
   "file_extension": ".py",
   "mimetype": "text/x-python",
   "name": "python",
   "nbconvert_exporter": "python",
   "pygments_lexer": "ipython3",
   "version": "3.9.16"
  }
 },
 "nbformat": 4,
 "nbformat_minor": 5
}
