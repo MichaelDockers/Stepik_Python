{
 "cells": [
  {
   "cell_type": "markdown",
   "id": "9f882028-1629-4a96-b293-0aa49a778f75",
   "metadata": {
    "tags": []
   },
   "source": [
    "## Task \"Проще, чем кажется 🌶️\"\n",
    "Рассмотрим следующий текстовый фрагмент:\n",
    "\n",
    "ball,color,purple  \n",
    "ball,size,4  \n",
    "ball,notes,it's round  \n",
    "cup,color,blue  \n",
    "cup,size,1  \n",
    "cup,notes,none  \n",
    "\n",
    "Каждая строка этого фрагмента содержит три значения через запятую: имя объекта, свойство этого объекта, значение свойства. Например, в первой строке указан объект ball, имеющий свойство color, значение которого равно purple. Также у объекта ball есть свойства size и notes, имеющие значения 4 и it's round соответственно. Помимо объекта ball имеется объект cup, имеющий те же свойства и в том же количестве. Дадим этим объектам общее название object и сгруппируем строки данного текстового фрагмента по первому столбцу:\n",
    "\n",
    "object,color,size,notes  \n",
    "ball,purple,4,it's round  \n",
    "cup,blue,1,none  \n",
    "\n",
    "Мы получили запись в привычном CSV формате, в котором в первом столбце указывается имя объекта, а в последующих — значения соответствующих свойств этого объекта.\n",
    "\n",
    "Реализуйте функцию **condense_csv()**, которая принимает два аргумента в следующем формате:\n",
    "\n",
    "* *filename* — название csv файла, например, data.csv; формат содержимого файла аналогичен формату текстового фрагмента, рассмотренного в условии задачи: каждая строка файла содержит три значения через запятую, а именно имя объекта, свойство этого объекта, значение свойства; все объекты имеют равные свойства и в равных количествах\n",
    "* *id_name* — общее название для объектов\n",
    "\n",
    "Функция должна привести содержимое файла в привычный CSV формат, сгруппировав строки по первому столбцу и назвав первый столбец id_name. Полученный результат функция должна записать в файл condensed.csv.\n",
    "\n",
    "**Примечание 1.** Например, если бы файл data.csv имел следующий вид:\n",
    "\n",
    "01,Title,Ran So Hard the Sun Went Down  \n",
    "02,Title,Honky Tonk Heroes (Like Me)  \n",
    "\n",
    "то вызов функции condense_csv():\n",
    "\n",
    "**condense_csv('data.csv', id_name='ID')**\n",
    "\n",
    "должен был бы создать файл condensed.csv со следующим содержанием:\n",
    "\n",
    "ID,Title  \n",
    "01,Ran So Hard the Sun Went Down  \n",
    "02,Honky Tonk Heroes (Like Me)  \n",
    "\n",
    "**Примечание 2.** Гарантируется, что в передаваемом в функцию csv файле разделителем является запятая, при этом кавычки не используются.\n",
    "\n",
    "**Примечание 3.** При открытии файла используйте явное указание кодировки UTF-8.\n",
    "\n",
    "**Примечание 4.** В тестирующую систему сдайте программу, содержащую только необходимую функцию condense_csv(), но не код, вызывающий ее.\n",
    "\n"
   ]
  },
  {
   "cell_type": "code",
   "execution_count": 70,
   "id": "90f51b6e-9ec6-4431-9d2e-91ef1af012a3",
   "metadata": {},
   "outputs": [],
   "source": [
    "import csv\n",
    "\n",
    "def condense_csv(file_name: str, id_name='ID'):\n",
    "    valid_csv = {}\n",
    "    columns = [id_name]\n",
    "    with open(file_name, 'r', encoding='utf-8') as file:\n",
    "        for key, *value in csv.reader(file):\n",
    "            if value[0] not in columns:\n",
    "                columns.append(value[0])\n",
    "            valid_csv.setdefault(key, []).append(value)\n",
    "   \n",
    "    with open('../data/condensed.csv', 'w', encoding='utf-8') as w_file:\n",
    "        writer = csv.DictWriter(w_file, fieldnames=columns)\n",
    "        writer.writeheader()\n",
    "        for key, value in valid_csv.items():\n",
    "            writer.writerow(dict([[id_name, key], *value]))\n",
    "\n",
    "            \n",
    "file_name = '../data/test_4_2_11_1.csv'\n",
    "\n",
    "condense_csv(file_name, 'ID')"
   ]
  }
 ],
 "metadata": {
  "kernelspec": {
   "display_name": "Python 3 (ipykernel)",
   "language": "python",
   "name": "python3"
  },
  "language_info": {
   "codemirror_mode": {
    "name": "ipython",
    "version": 3
   },
   "file_extension": ".py",
   "mimetype": "text/x-python",
   "name": "python",
   "nbconvert_exporter": "python",
   "pygments_lexer": "ipython3",
   "version": "3.9.16"
  }
 },
 "nbformat": 4,
 "nbformat_minor": 5
}
