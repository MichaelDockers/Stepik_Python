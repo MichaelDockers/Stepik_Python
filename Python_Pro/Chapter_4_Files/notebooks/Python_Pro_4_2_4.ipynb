{
 "cells": [
  {
   "cell_type": "markdown",
   "id": "a498eb2b-5a57-4908-9f0f-47049dee1692",
   "metadata": {},
   "source": [
    "## Task \"Средняя зарплата'\n",
    "\n",
    "Вам доступен файл salary_data.csv, который содержит анонимную информацию о зарплатах сотрудников в различных компаниях. В первом столбце записано название компании, а во втором — зарплата очередного сотрудника:\n",
    "\n",
    "company_name;salary  \n",
    "Atos;135000  \n",
    "ХайТэк;24400  \n",
    "Philax;128600  \n",
    "Инлайн Груп;43900  \n",
    "IBS;70600  \n",
    "Oracle;131600  \n",
    "Atos;91000  \n",
    "...\n",
    "\n",
    "Напишите программу, которая упорядочивает компании по возрастанию средней зарплаты ее сотрудников и выводит их названия, каждое на отдельной строке. Если две компании имеют одинаковые средние зарплаты, они должны быть расположены в лексикографическом порядке их названий.\n",
    "\n",
    "**Примечание 1.** Средняя зарплата компании определяется как отношение суммы всех зарплат к их количеству.\n",
    "\n",
    "**Примечание 2.** Разделителем в файле salary_data.csv является точка с запятой, при этом кавычки не используются.\n",
    "\n",
    "**Примечание 3.** Начальная часть ответа выглядит так:\n",
    "\n",
    "Информзащита  \n",
    "Форс  \n",
    "OFT group  \n",
    "...\n",
    "\n",
    "**Примечание 4.** При открытии файла используйте явное указание кодировки UTF-8."
   ]
  },
  {
   "cell_type": "code",
   "execution_count": 32,
   "id": "b927b9b8-d254-42ad-b6f0-6c5ea5c87c5c",
   "metadata": {},
   "outputs": [
    {
     "name": "stdout",
     "output_type": "stream",
     "text": [
      "Информзащита\n",
      "Форс\n",
      "OFT group\n",
      "Oracle\n",
      "Atos\n",
      "Микрон\n",
      "Гринатом\n",
      "ХайТэк\n",
      "Сател\n",
      "Лига Цифровой Экономики\n",
      "TerraLink\n",
      "АйТеко\n",
      "Itransition\n",
      "Эвотор\n",
      "Angara\n",
      "OCS Distribution\n",
      "Hikvision\n",
      "Тринити\n",
      "iCore\n",
      "Ростелеком\n",
      "Сигма\n",
      "Аквариус\n",
      "Philax\n",
      "Softline\n",
      "IBS\n",
      "Инфосистемы Джет\n",
      "Ситроникс\n",
      "ИнфоТеКС\n",
      "Инлайн Груп\n",
      "Элтекс\n"
     ]
    }
   ],
   "source": [
    "import csv\n",
    "\n",
    "salary_dict = {}\n",
    "\n",
    "with open('../data/salary_data.csv', 'r', encoding='utf-8') as file:\n",
    "    data = [row for row in csv.DictReader(file, delimiter=';')]\n",
    "    for row in data[1:]:\n",
    "        salary_dict.setdefault(row['company_name'], []).append(int(row['salary']))\n",
    "\n",
    "print(*[key for key, value in sorted(salary_dict.items(), key=lambda x: sum(x[1]) / len(x[1]))], sep='\\n')"
   ]
  }
 ],
 "metadata": {
  "kernelspec": {
   "display_name": "Python 3 (ipykernel)",
   "language": "python",
   "name": "python3"
  },
  "language_info": {
   "codemirror_mode": {
    "name": "ipython",
    "version": 3
   },
   "file_extension": ".py",
   "mimetype": "text/x-python",
   "name": "python",
   "nbconvert_exporter": "python",
   "pygments_lexer": "ipython3",
   "version": "3.9.16"
  }
 },
 "nbformat": 4,
 "nbformat_minor": 5
}
