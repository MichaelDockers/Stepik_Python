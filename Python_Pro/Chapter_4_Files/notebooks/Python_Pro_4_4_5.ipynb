{
 "cells": [
  {
   "cell_type": "markdown",
   "id": "5cc5f5ee-4962-4106-8c8c-273a8fc61494",
   "metadata": {},
   "source": [
    "## Task \"Функция is_correct_json()\"\n",
    "\n",
    "Реализуйте функцию is_correct_json(), которая принимает один аргумент:\n",
    "\n",
    "* string — произвольная строка\n",
    "\n",
    "Функция должна возвращать True, если строка string удовлетворяет формату JSON, или False в противном случае.\n",
    "\n",
    "**Примечание.** В тестирующую систему сдайте программу, содержащую только необходимую функцию is_correct_json(), но не код, вызывающий ее."
   ]
  },
  {
   "cell_type": "code",
   "execution_count": 15,
   "id": "50418aef-29b4-422b-bb16-7ea3c20f3340",
   "metadata": {},
   "outputs": [
    {
     "name": "stdout",
     "output_type": "stream",
     "text": [
      "False\n"
     ]
    }
   ],
   "source": [
    "import json\n",
    "\n",
    "\n",
    "def is_correct_json(data):\n",
    "    try:\n",
    "        json.loads(data)\n",
    "        return True\n",
    "    except json.JSONDecodeError:\n",
    "        return False\n",
    "\n",
    "\n",
    "data = '''{\n",
    "        \"beegeek\": 2018,\n",
    "        (\"Timur\", \"Guev\"): 29,\n",
    "        (\"Artur\", \"Harisov\"): 20,\n",
    "        \"stepik\": 2013\n",
    "       }'''\n",
    "print(is_correct_json('number = 17'))"
   ]
  }
 ],
 "metadata": {
  "kernelspec": {
   "display_name": "Python 3 (ipykernel)",
   "language": "python",
   "name": "python3"
  },
  "language_info": {
   "codemirror_mode": {
    "name": "ipython",
    "version": 3
   },
   "file_extension": ".py",
   "mimetype": "text/x-python",
   "name": "python",
   "nbconvert_exporter": "python",
   "pygments_lexer": "ipython3",
   "version": "3.9.16"
  }
 },
 "nbformat": 4,
 "nbformat_minor": 5
}
