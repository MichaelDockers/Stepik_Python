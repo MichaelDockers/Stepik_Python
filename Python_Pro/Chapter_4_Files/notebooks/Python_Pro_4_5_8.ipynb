{
 "cells": [
  {
   "cell_type": "markdown",
   "id": "ae9cb93c-a334-4944-bf98-29e52c8cb7ea",
   "metadata": {},
   "source": [
    "## Task \"Функция extract_this()\"\n",
    "\n",
    "Реализуйте функцию extract_this(), которая принимает один или более аргументов в следующем порядке:\n",
    "\n",
    "* zip_name — название zip архива, например, data.zip\n",
    "* args — переменное количество позиционных аргументов, каждый из которых является названием некоторого файла\n",
    "\n",
    "Функция должна извлекать файлы * args из архива zip_name в папку с программой. Если в функцию не передано ни одного названия файла для извлечения, то функция должна извлечь все файлы из архива.\n",
    "\n",
    "**Примечание 1.** Например, следующий вызов функции\n",
    "\n",
    "extract_this('workbook.zip', 'earth.jpg', 'exam.txt')\n",
    "\n",
    "должен извлечь из архива workbook.zip файлы earth.jpg и exam.txt в папку с программой.\n",
    "\n",
    "**Вызов функции**\n",
    "\n",
    "extract_this('workbook.zip')\n",
    "\n",
    "должен извлечь из архива workbook.zip все файлы в папку с программой."
   ]
  },
  {
   "cell_type": "code",
   "execution_count": 4,
   "id": "e098a4e1-4cc1-474d-a91e-02ca43f4373e",
   "metadata": {},
   "outputs": [
    {
     "name": "stdout",
     "output_type": "stream",
     "text": [
      "('earth.jpg', 'exam.txt')\n"
     ]
    }
   ],
   "source": [
    "from zipfile import ZipFile\n",
    "\n",
    "\n",
    "def extract_this(arch_name, *args):\n",
    "    with ZipFile(arch_name, 'r') as zip_file:\n",
    "        zip_file.extractall(members=args or None)\n",
    "\n",
    "\n",
    "extract_this('workbook.zip', 'earth.jpg', 'exam.txt')"
   ]
  }
 ],
 "metadata": {
  "kernelspec": {
   "display_name": "Python 3 (ipykernel)",
   "language": "python",
   "name": "python3"
  },
  "language_info": {
   "codemirror_mode": {
    "name": "ipython",
    "version": 3
   },
   "file_extension": ".py",
   "mimetype": "text/x-python",
   "name": "python",
   "nbconvert_exporter": "python",
   "pygments_lexer": "ipython3",
   "version": "3.9.16"
  }
 },
 "nbformat": 4,
 "nbformat_minor": 5
}
