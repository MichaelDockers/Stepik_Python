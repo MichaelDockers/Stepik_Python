{
 "cells": [
  {
   "cell_type": "markdown",
   "id": "bef7cf3e-e75b-4c26-a394-2fe9b5eb354a",
   "metadata": {},
   "source": [
    "## Task \"Функция csv_columns()\"\n",
    "\n",
    "Реализуйте функцию *csv_columns()*, которая принимает один аргумент:\n",
    "\n",
    "* filename — название **csv** файла, например, **data.csv**  \n",
    "\n",
    "Функция должна возвращать словарь, в котором ключом является название столбца файла **filename**, а значением — список элементов этого столбца.\n",
    "\n",
    "**Примечание 1.** Гарантируется, что в передаваемом в функцию файле разделителем является запятая, при этом кавычки не используются.\n",
    "\n",
    "**Примечание 2.** Гарантируется, что у передаваемого в функцию файла первая строка содержит названия столбцов.\n",
    "\n",
    "**Примечание 3.** Например, если бы файл **exam.csv** имел вид:\n",
    "\n",
    "name,grade  \n",
    "Timur,5  \n",
    "Arthur,4  \n",
    "Anri,5  \n",
    "\n",
    "то следующий вызов функции **csv_columns()**:\n",
    "\n",
    "csv_columns('exam.csv')\n",
    "\n",
    "должен был бы вернуть:\n",
    "\n",
    "_{'name': ['Timur', 'Arthur', 'Anri'], 'grade': ['5', '4', '5']}_\n",
    "\n",
    "**Примечание 4.** Ключи в словаре, а также элементы в списках должны располагаться в своем исходном порядке.\n",
    "\n",
    "**Примечание 5.** В тестирующую систему сдайте программу, содержащую только необходимую функцию **csv_columns()**, но не код, вызывающий ее."
   ]
  },
  {
   "cell_type": "code",
   "execution_count": 31,
   "id": "fd404776-c393-4bc4-bd81-026b02d0d561",
   "metadata": {},
   "outputs": [
    {
     "name": "stdout",
     "output_type": "stream",
     "text": [
      "{'movie': ['Machete', \"Marvin's Room\", 'Raging Bull', \"This Boy's Life\", 'Silver Linings Playbook', 'Taxi Driver', 'Jackie Brown', 'Shark Tale', 'Bang the Drum Slowly', 'Analyze That', 'Meet the Parents', 'Wag the Dog', 'The Big Wedding', 'Night and the City', 'Backdraft', 'The Untouchables', 'Cop Land', 'Thunderheart', 'Being Flynn', \"We're No Angels\", 'Limitless', 'The Bag Man', 'The Good Shepherd', 'Jacknife', 'Righteous Kill', 'Mad Dog and Glory', 'Brazil', \"Mary Shelley's Frankenstein\", 'Stone', 'Killer Elite', 'A Bronx Tale', 'Falling in Love', 'The Adventures of Rocky & Bullwinkle', 'Red Lights', 'The Score', \"New Year's Eve\", 'Ronin', 'Midnight Run', 'Last Vegas', 'Born to Win', 'Angel Heart', 'City by the Sea', 'Cape Fear', \"Everybody's Fine\", 'Goodfellas', '15 Minutes', 'Mistress', 'Hide and Seek', 'The Intern', 'Awakenings', 'Joy', 'Mean Streets', 'The Deer Hunter', 'Great Expectations', 'True Confessions', 'The Mission', 'Killing Season', 'The King of Comedy', 'New York', 'Rent', 'Once Upon a Time in America', 'Meet the Fockers', 'Bloody Mama', 'The Last Tycoon', 'Grudge Match', 'Analyze This', 'The Bridge of San Luis Rey', 'Guilty by Suspicion', 'What Just Happened?', 'Heat', 'Godsend', 'Captain Shakespeare', 'Flawless', 'Stanley & Iris', 'Arthur and the Invisibles', 'Greetings', 'Little Fockers', 'Sleepers', 'Dirty Grandpa', 'Dear America: Letters Home From Vietnam', 'Casino', 'The Fan', 'Heist', 'Men of Honor'], 'year': ['2010', '1996', '1980', '1993', '2012', '1976', '1997', '2004', '1973', '2002', '2000', '1997', '2013', '1992', '1991', '1987', '1997', '1992', '2012', '1989', '2011', '2014', '2006', '1989', '2008', '1993', '1985', '1994', '2010', '2011', '1993', '1984', '2000', '2012', '2001', '2011', '1998', '1988', '2013', '1971', '1987', '2002', '1991', '2009', '1990', '2001', '1991', '2005', '2015', '1990', '2015', '1973', '1978', '1998', '1981', '1986', '2013', '1983', '1977', '2005', '1984', '2004', '1970', '1976', '2013', '1999', '2005', '1991', '2008', '1995', '2003', '2007', '1999', '1990', '2007', '1968', '2010', '1996', '2016', '1987', '1995', '1996', '2015', '2000'], 'rating': ['72', '80', '97', '75', '92', '99', '87', '35', '88', '27', '84', '85', '7', '67', '71', '80', '72', '87', '51', '47', '70', '9', '54', '64', '19', '78', '98', '39', '50', '25', '96', '60', '43', '29', '73', '7', '68', '96', '46', '40', '78', '48', '76', '46', '96', '33', '69', '13', '61', '88', '60', '98', '93', '38', '75', '65', '11', '90', '67', '46', '89', '38', '17', '41', '29', '69', '4', '65', '51', '86', '4', '76', '43', '29', '21', '86', '10', '74', '11', '100', '80', '38', '26', '41']}\n"
     ]
    }
   ],
   "source": [
    "import csv\n",
    "\n",
    "\n",
    "def csv_columns(filename: str):\n",
    "    nested_dict = {}\n",
    "    with open(f'../data/{filename}', 'r', encoding='utf-8') as file:\n",
    "        data = [row for row in csv.DictReader(file)]\n",
    "\n",
    "    for row in data:\n",
    "        for key, value in row.items():\n",
    "            nested_dict.setdefault(key, []).append(value)\n",
    "\n",
    "    return nested_dict\n",
    "\n",
    "filename = 'movie.csv'\n",
    "print(csv_columns(filename))"
   ]
  }
 ],
 "metadata": {
  "kernelspec": {
   "display_name": "Python 3 (ipykernel)",
   "language": "python",
   "name": "python3"
  },
  "language_info": {
   "codemirror_mode": {
    "name": "ipython",
    "version": 3
   },
   "file_extension": ".py",
   "mimetype": "text/x-python",
   "name": "python",
   "nbconvert_exporter": "python",
   "pygments_lexer": "ipython3",
   "version": "3.9.16"
  }
 },
 "nbformat": 4,
 "nbformat_minor": 5
}
