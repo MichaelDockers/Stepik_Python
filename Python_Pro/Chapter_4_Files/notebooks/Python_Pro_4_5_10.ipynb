{
 "cells": [
  {
   "cell_type": "markdown",
   "id": "f284fc4c-df61-4def-8f23-92d64aa17f2b",
   "metadata": {},
   "source": [
    "## Task \"Структура архива 🌶️🌶️\"\n",
    "\n",
    "Вам доступен архив desktop.zip, содержащий различные папки и файлы. Напишите программу, которая выводит его файловую структуру и объем каждого файла.\n",
    "\n",
    "**Формат входных данных**\n",
    "\n",
    "На вход программе ничего не подается.\n",
    "\n",
    "**Формат выходных данных**\n",
    "\n",
    "Программа должна вывести файловую структуру архива desktop.zip и объем каждого файла в несжатом виде. Так как архив имеет собственную иерархию папок, каждый уровень вложенности должен быть выделен двумя пробелами.\n",
    "\n",
    "**Примечание 1.** Объем файла записывается в самых крупных единицах измерения с округлением до целых.\n",
    "\n",
    "**Примечание 2.** Значения единиц измерения такие же, какие приняты в информатике:"
   ]
  },
  {
   "cell_type": "code",
   "execution_count": 25,
   "id": "8df668f9-ad1e-49a7-9814-5d3eb2778fd2",
   "metadata": {},
   "outputs": [
    {
     "name": "stdout",
     "output_type": "stream",
     "text": [
      "fun\n",
      "  movies\n",
      "  songs\n",
      "    Alexandra Savior Crying All the Time.mp3 5 MB\n",
      "games\n",
      "  not released\n",
      "    Hollow Knight Silksong.exe 787 KB\n",
      "  Psychonauts 2.exe 787 KB\n",
      "images\n",
      "  code.jpeg 403 KB\n",
      "  stepik.png 11 KB\n",
      "studying\n",
      "  books\n",
      "    how to prove.pdf 645 KB\n",
      "  data_sets\n",
      "    countries.json 22 B\n",
      "    data_sample.csv 15 B\n",
      "    fonts\n",
      "      fontlist-v330.json 94 KB\n",
      "    readme.txt 14 B\n",
      "    task_results.xlsx 13 KB\n",
      "  exam.txt 9 B\n",
      "  fipi_demo_2022.pdf 666 KB\n",
      "  homework.py 14 B\n",
      "earth.jpg 327 KB\n",
      "python.pdf 8 MB\n",
      "shopping_list.txt 25 B\n",
      "test.py 42 B\n"
     ]
    }
   ],
   "source": [
    "from zipfile import ZipFile\n",
    "\n",
    "\n",
    "def convert_bytes(bytes: int):\n",
    "    if bytes < 1024:\n",
    "        return f'{bytes} B'\n",
    "    elif 1024 <= bytes < (1024 ** 2):\n",
    "        return f'{round(bytes / 1024)} KB'\n",
    "    else:\n",
    "        return f'{round(bytes / (1024 ** 2))} MB'\n",
    "        \n",
    "\n",
    "spaces = '  '\n",
    "with ZipFile('../data/desktop.zip', 'r') as zip_file:\n",
    "    for file in zip_file.infolist():\n",
    "        if file.is_dir():\n",
    "            print(f\"{spaces * (file.filename[: -1].count('/'))}{file.filename[: -1].split('/')[-1]}\")\n",
    "        else:\n",
    "            print(f\"{spaces * (file.filename.count('/'))}{file.filename.split('/')[-1]} {convert_bytes(file.file_size)}\")"
   ]
  }
 ],
 "metadata": {
  "kernelspec": {
   "display_name": "Python 3 (ipykernel)",
   "language": "python",
   "name": "python3"
  },
  "language_info": {
   "codemirror_mode": {
    "name": "ipython",
    "version": 3
   },
   "file_extension": ".py",
   "mimetype": "text/x-python",
   "name": "python",
   "nbconvert_exporter": "python",
   "pygments_lexer": "ipython3",
   "version": "3.9.16"
  }
 },
 "nbformat": 4,
 "nbformat_minor": 5
}
