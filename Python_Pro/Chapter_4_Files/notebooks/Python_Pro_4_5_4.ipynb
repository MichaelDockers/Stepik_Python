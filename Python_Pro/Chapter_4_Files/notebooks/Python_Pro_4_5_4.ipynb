{
 "cells": [
  {
   "cell_type": "markdown",
   "id": "af855852-9d6f-44ce-b95a-c63a576f3e2d",
   "metadata": {},
   "source": [
    "## Task \"Избранные\"\n",
    "\n",
    "Вам доступен архив workbook.zip, содержащий различные папки и файлы. Напишите программу, которая выводит названия файлов из этого архива, которые были созданы или изменены позднее 2021-11-30 14:22:00. Названия файлов должны быть расположены в лексикографическом порядке, каждое на отдельной строке.\n",
    "\n",
    "**Примечание 1.** Если файл находится в папке, вывести следует только название без пути."
   ]
  },
  {
   "cell_type": "code",
   "execution_count": 14,
   "id": "0d633969-2df9-4ded-99b3-3bc1627d6dba",
   "metadata": {},
   "outputs": [
    {
     "name": "stdout",
     "output_type": "stream",
     "text": [
      "countries.json\n",
      "data_sample.csv\n",
      "earth.jpg\n",
      "exam.txt\n",
      "fipi_demo_2022.pdf\n",
      "homework.py\n",
      "python.pdf\n",
      "readme.txt\n",
      "shopping_list.txt\n",
      "task_results.xlsx\n"
     ]
    }
   ],
   "source": [
    "from zipfile import ZipFile\n",
    "from datetime import datetime\n",
    "\n",
    "cut_date = datetime.fromisoformat('2021-11-30 14:22:00')\n",
    "\n",
    "with ZipFile('../data/workbook.zip', 'r') as zip_file:\n",
    "    compression = ([x.filename.split('/')[-1] for x in zip_file.infolist() if not x.is_dir() and datetime(*x.date_time) > cut_date])\n",
    "    print(*sorted(compression), sep='\\n')"
   ]
  }
 ],
 "metadata": {
  "kernelspec": {
   "display_name": "Python 3 (ipykernel)",
   "language": "python",
   "name": "python3"
  },
  "language_info": {
   "codemirror_mode": {
    "name": "ipython",
    "version": 3
   },
   "file_extension": ".py",
   "mimetype": "text/x-python",
   "name": "python",
   "nbconvert_exporter": "python",
   "pygments_lexer": "ipython3",
   "version": "3.9.16"
  }
 },
 "nbformat": 4,
 "nbformat_minor": 5
}
