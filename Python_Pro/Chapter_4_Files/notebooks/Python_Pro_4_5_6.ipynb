{
 "cells": [
  {
   "cell_type": "markdown",
   "id": "9ae47dce-1f34-4631-a9bd-0aa1afa44b4b",
   "metadata": {},
   "source": [
    "## Task\n",
    "\n",
    "Вам доступен набор различных файлов, названия которых представлены в списке file_names. Дополните приведенный ниже код, чтобы он создал архив files.zip и добавил в него все файлы из данного списка.\n",
    "\n",
    "**Примечание.** Считайте, что файлы из списка file_names находятся в папке с программой."
   ]
  },
  {
   "cell_type": "code",
   "execution_count": null,
   "id": "3ff0ab34-cce3-453f-bfe6-43172caa62f4",
   "metadata": {},
   "outputs": [],
   "source": [
    "from zipfile import ZipFile\n",
    "\n",
    "file_names = ['how to prove.pdf', 'fipi_demo_2022.pdf', 'Hollow Knight Silksong.exe',\n",
    "              'code.jpeg', 'stepik.png', 'readme.txt', 'shopping_list.txt',\n",
    "              'Alexandra Savior – Crying All the Time.mp3', 'homework.py', 'test.py']\n",
    "\n",
    "with ZipFile('test.zip', mode='w') as zip_file:\n",
    "    [zip_file.write(file) for file in file_names]"
   ]
  }
 ],
 "metadata": {
  "kernelspec": {
   "display_name": "Python 3 (ipykernel)",
   "language": "python",
   "name": "python3"
  },
  "language_info": {
   "codemirror_mode": {
    "name": "ipython",
    "version": 3
   },
   "file_extension": ".py",
   "mimetype": "text/x-python",
   "name": "python",
   "nbconvert_exporter": "python",
   "pygments_lexer": "ipython3",
   "version": "3.9.16"
  }
 },
 "nbformat": 4,
 "nbformat_minor": 5
}
