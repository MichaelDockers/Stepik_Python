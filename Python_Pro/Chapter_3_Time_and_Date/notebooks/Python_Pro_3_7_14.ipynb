{
 "cells": [
  {
   "cell_type": "markdown",
   "id": "c90d77da-2c68-4e48-b5ad-e3ac2b57f383",
   "metadata": {},
   "source": [
    "## Task \"ТЧМ\"\n",
    "Во многих музеях существует один день месяца, когда посещение музея для всех лиц или отдельных категорий граждан происходит без взимания платы. Например, в Эрмитаже это третий четверг месяца.\n",
    "\n",
    "Напишите программу, которая определяет даты бесплатных дней посещения Эрмитажа в заданном году.\n",
    "\n",
    "**Формат входных данных**  \n",
    "На вход программе подается натуральное число, представляющее год.\n",
    "\n",
    "**Формат выходных данных**  \n",
    "Программа должна определить все даты бесплатных дней посещения Эрмитажа в введенном году и вывести их. Даты должны быть расположены в порядке возрастания, каждая на отдельной строке, в формате DD.MM.YYYY."
   ]
  },
  {
   "cell_type": "code",
   "execution_count": 2,
   "id": "dd740c33-42f7-4305-9ba5-ab04a5da2bcb",
   "metadata": {},
   "outputs": [
    {
     "name": "stdout",
     "output_type": "stream",
     "text": [
      "16.01.2020\n",
      "20.02.2020\n",
      "19.03.2020\n",
      "16.04.2020\n",
      "21.05.2020\n",
      "18.06.2020\n",
      "16.07.2020\n",
      "20.08.2020\n",
      "17.09.2020\n",
      "15.10.2020\n",
      "19.11.2020\n",
      "17.12.2020\n"
     ]
    }
   ],
   "source": [
    "from datetime import date\n",
    "import calendar\n",
    "\n",
    "def get_museum_free_days(year):\n",
    "    free_days_list = []\n",
    "    for month in range(1, 13):\n",
    "        all_month = calendar.monthcalendar(year=year, month=month)\n",
    "        if all_month[0][3]:\n",
    "            free_days_list.append(date(year, month, all_month[2][3]))\n",
    "        else:\n",
    "            free_days_list.append(date(year, month, all_month[3][3]))\n",
    "    return free_days_list\n",
    "\n",
    "print(*[day.strftime('%d.%m.%Y') for day in get_museum_free_days(2020)], sep='\\n')"
   ]
  }
 ],
 "metadata": {
  "kernelspec": {
   "display_name": "Python 3 (ipykernel)",
   "language": "python",
   "name": "python3"
  },
  "language_info": {
   "codemirror_mode": {
    "name": "ipython",
    "version": 3
   },
   "file_extension": ".py",
   "mimetype": "text/x-python",
   "name": "python",
   "nbconvert_exporter": "python",
   "pygments_lexer": "ipython3",
   "version": "3.9.16"
  }
 },
 "nbformat": 4,
 "nbformat_minor": 5
}
