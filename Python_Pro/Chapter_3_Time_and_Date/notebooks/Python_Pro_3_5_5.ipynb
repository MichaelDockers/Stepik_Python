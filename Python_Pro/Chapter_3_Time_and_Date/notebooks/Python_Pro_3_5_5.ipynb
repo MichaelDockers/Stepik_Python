{
 "cells": [
  {
   "cell_type": "markdown",
   "id": "ccd764bc-26b8-4ff4-af91-1cb6dd1b7c94",
   "metadata": {},
   "source": [
    "## Task\n",
    "\n",
    "**Сотрудники организации**\n",
    "\n",
    "Дан список сотрудников организации, в котором указаны их фамилии, имена и даты рождения. Напишите программу, которая определяет самого старшего сотрудника из данного списка.\n",
    "\n",
    "**Формат входных данных**  \n",
    "На вход программе в первой строке подается натуральное число n — количество сотрудников, работающих в организации. В последующих n строках вводятся данные о каждом сотруднике: имя, фамилия и дата рождения, разделённые пробелом. Дата рождения указывается в формате DD.MM.YYYY.\n",
    "\n",
    "**Формат выходных данных**  \n",
    "Программа должна определить самого старшего сотрудника и вывести его дату рождения, имя и фамилию, разделив пробелом. Если таких сотрудников несколько, программа должна вывести их дату рождения, а также их количество, разделив пробелом.\n",
    "\n",
    "**Примечание 1.** Гарантируется, что у всех сотрудников имена и фамилии различны."
   ]
  },
  {
   "cell_type": "code",
   "execution_count": 79,
   "id": "a403e8e4-1d84-428f-a0bb-8845451834c9",
   "metadata": {},
   "outputs": [
    {
     "name": "stdout",
     "output_type": "stream",
     "text": [
      "29.04.1990 Генри Форд\n"
     ]
    }
   ],
   "source": [
    "from datetime import datetime\n",
    "\n",
    "\n",
    "def get_oldest_employee(number: int, names: list) -> str:\n",
    "    '''\n",
    "    Input:\n",
    "    number - quontity of input employee names as INT\n",
    "    names - employees name and birthday\n",
    "    \n",
    "    Output:\n",
    "    The most old employee (name and birthday). If not unique - date and number of such employees\n",
    "    '''\n",
    "    \n",
    "    date_parse = '%d.%m.%Y'\n",
    "    names = [(' '.join(name.split()[: 2]), datetime.strptime(name.split()[2], date_parse).date()) for name in names]\n",
    "\n",
    "    oldest_employee = names[0]\n",
    "    employee_flag = 1\n",
    "\n",
    "    for emp in names[1:]:\n",
    "        if emp[1] < oldest_employee[1]:\n",
    "            oldest_employee = emp\n",
    "        elif emp[1] == oldest_employee[1]:\n",
    "            employee_flag += 1\n",
    "\n",
    "    return f\"{oldest_employee[1].strftime(date_parse)} {oldest_employee[0]}\" if employee_flag == 1 else f\"{oldest_employee[1].strftime(date_parse)} {employee_flag}\"\n",
    "\n",
    "n = 4\n",
    "names = [\n",
    "    'Иван Петров 01.05.1995',\n",
    "    'Петр Сергеев 29.04.1995',\n",
    "    'Сергей Иванов 01.01.1996',\n",
    "    'Генри Форд 29.04.1990'\n",
    "]\n",
    "   \n",
    "print(get_oldest_employee(n, names))"
   ]
  },
  {
   "cell_type": "code",
   "execution_count": 74,
   "id": "db5ba2dc-17fd-419d-a92c-ab9bd8a89cbc",
   "metadata": {},
   "outputs": [],
   "source": [
    "with open('../data/input_3_5_5.txt', 'r') as test:\n",
    "    tests = test.read().split('\\n')\n",
    "with open('../data/output_3_5_5.txt', 'r') as answer:\n",
    "    answers = answer.read().split('\\n')"
   ]
  },
  {
   "cell_type": "code",
   "execution_count": 75,
   "id": "eb617fb4-a2a1-40b1-8db5-4d2dd5a0d5dc",
   "metadata": {},
   "outputs": [],
   "source": [
    "tests = list(filter(lambda x: x != '', tests))\n",
    "tests_positions = [idx for idx, value in enumerate(tests) if 'TEST' in value]"
   ]
  },
  {
   "cell_type": "code",
   "execution_count": 76,
   "id": "962d40bc-f956-4220-8f8e-1e394af0489d",
   "metadata": {},
   "outputs": [],
   "source": [
    "answers = list(filter(lambda x: x != '', answers))\n",
    "answers_positions = [idx for idx, value in enumerate(answers) if 'TEST' in value]"
   ]
  },
  {
   "cell_type": "code",
   "execution_count": 77,
   "id": "92d98993-0c1d-4c47-9ee9-9c958b332773",
   "metadata": {},
   "outputs": [
    {
     "name": "stdout",
     "output_type": "stream",
     "text": [
      "# TEST_1:\n",
      "29.04.1995 Петр Сергеев\n",
      "# TEST_2:\n",
      "01.05.1995 2\n",
      "# TEST_3:\n",
      "12.08.2000 6\n",
      "# TEST_4:\n",
      "10.12.1996 Геор Гагиев\n",
      "# TEST_5:\n",
      "12.08.2000 5\n"
     ]
    }
   ],
   "source": [
    "for test_number in tests_positions:\n",
    "    n = int(tests[test_number + 1])\n",
    "    emp_list = tests[test_number + 2: test_number + 2 + n]\n",
    "    print(tests[test_number])\n",
    "    print(get_oldest_employee(n, emp_list))"
   ]
  },
  {
   "cell_type": "code",
   "execution_count": 65,
   "id": "b6785579-0be7-4ea6-b74d-f901d72ceffb",
   "metadata": {},
   "outputs": [
    {
     "data": {
      "text/plain": [
       "['# OUTPUT DATA:',\n",
       " '# TEST_1:',\n",
       " '29.04.1995 Петр Сергеев',\n",
       " '# TEST_2:',\n",
       " '01.05.1995 2',\n",
       " '# TEST_3:',\n",
       " '12.08.2000 6',\n",
       " '# TEST_4:',\n",
       " '10.12.1996 Геор Гагиев',\n",
       " '# TEST_5:',\n",
       " '12.08.2000 5']"
      ]
     },
     "execution_count": 65,
     "metadata": {},
     "output_type": "execute_result"
    }
   ],
   "source": [
    "answers"
   ]
  }
 ],
 "metadata": {
  "kernelspec": {
   "display_name": "Python 3 (ipykernel)",
   "language": "python",
   "name": "python3"
  },
  "language_info": {
   "codemirror_mode": {
    "name": "ipython",
    "version": 3
   },
   "file_extension": ".py",
   "mimetype": "text/x-python",
   "name": "python",
   "nbconvert_exporter": "python",
   "pygments_lexer": "ipython3",
   "version": "3.9.16"
  }
 },
 "nbformat": 4,
 "nbformat_minor": 5
}
