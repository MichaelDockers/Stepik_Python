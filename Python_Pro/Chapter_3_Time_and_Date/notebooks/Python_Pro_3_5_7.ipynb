{
 "cells": [
  {
   "cell_type": "markdown",
   "id": "9524e788-c49d-4024-b0d7-a4156b1c6eef",
   "metadata": {},
   "source": [
    "## Task\n",
    "\n",
    "**Сотрудники организации 😔**\n",
    "\n",
    "Дан список сотрудников организации, в котором указаны их фамилии, имена и даты рождения. Напишите программу, которая определяет самого молодого сотрудника, празднующего свой день рождения в течение ближайших семи дней от текущей даты.\n",
    "\n",
    "**Формат входных данных**\n",
    "\n",
    "На вход программе в первой строке подается текущая дата в формате DD.MM.YYYY, в следующей строке вводится натуральное число n — количество сотрудников, работающих в организации. В последующих n строках вводятся данные о каждом сотруднике: имя, фамилия и дата рождения, разделённые пробелом. Дата рождения указывается в формате DD.MM.YYYY.\n",
    "\n",
    "**Формат выходных данных**\n",
    "\n",
    "Программа должна определить самого молодого сотрудника, празднующего свой день рождения в течение ближайших семи дней, и вывести его имя и фамилию, разделив пробелом. Если таких сотрудников нет, программа должна вывести текст:\n",
    "\n",
    "_Дни рождения не планируются_\n",
    "\n",
    "**Примечание 1.** Гарантируется, что у всех сотрудников даты рождения различны.\n",
    "\n",
    "**Примечание 2.** Например, для даты 01.11.2021 ближайшими семью днями являются:\n",
    "\n",
    "_02.11.2021, 03.11.2021, 04.11.2021, 05.11.2021, 06.11.2021, 07.11.2021, 08.11.2021_"
   ]
  },
  {
   "cell_type": "code",
   "execution_count": 25,
   "id": "3673001b-541b-49e1-9e05-b480f4eff7a4",
   "metadata": {},
   "outputs": [
    {
     "name": "stdin",
     "output_type": "stream",
     "text": [
      " 10.11.2021\n",
      " 1\n",
      " Michail Vasiliev 11.11.2021\n"
     ]
    },
    {
     "name": "stdout",
     "output_type": "stream",
     "text": [
      "Michail Vasiliev\n"
     ]
    }
   ],
   "source": [
    "from datetime import datetime, timedelta, date\n",
    "\n",
    "\n",
    "def get_youngest_employee_for_seven_days(today, names, nearest_days):\n",
    "    '''\n",
    "    Input:\n",
    "    today - after that date starts dutarion\n",
    "    names - list of employees to select needed\n",
    "    nearest_days - duration for selection\n",
    "    \n",
    "    Output:\n",
    "    The youngest employee with birthday in nearest days or 'Дни рождения не планируются'\n",
    "    '''\n",
    "    \n",
    "    start = today + timedelta(days=1)\n",
    "    end = today + timedelta(days=nearest_days)\n",
    "\n",
    "    emp = [name for name in names if start <= name[1].replace(year=today.year) <= end or start <= name[1].replace(year=today.year + 1) <= end]\n",
    "    return max(emp, key=lambda x: x[1])[0] if emp else 'Дни рождения не планируются'\n",
    "\n",
    "\n",
    "date_parse = '%d.%m.%Y'\n",
    "nearest_days = 7\n",
    "\n",
    "today = datetime.strptime(input(), date_parse).date()\n",
    "n = int(input())\n",
    "names = [input() for _ in range(n)]\n",
    "\n",
    "names = [(' '.join(name.split()[: 2]), datetime.strptime(name.split()[2], date_parse).date()) for name in names]\n",
    "\n",
    "print(get_youngest_employee_for_seven_days(today, names, nearest_days))"
   ]
  }
 ],
 "metadata": {
  "kernelspec": {
   "display_name": "Python 3 (ipykernel)",
   "language": "python",
   "name": "python3"
  },
  "language_info": {
   "codemirror_mode": {
    "name": "ipython",
    "version": 3
   },
   "file_extension": ".py",
   "mimetype": "text/x-python",
   "name": "python",
   "nbconvert_exporter": "python",
   "pygments_lexer": "ipython3",
   "version": "3.9.16"
  }
 },
 "nbformat": 4,
 "nbformat_minor": 5
}
