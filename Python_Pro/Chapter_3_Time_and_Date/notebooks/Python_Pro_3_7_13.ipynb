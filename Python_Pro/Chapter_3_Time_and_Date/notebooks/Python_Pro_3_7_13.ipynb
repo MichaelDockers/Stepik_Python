{
 "cells": [
  {
   "cell_type": "markdown",
   "id": "6d920b6f-cb47-4da1-b825-a2e460faf374",
   "metadata": {},
   "source": [
    "## Task \"Функция get_all_mondays()\"\n",
    "Реализуйте функцию **get_all_mondays()**, которая принимает один аргумент:\n",
    "\n",
    "* year — натуральное число  \n",
    "\n",
    "Функция должна возвращать отсортированный по возрастанию список всех дат (тип date) года year, выпадающих на понедельник.\n",
    "\n",
    "**Примечание 1.** Например, вызов:\n",
    "\n",
    "_get_all_mondays(2021)_\n",
    "\n",
    "должен вернуть список:\n",
    "\n",
    "_[datetime.date(2021, 1, 4), datetime.date(2021, 1, 11), ..., datetime.date(2021, 12, 20), datetime.date(2021, 12, 27)]_"
   ]
  },
  {
   "cell_type": "code",
   "execution_count": 1,
   "id": "84ae66d1-862c-4e45-b353-79d54d5dd2c0",
   "metadata": {},
   "outputs": [
    {
     "name": "stdout",
     "output_type": "stream",
     "text": [
      "[datetime.date(2021, 1, 4), datetime.date(2021, 1, 11), datetime.date(2021, 1, 18), datetime.date(2021, 1, 25), datetime.date(2021, 2, 1), datetime.date(2021, 2, 8), datetime.date(2021, 2, 15), datetime.date(2021, 2, 22), datetime.date(2021, 3, 1), datetime.date(2021, 3, 8), datetime.date(2021, 3, 15), datetime.date(2021, 3, 22), datetime.date(2021, 3, 29), datetime.date(2021, 4, 5), datetime.date(2021, 4, 12), datetime.date(2021, 4, 19), datetime.date(2021, 4, 26), datetime.date(2021, 5, 3), datetime.date(2021, 5, 10), datetime.date(2021, 5, 17), datetime.date(2021, 5, 24), datetime.date(2021, 5, 31), datetime.date(2021, 6, 7), datetime.date(2021, 6, 14), datetime.date(2021, 6, 21), datetime.date(2021, 6, 28), datetime.date(2021, 7, 5), datetime.date(2021, 7, 12), datetime.date(2021, 7, 19), datetime.date(2021, 7, 26), datetime.date(2021, 8, 2), datetime.date(2021, 8, 9), datetime.date(2021, 8, 16), datetime.date(2021, 8, 23), datetime.date(2021, 8, 30), datetime.date(2021, 9, 6), datetime.date(2021, 9, 13), datetime.date(2021, 9, 20), datetime.date(2021, 9, 27), datetime.date(2021, 10, 4), datetime.date(2021, 10, 11), datetime.date(2021, 10, 18), datetime.date(2021, 10, 25), datetime.date(2021, 11, 1), datetime.date(2021, 11, 8), datetime.date(2021, 11, 15), datetime.date(2021, 11, 22), datetime.date(2021, 11, 29), datetime.date(2021, 12, 6), datetime.date(2021, 12, 13), datetime.date(2021, 12, 20), datetime.date(2021, 12, 27)]\n"
     ]
    }
   ],
   "source": [
    "from datetime import date\n",
    "import calendar\n",
    "\n",
    "def get_all_mondays(year):\n",
    "    mondays_lst = []\n",
    "    for month in range(1, 13):\n",
    "        for week in calendar.monthcalendar(year=year, month=month):\n",
    "            if week[0]:\n",
    "                mondays_lst.append(date(year, month, week[0]))\n",
    "    return mondays_lst\n",
    "\n",
    "print(get_all_mondays(2021))"
   ]
  }
 ],
 "metadata": {
  "kernelspec": {
   "display_name": "Python 3 (ipykernel)",
   "language": "python",
   "name": "python3"
  },
  "language_info": {
   "codemirror_mode": {
    "name": "ipython",
    "version": 3
   },
   "file_extension": ".py",
   "mimetype": "text/x-python",
   "name": "python",
   "nbconvert_exporter": "python",
   "pygments_lexer": "ipython3",
   "version": "3.9.16"
  }
 },
 "nbformat": 4,
 "nbformat_minor": 5
}
