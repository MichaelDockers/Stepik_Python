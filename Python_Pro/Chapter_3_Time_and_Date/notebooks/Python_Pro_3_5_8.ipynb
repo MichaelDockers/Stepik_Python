{
 "cells": [
  {
   "cell_type": "markdown",
   "id": "e1894cc7-7062-4e10-b794-828cae5d3935",
   "metadata": {},
   "source": [
    "## Task\n",
    "\n",
    "**FAKE NEWS**\n",
    "\n",
    "Команда BEEGEEK планирует выпустить свой новый курс 08.11.2022 ровно в 12:00. Напишите программу, которая принимает на вход текущие дату и время и определяет, сколько времени осталось до выхода курса.\n",
    "\n",
    "**Формат входных данных**\n",
    "\n",
    "На вход программе подаются текущие дата и время в формате DD.MM.YYYY HH:MM.\n",
    "\n",
    "**Формат выходных данных**\n",
    "\n",
    "Программа должна вывести текст с указанием количества дней и часов, оставшихся до выхода курса, в следующем формате:\n",
    "\n",
    "_До выхода курса осталось: <кол-во дней> дней и <кол-во часов> часов_\n",
    "\n",
    "Если в данном случае количество часов равно нулю, то вывести нужно только дни.\n",
    "\n",
    "Если количество дней равно нулю, то вывести нужно только часы и минуты в следующем формате:\n",
    "\n",
    "_До выхода курса осталось: <кол-во часов> часов и <кол-во минут> минут_\n",
    "\n",
    "Если в данном случае количество минут равно нулю, то вывести нужно только часы. Аналогично, если количество часов равно нулю, то вывести нужно только минуты.\n",
    "\n",
    "Если введенные дата и время больше либо равны 08.11.2022 12:00, программа должна вывести текст: \n",
    "\n",
    "_Курс уже вышел!_\n",
    "\n",
    "**Примечание 1.** Программа должна подбирать правильную форму для существительных «день» и «минута». Для этого можете смело взять свою функцию choose_plural() из [этой задачи](https://stepik.org/lesson/569748/step/14?unit=564262)."
   ]
  },
  {
   "cell_type": "code",
   "execution_count": 8,
   "id": "f69c9164-d90d-4ead-9e90-f5fdd3fa2f49",
   "metadata": {},
   "outputs": [
    {
     "name": "stdout",
     "output_type": "stream",
     "text": [
      "357 days, 5:30:00\n"
     ]
    }
   ],
   "source": [
    "from datetime import datetime, timedelta, date\n",
    "\n",
    "\n",
    "def date_and_time_to_course_start():\n",
    "    pass\n",
    "\n",
    "\n",
    "def choose_plural(amount: int, declensions: tuple) -> str:\n",
    "    if 10 < amount < 21 or 10 < amount % 100 < 21:\n",
    "        return f'{amount} {declensions[2]}'\n",
    "    if amount == 1 or amount % 10 == 1:\n",
    "        return f'{amount} {declensions[0]}'\n",
    "    elif 2 <= amount < 5 or 2 <= amount % 10 < 5:\n",
    "        return f'{amount} {declensions[1]}'\n",
    "    else:\n",
    "        return f'{amount} {declensions[2]}'\n",
    "\n",
    "    \n",
    "course_start_date = datetime(2022, 11, 8, 12, 0)\n",
    "today = datetime.strptime('16.11.2021 06:30', '%d.%m.%Y %H:%M')\n",
    "\n",
    "print(course_start_date - today)"
   ]
  }
 ],
 "metadata": {
  "kernelspec": {
   "display_name": "Python 3 (ipykernel)",
   "language": "python",
   "name": "python3"
  },
  "language_info": {
   "codemirror_mode": {
    "name": "ipython",
    "version": 3
   },
   "file_extension": ".py",
   "mimetype": "text/x-python",
   "name": "python",
   "nbconvert_exporter": "python",
   "pygments_lexer": "ipython3",
   "version": "3.9.16"
  }
 },
 "nbformat": 4,
 "nbformat_minor": 5
}
