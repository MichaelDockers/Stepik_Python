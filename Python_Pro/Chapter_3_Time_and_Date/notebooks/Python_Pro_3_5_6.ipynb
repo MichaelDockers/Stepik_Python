{
 "cells": [
  {
   "cell_type": "markdown",
   "id": "6a7649e9-546e-4ca7-b024-df46137a9c5a",
   "metadata": {},
   "source": [
    "## Task\n",
    "\n",
    "**Сотрудники организации 🙂**\n",
    "\n",
    "Дан список сотрудников организации, в котором указаны их фамилии, имена и даты рождения. Напишите программу, которая определяет, в какую из дат родилось больше всего сотрудников.\n",
    "\n",
    "**Формат входных данных**  \n",
    "На вход программе в первой строке подается натуральное число n — количество сотрудников, работающих в организации. В последующих n строках вводятся данные о каждом сотруднике: имя, фамилия и дата рождения, разделённые пробелом. Дата рождения указывается в формате DD.MM.YYYY.\n",
    "\n",
    "**Формат выходных данных**  \n",
    "Программа должна вывести дату, в которую наибольшее количество сотрудников отмечает день рождения, в формате DD.MM.YYYY. Если таких дат несколько, программа должна вывести их все в порядке возрастания, каждую на отдельной строке, в том же формате."
   ]
  },
  {
   "cell_type": "code",
   "execution_count": null,
   "id": "25bb01e4-17d5-4bc9-beb7-c67c3da6acd5",
   "metadata": {},
   "outputs": [],
   "source": [
    "from datetime import datetime\n",
    "\n",
    "\n",
    "def get_oldest_employee(number: int, names: list) -> str:\n",
    "    names = [(' '.join(name.split()[0: 2]), datetime.strptime(name.split()[2], '%d.%m.%Y').date()) for name in names]\n",
    "\n",
    "    oldest_employee = names[0]\n",
    "    employee_flag = 1\n",
    "\n",
    "    for emp in names[1:]:\n",
    "        if emp[1] < oldest_employee[1]:\n",
    "            oldest_employee = emp\n",
    "        elif emp[1] == oldest_employee[1]:\n",
    "            employee_flag += 1\n",
    "\n",
    "    return f\"{oldest_employee[1].strftime('%d.%m.%Y')} {oldest_employee[0]}\" if employee_flag == 1 else f\"{oldest_employee[1].strftime('%d.%m.%Y')} {employee_flag}\"\n",
    "\n",
    "n = 5\n",
    "names = [\n",
    "    'Иван Петров 01.05.1995', \n",
    "    'Петр Сергеев 29.04.1995', \n",
    "    'Сергей Романов 01.01.1996', \n",
    "    'Роман Григорьев 01.01.1996', \n",
    "    'Григорий Иванов 01.05.1995'\n",
    "]\n",
    "   \n",
    "print(get_oldest_employee(n, names))"
   ]
  }
 ],
 "metadata": {
  "kernelspec": {
   "display_name": "Python 3 (ipykernel)",
   "language": "python",
   "name": "python3"
  },
  "language_info": {
   "codemirror_mode": {
    "name": "ipython",
    "version": 3
   },
   "file_extension": ".py",
   "mimetype": "text/x-python",
   "name": "python",
   "nbconvert_exporter": "python",
   "pygments_lexer": "ipython3",
   "version": "3.9.16"
  }
 },
 "nbformat": 4,
 "nbformat_minor": 5
}
