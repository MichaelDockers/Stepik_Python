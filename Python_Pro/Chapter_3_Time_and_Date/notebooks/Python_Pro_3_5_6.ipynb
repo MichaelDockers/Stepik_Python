{
 "cells": [
  {
   "cell_type": "markdown",
   "id": "6a7649e9-546e-4ca7-b024-df46137a9c5a",
   "metadata": {},
   "source": [
    "## Task\n",
    "\n",
    "**Сотрудники организации 🙂**\n",
    "\n",
    "Дан список сотрудников организации, в котором указаны их фамилии, имена и даты рождения. Напишите программу, которая определяет, в какую из дат родилось больше всего сотрудников.\n",
    "\n",
    "**Формат входных данных**  \n",
    "На вход программе в первой строке подается натуральное число n — количество сотрудников, работающих в организации. В последующих n строках вводятся данные о каждом сотруднике: имя, фамилия и дата рождения, разделённые пробелом. Дата рождения указывается в формате DD.MM.YYYY.\n",
    "\n",
    "**Формат выходных данных**  \n",
    "Программа должна вывести дату, в которую наибольшее количество сотрудников отмечает день рождения, в формате DD.MM.YYYY. Если таких дат несколько, программа должна вывести их все в порядке возрастания, каждую на отдельной строке, в том же формате."
   ]
  },
  {
   "cell_type": "code",
   "execution_count": 80,
   "id": "25bb01e4-17d5-4bc9-beb7-c67c3da6acd5",
   "metadata": {},
   "outputs": [
    {
     "name": "stdout",
     "output_type": "stream",
     "text": [
      "01.02.1993\n",
      "04.05.1995\n",
      "06.07.1999\n"
     ]
    }
   ],
   "source": [
    "from datetime import datetime\n",
    "\n",
    "\n",
    "def get_most_frequent_birthday(number: int, names: list) -> str:\n",
    "    '''\n",
    "    \n",
    "    '''\n",
    "    date_parse = '%d.%m.%Y'\n",
    "    dates = [datetime.strptime(name.split()[-1], date_parse).date() for name in names]\n",
    "    unique_dates = set(dates)\n",
    "    dates_dict = {date: dates.count(date) for date in unique_dates}\n",
    "    max_counter = max(dates_dict.values())\n",
    "    \n",
    "    return sorted([date for date, counter in dates_dict.items() if counter == max_counter])\n",
    "\n",
    "\n",
    "n = 6\n",
    "names = [\n",
    "    'Иван Петров 04.05.1995',\n",
    "    'Петр Сергеев 04.05.1995',\n",
    "    'Сергей Романов 01.02.1993',\n",
    "    'Роман Григорьев 01.02.1993',\n",
    "    'Григорий Иванов 06.07.1999',\n",
    "    'Тимур Гуев 06.07.1999'\n",
    "]\n",
    "\n",
    "print(*[datetime.strftime(date, '%d.%m.%Y') for date in get_most_frequent_birthday(n, names)], sep='\\n')"
   ]
  },
  {
   "cell_type": "code",
   "execution_count": 65,
   "id": "595d81ad-bb35-4850-b340-50050cc4a747",
   "metadata": {},
   "outputs": [],
   "source": [
    "with open('../data/input_3_5_6.txt', 'r') as test:\n",
    "    tests = test.read().split('\\n')\n",
    "with open('../data/output_3_5_6.txt', 'r') as answer:\n",
    "    answers = answer.read().split('\\n')"
   ]
  },
  {
   "cell_type": "code",
   "execution_count": 66,
   "id": "27efafa5-446a-4559-90d2-d706ee199296",
   "metadata": {},
   "outputs": [],
   "source": [
    "tests = list(filter(lambda x: x != '', tests))\n",
    "tests_positions = [idx for idx, value in enumerate(tests) if 'TEST' in value]"
   ]
  },
  {
   "cell_type": "code",
   "execution_count": 67,
   "id": "9dbe2b92-5612-4d5c-97b3-5d0339348308",
   "metadata": {},
   "outputs": [],
   "source": [
    "answers = list(filter(lambda x: x != '', answers))\n",
    "answers_positions = [idx for idx, value in enumerate(answers) if 'TEST' in value]"
   ]
  },
  {
   "cell_type": "code",
   "execution_count": 85,
   "id": "7d6edfa5-006c-46f4-948b-f180dd4e0089",
   "metadata": {},
   "outputs": [
    {
     "name": "stdout",
     "output_type": "stream",
     "text": [
      "# TEST_1:\n",
      "01.05.1995\n",
      "01.01.1996\n",
      "# TEST_2:\n",
      "01.01.1994\n",
      "# TEST_3:\n",
      "01.01.1991\n",
      "# TEST_4:\n",
      "01.02.1993\n",
      "04.05.1995\n",
      "06.07.1999\n",
      "# TEST_5:\n",
      "13.02.1992\n",
      "25.05.1993\n",
      "22.07.1994\n",
      "14.08.1994\n",
      "16.09.1996\n",
      "02.10.1996\n",
      "# TEST_6:\n",
      "22.07.1993\n"
     ]
    }
   ],
   "source": [
    "for test_number in tests_positions:\n",
    "    n = int(tests[test_number + 1])\n",
    "    emp_list = tests[test_number + 2: test_number + 2 + n]\n",
    "    print(tests[test_number])\n",
    "    print(*[datetime.strftime(date, '%d.%m.%Y') for date in get_most_frequent_birthday(n, emp_list)], sep='\\n')"
   ]
  },
  {
   "cell_type": "code",
   "execution_count": 84,
   "id": "4331d072-ef73-4065-8f6d-f5bd7d453334",
   "metadata": {},
   "outputs": [
    {
     "data": {
      "text/plain": [
       "['# OUTPUT DATA:',\n",
       " '# TEST_1:',\n",
       " '01.05.1995',\n",
       " '01.01.1996',\n",
       " '# TEST_2:',\n",
       " '01.01.1994',\n",
       " '# TEST_3:',\n",
       " '01.01.1991',\n",
       " '# TEST_4:',\n",
       " '01.02.1993',\n",
       " '04.05.1995',\n",
       " '06.07.1999',\n",
       " '# TEST_5:',\n",
       " '13.02.1992',\n",
       " '25.05.1993',\n",
       " '22.07.1994',\n",
       " '14.08.1994',\n",
       " '16.09.1996',\n",
       " '02.10.1996',\n",
       " '# TEST_6:',\n",
       " '22.07.1993']"
      ]
     },
     "execution_count": 84,
     "metadata": {},
     "output_type": "execute_result"
    }
   ],
   "source": [
    "answers"
   ]
  }
 ],
 "metadata": {
  "kernelspec": {
   "display_name": "Python 3 (ipykernel)",
   "language": "python",
   "name": "python3"
  },
  "language_info": {
   "codemirror_mode": {
    "name": "ipython",
    "version": 3
   },
   "file_extension": ".py",
   "mimetype": "text/x-python",
   "name": "python",
   "nbconvert_exporter": "python",
   "pygments_lexer": "ipython3",
   "version": "3.9.16"
  }
 },
 "nbformat": 4,
 "nbformat_minor": 5
}
