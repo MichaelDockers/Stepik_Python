{
 "cells": [
  {
   "cell_type": "markdown",
   "id": "a2390e0c-394f-4840-83c7-0549106ee4c6",
   "metadata": {},
   "source": [
    "## Task \"День недели\"\n",
    "Напишите программу, которая определяет день недели, соответствующий заданной дате.\n",
    "\n",
    "**Формат входных данных**  \n",
    "На вход программе подается дата в формате YYYY-MM-DD.\n",
    "\n",
    "**Формат выходных данных**  \n",
    "Программа должна вывести полное название дня недели на английском, который соответствует введенной дате."
   ]
  },
  {
   "cell_type": "code",
   "execution_count": 1,
   "id": "e8d82cd2-ef4b-4827-9cfb-e66566ab10f0",
   "metadata": {},
   "outputs": [
    {
     "name": "stdout",
     "output_type": "stream",
     "text": [
      "Friday\n"
     ]
    }
   ],
   "source": [
    "from datetime import datetime\n",
    "import calendar\n",
    "\n",
    "\n",
    "def print_dayname(date):\n",
    "    print(calendar.day_name[calendar.weekday(year=date.year, month=date.month, day=date.day)])\n",
    "\n",
    "\n",
    "date = datetime.strptime('2021-12-10', '%Y-%m-%d').date()\n",
    "print_dayname(date)"
   ]
  }
 ],
 "metadata": {
  "kernelspec": {
   "display_name": "Python 3 (ipykernel)",
   "language": "python",
   "name": "python3"
  },
  "language_info": {
   "codemirror_mode": {
    "name": "ipython",
    "version": 3
   },
   "file_extension": ".py",
   "mimetype": "text/x-python",
   "name": "python",
   "nbconvert_exporter": "python",
   "pygments_lexer": "ipython3",
   "version": "3.9.16"
  }
 },
 "nbformat": 4,
 "nbformat_minor": 5
}
