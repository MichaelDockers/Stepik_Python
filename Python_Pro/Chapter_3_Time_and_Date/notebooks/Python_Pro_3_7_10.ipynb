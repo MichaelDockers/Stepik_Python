{
 "cells": [
  {
   "cell_type": "markdown",
   "id": "44e76a1f-4fee-4203-bdc1-438d0c3bcb9d",
   "metadata": {},
   "source": [
    "## Task \"Количество дней 😉\"\n",
    "\n",
    "Напишите программу, которая определяет количество дней в заданном месяце.\n",
    "\n",
    "**Формат входных данных**  \n",
    "На вход программе подаются год и порядковый номер месяца (начиная с 1), разделенные пробелом.\n",
    "\n",
    "**Формат выходных данных** \n",
    "Программа должна вывести единственное число — количество дней в введенном месяце.\n",
    "\n",
    "**Примечание 1.** Январь имеет порядковый номер 1, Февраль — 2, Март — 3, и так далее."
   ]
  },
  {
   "cell_type": "code",
   "execution_count": 2,
   "id": "47d09585-17b7-485b-8e68-0fbe6db689c0",
   "metadata": {},
   "outputs": [
    {
     "name": "stdout",
     "output_type": "stream",
     "text": [
      "31\n"
     ]
    }
   ],
   "source": [
    "from datetime import datetime\n",
    "import calendar\n",
    "\n",
    "\n",
    "def get_month_days(year, month):\n",
    "    return calendar.monthrange(year=year, month=month)[1]\n",
    "\n",
    "\n",
    "year, month = '2008 1'.split()\n",
    "print(get_month_days(int(year), int(month)))"
   ]
  }
 ],
 "metadata": {
  "kernelspec": {
   "display_name": "Python 3 (ipykernel)",
   "language": "python",
   "name": "python3"
  },
  "language_info": {
   "codemirror_mode": {
    "name": "ipython",
    "version": 3
   },
   "file_extension": ".py",
   "mimetype": "text/x-python",
   "name": "python",
   "nbconvert_exporter": "python",
   "pygments_lexer": "ipython3",
   "version": "3.9.16"
  }
 },
 "nbformat": 4,
 "nbformat_minor": 5
}
