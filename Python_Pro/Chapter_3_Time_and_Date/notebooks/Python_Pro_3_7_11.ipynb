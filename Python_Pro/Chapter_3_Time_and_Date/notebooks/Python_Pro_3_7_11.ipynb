{
 "cells": [
  {
   "cell_type": "markdown",
   "id": "e3b18dcc-7b53-4012-b3c4-a6a581816c58",
   "metadata": {},
   "source": [
    "## Task \"Количество дней 😎\"\n",
    "\n",
    "Напишите программу, которая определяет количество дней в заданном месяце.\n",
    "\n",
    "**Формат входных данных**  \n",
    "На вход программе подаются год и полное название месяца на английском, разделенные пробелом.\n",
    "\n",
    "**Формат выходных данных** \n",
    "Программа должна вывести единственное число — количество дней в введенном месяце."
   ]
  },
  {
   "cell_type": "code",
   "execution_count": 1,
   "id": "7d6f1231-9109-4aed-86f6-78d3ab171d4c",
   "metadata": {},
   "outputs": [
    {
     "name": "stdout",
     "output_type": "stream",
     "text": [
      "29\n"
     ]
    }
   ],
   "source": [
    "from datetime import datetime\n",
    "import calendar\n",
    "\n",
    "\n",
    "def get_month_days_by_year_and_month(year, month):\n",
    "    \n",
    "    return calendar.monthrange(year=year, month=list(calendar.month_name).index(month))[1]\n",
    "\n",
    "\n",
    "year, month = '1956 February'.split()\n",
    "print(get_month_days_by_year_and_month(int(year), month))"
   ]
  }
 ],
 "metadata": {
  "kernelspec": {
   "display_name": "Python 3 (ipykernel)",
   "language": "python",
   "name": "python3"
  },
  "language_info": {
   "codemirror_mode": {
    "name": "ipython",
    "version": 3
   },
   "file_extension": ".py",
   "mimetype": "text/x-python",
   "name": "python",
   "nbconvert_exporter": "python",
   "pygments_lexer": "ipython3",
   "version": "3.9.16"
  }
 },
 "nbformat": 4,
 "nbformat_minor": 5
}
