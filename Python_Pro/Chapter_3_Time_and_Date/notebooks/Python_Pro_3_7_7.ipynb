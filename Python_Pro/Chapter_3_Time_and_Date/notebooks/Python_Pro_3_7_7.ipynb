{
 "cells": [
  {
   "cell_type": "markdown",
   "id": "20c99b66-f7cc-4964-929d-6a8d1dc6518e",
   "metadata": {},
   "source": [
    "## Task\n",
    "\n",
    "**Високосный год**  \n",
    "Напишите программу, которая определяет, является ли год високосным.\n",
    "\n",
    "**Формат входных данных**  \n",
    "На вход программе в первой строке подается целое число n, в последующих n строках вводятся натуральные числа, представляющие года.\n",
    "\n",
    "**Формат выходных данных**  \n",
    "Программа должна для каждого введенного года вывести True, если он является високосным, или False в противном случае."
   ]
  },
  {
   "cell_type": "code",
   "execution_count": 1,
   "id": "b8e66667-419e-4f8a-a03a-917b87ef3d99",
   "metadata": {},
   "outputs": [
    {
     "name": "stdout",
     "output_type": "stream",
     "text": [
      "False\n",
      "True\n",
      "False\n"
     ]
    }
   ],
   "source": [
    "import calendar\n",
    "\n",
    "def is_leap(years: list):\n",
    "    return [calendar.isleap(year) for year in years]\n",
    "n = 3\n",
    "test_years = [4433, 2048, 9757]\n",
    "print(*is_leap(test_years), sep='\\n')"
   ]
  }
 ],
 "metadata": {
  "kernelspec": {
   "display_name": "Python 3 (ipykernel)",
   "language": "python",
   "name": "python3"
  },
  "language_info": {
   "codemirror_mode": {
    "name": "ipython",
    "version": 3
   },
   "file_extension": ".py",
   "mimetype": "text/x-python",
   "name": "python",
   "nbconvert_exporter": "python",
   "pygments_lexer": "ipython3",
   "version": "3.9.16"
  }
 },
 "nbformat": 4,
 "nbformat_minor": 5
}
