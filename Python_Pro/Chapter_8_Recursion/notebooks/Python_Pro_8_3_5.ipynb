{
 "cells": [
  {
   "cell_type": "markdown",
   "metadata": {},
   "source": [
    "## Task \"Обычное возведение в степень\"\n",
    "\n",
    "Реализуйте функцию get_pow() с использованием рекурсии, которая принимает два аргумента в следующем порядке:\n",
    "\n",
    "* a — положительное целое число\n",
    "* n — неотрицательное целое число\n",
    "\n",
    "Функция должна вычислять значение a в степени n и возвращать полученный результат.\n",
    "\n",
    "**Примечание 1.** При решении не используйте оператор возведения в степень **.\n",
    "\n",
    "**Примечание 2.** Для построения рекурсивного алгоритма воспользуйтесь следующим рекуррентным соотношением:\n",
    "\n",
    "a^n = a*a^n−1\n",
    " \n",
    "**Примечание 3.** В тестирующую систему сдайте программу, содержащую только необходимую функцию get_pow(), но не код, вызывающий ее."
   ]
  },
  {
   "cell_type": "code",
   "execution_count": 1,
   "metadata": {},
   "outputs": [
    {
     "name": "stdout",
     "output_type": "stream",
     "text": [
      "512\n"
     ]
    }
   ],
   "source": [
    "def get_pow(a: int, n: int) -> int:\n",
    "    if n == 0:\n",
    "        return 1\n",
    "    return a * get_pow(a, n - 1)\n",
    "\n",
    "\n",
    "print(get_pow(2, 9))"
   ]
  }
 ],
 "metadata": {
  "interpreter": {
   "hash": "e2562e5f1dc67fe0fe567c9a0f4e9063dbf1a64329752bf508d5198f12744fe1"
  },
  "kernelspec": {
   "display_name": "Python 3.11.2 64-bit",
   "language": "python",
   "name": "python3"
  },
  "language_info": {
   "codemirror_mode": {
    "name": "ipython",
    "version": 3
   },
   "file_extension": ".py",
   "mimetype": "text/x-python",
   "name": "python",
   "nbconvert_exporter": "python",
   "pygments_lexer": "ipython3",
   "version": "3.11.2"
  },
  "orig_nbformat": 4
 },
 "nbformat": 4,
 "nbformat_minor": 2
}
