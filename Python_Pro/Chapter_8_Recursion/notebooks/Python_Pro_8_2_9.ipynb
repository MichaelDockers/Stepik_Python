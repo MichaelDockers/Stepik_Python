{
 "cells": [
  {
   "cell_type": "markdown",
   "metadata": {},
   "source": [
    "## Task \"Функция print_digits() 😎\"\n",
    "\n",
    "Реализуйте функцию print_digits() с использованием рекурсии, которая принимает один аргумент:\n",
    "\n",
    "* number — натуральное число\n",
    "\n",
    "Функция должна выводить все цифры числа number, начиная со старших разрядов, каждое на отдельной строке.\n",
    "\n",
    "**Примечание 1.** В тестирующую систему сдайте программу, содержащую только необходимую функцию print_digits(), но не код, вызывающий ее."
   ]
  },
  {
   "cell_type": "code",
   "execution_count": 2,
   "metadata": {},
   "outputs": [
    {
     "name": "stdout",
     "output_type": "stream",
     "text": [
      "2\n",
      "0\n",
      "7\n",
      "7\n"
     ]
    }
   ],
   "source": [
    "def print_digits(number):\n",
    "    if number:\n",
    "        print_digits(number // 10)\n",
    "        print(number % 10)\n",
    "        \n",
    "\n",
    "print_digits(2077)"
   ]
  }
 ],
 "metadata": {
  "kernelspec": {
   "display_name": "Python 3",
   "language": "python",
   "name": "python3"
  },
  "language_info": {
   "codemirror_mode": {
    "name": "ipython",
    "version": 3
   },
   "file_extension": ".py",
   "mimetype": "text/x-python",
   "name": "python",
   "nbconvert_exporter": "python",
   "pygments_lexer": "ipython3",
   "version": "3.10.12"
  }
 },
 "nbformat": 4,
 "nbformat_minor": 2
}
