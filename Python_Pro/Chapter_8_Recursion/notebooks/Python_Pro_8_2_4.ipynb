{
 "cells": [
  {
   "cell_type": "markdown",
   "metadata": {},
   "source": [
    "## Task \"Обратный порядок\"\n",
    "\n",
    "Дана последовательность целых чисел. Напишите программу с использованием рекурсии, которая выводит эту последовательность в обратном порядке.\n",
    "\n",
    "**Формат входных данных**\n",
    "\n",
    "На вход программе подается последовательность целых чисел, каждое на отдельной строке. Концом последовательности является число 0. \n",
    "\n",
    "**Формат выходных данных**\n",
    "\n",
    "Программа должна вывести введенные числа в обратном порядке, каждое на отдельной строке."
   ]
  },
  {
   "cell_type": "code",
   "execution_count": 3,
   "metadata": {},
   "outputs": [
    {
     "name": "stdout",
     "output_type": "stream",
     "text": [
      "0\n",
      "1\n",
      "2\n",
      "3\n",
      "4\n",
      "5\n"
     ]
    }
   ],
   "source": [
    "def reverse_input():\n",
    "    n = int(input())\n",
    "    if n != 0:\n",
    "        reverse_input()\n",
    "    print(n)\n",
    "        \n",
    "reverse_input()"
   ]
  }
 ],
 "metadata": {
  "kernelspec": {
   "display_name": "Python 3",
   "language": "python",
   "name": "python3"
  },
  "language_info": {
   "codemirror_mode": {
    "name": "ipython",
    "version": 3
   },
   "file_extension": ".py",
   "mimetype": "text/x-python",
   "name": "python",
   "nbconvert_exporter": "python",
   "pygments_lexer": "ipython3",
   "version": "3.10.12"
  }
 },
 "nbformat": 4,
 "nbformat_minor": 2
}
