{
 "cells": [
  {
   "cell_type": "markdown",
   "metadata": {},
   "source": [
    "## Task \"Функция range_sum()\"\n",
    "\n",
    "Реализуйте функцию range_sum() с использованием рекурсии, которая принимает три аргумента в следующем порядке:\n",
    "\n",
    "* numbers — список целых чисел\n",
    "* start — целое неотрицательное число\n",
    "* end — целое неотрицательное число\n",
    "\n",
    "Функция должна суммировать все числа из списка numbers от numbers[start] до numbers[end] включительно и возвращать полученный результат.\n",
    "\n",
    "**Примечание 1.** Рассмотрим первый тест. Диапазону индексов [3;7] в переданном списке принадлежат числа ​4,5,6,7,8​, сумма которых равна: 4+5+6+7+8=30\n",
    "\n",
    "**Примечание 2.** Гарантируется, что start <= end.\n",
    "\n",
    "**Примечание 3.** В тестирующую систему сдайте программу, содержащую только необходимую функцию range_sum(), но не код, вызывающий ее."
   ]
  },
  {
   "cell_type": "code",
   "execution_count": 8,
   "metadata": {},
   "outputs": [
    {
     "name": "stdout",
     "output_type": "stream",
     "text": [
      "45\n"
     ]
    }
   ],
   "source": [
    "def range_sum(numbers: list, start: int, end: int) -> int:\n",
    "    if start == end:\n",
    "        return numbers[start]\n",
    "   \n",
    "    return numbers[start] + range_sum(numbers, start + 1, end)\n",
    "\n",
    "\n",
    "print(range_sum([1, 2, 3, 4, 5, 6, 7, 8, 9], 0, 8))"
   ]
  }
 ],
 "metadata": {
  "interpreter": {
   "hash": "e2562e5f1dc67fe0fe567c9a0f4e9063dbf1a64329752bf508d5198f12744fe1"
  },
  "kernelspec": {
   "display_name": "Python 3.11.2 64-bit",
   "language": "python",
   "name": "python3"
  },
  "language_info": {
   "codemirror_mode": {
    "name": "ipython",
    "version": 3
   },
   "file_extension": ".py",
   "mimetype": "text/x-python",
   "name": "python",
   "nbconvert_exporter": "python",
   "pygments_lexer": "ipython3",
   "version": "3.11.2"
  }
 },
 "nbformat": 4,
 "nbformat_minor": 2
}
