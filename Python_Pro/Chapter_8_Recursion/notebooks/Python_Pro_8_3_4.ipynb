{
 "cells": [
  {
   "cell_type": "markdown",
   "metadata": {},
   "source": [
    "## Task \"Функция range_sum()\"\n",
    "\n",
    "Реализуйте функцию range_sum() с использованием рекурсии, которая принимает три аргумента в следующем порядке:\n",
    "\n",
    "* numbers — список целых чисел\n",
    "* start — целое неотрицательное число\n",
    "* end — целое неотрицательное число\n",
    "\n",
    "Функция должна суммировать все числа из списка numbers от numbers[start] до numbers[end] включительно и возвращать полученный результат.\n",
    "\n",
    "**Примечание 1.** Рассмотрим первый тест. Диапазону индексов [3;7] в переданном списке принадлежат числа ​4,5,6,7,8​, сумма которых равна: 4+5+6+7+8=30\n",
    "\n",
    "**Примечание 2.** Гарантируется, что start <= end.\n",
    "\n",
    "**Примечание 3.** В тестирующую систему сдайте программу, содержащую только необходимую функцию range_sum(), но не код, вызывающий ее."
   ]
  },
  {
   "cell_type": "code",
   "execution_count": null,
   "metadata": {},
   "outputs": [],
   "source": [
    "def range_sum(numbers: int, start: int, end: int) -> int:\n",
    "    pass"
   ]
  }
 ],
 "metadata": {
  "kernelspec": {
   "display_name": "Python 3",
   "language": "python",
   "name": "python3"
  },
  "language_info": {
   "name": "python",
   "version": "3.10.12"
  }
 },
 "nbformat": 4,
 "nbformat_minor": 2
}
