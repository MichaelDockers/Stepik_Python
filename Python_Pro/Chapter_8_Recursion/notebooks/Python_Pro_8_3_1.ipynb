{
 "cells": [
  {
   "cell_type": "markdown",
   "metadata": {},
   "source": [
    "## Task \"Количество цифр\"\n",
    "\n",
    "Напишите программу с использованием рекурсии, которая принимает на вход число и выводит количество цифр в этом числе.\n",
    "\n",
    "**Формат входных данных**\n",
    "\n",
    "На вход программе подается неотрицательное целое число.\n",
    "\n",
    "**Формат выходных данных**\n",
    "\n",
    "Программа должна определить количество цифр в введенном числе и вывести полученный результат."
   ]
  },
  {
   "cell_type": "code",
   "execution_count": 11,
   "metadata": {},
   "outputs": [
    {
     "name": "stdout",
     "output_type": "stream",
     "text": [
      "6\n"
     ]
    }
   ],
   "source": [
    "def digit_counter(number: int) -> int:\n",
    "    if not number:\n",
    "        return 0\n",
    "    if number:\n",
    "        return digit_counter(number // 10) + 1\n",
    "    \n",
    "        \n",
    "print(digit_counter(207564))"
   ]
  }
 ],
 "metadata": {
  "kernelspec": {
   "display_name": "Python 3",
   "language": "python",
   "name": "python3"
  },
  "language_info": {
   "codemirror_mode": {
    "name": "ipython",
    "version": 3
   },
   "file_extension": ".py",
   "mimetype": "text/x-python",
   "name": "python",
   "nbconvert_exporter": "python",
   "pygments_lexer": "ipython3",
   "version": "3.10.12"
  }
 },
 "nbformat": 4,
 "nbformat_minor": 2
}
