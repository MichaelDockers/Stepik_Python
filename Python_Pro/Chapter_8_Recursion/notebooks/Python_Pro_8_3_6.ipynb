{
 "cells": [
  {
   "cell_type": "markdown",
   "metadata": {},
   "source": [
    "## Task \"Быстрое возведение в степень\"\n",
    "\n",
    "Возводить в степень можно гораздо быстрее, чем за n умножений. Для этого нужно воспользоваться следующими рекуррентными соотношениями:\n",
    "\n",
    "a^n = (a^2)^( n / 2) при четном n  \n",
    "a^n = a * a^(n−1) при нечетном n\n",
    "\n",
    "Реализуйте функцию get_fast_pow() с использованием рекурсии, которая принимает два аргумента в следующем порядке:\n",
    "\n",
    "* a — положительное целое число\n",
    "* n — неотрицательное целое число\n",
    "\n",
    "Функция должна вычислять значение a в степени n, используя алгоритм быстрого возведения в степень, и возвращать полученный результат.\n",
    "\n",
    "**Примечание 1.** При решении не используйте оператор возведения в степень **.\n",
    "\n",
    "**Примечание 2.** В тестирующую систему сдайте программу, содержащую только необходимую функцию get_fast_pow(), но не код, вызывающий ее."
   ]
  },
  {
   "cell_type": "code",
   "execution_count": 16,
   "metadata": {},
   "outputs": [
    {
     "name": "stdout",
     "output_type": "stream",
     "text": [
      "1024\n"
     ]
    }
   ],
   "source": [
    "def get_fast_pow(a: int, n: int) -> int:\n",
    "    if n == 0:\n",
    "        return 1\n",
    "    elif n % 2 != 0:\n",
    "        return a * get_fast_pow(a, n - 1)\n",
    "    else:\n",
    "        return get_fast_pow(a * a, n // 2)\n",
    "\n",
    "\n",
    "print(get_fast_pow(2, 10))"
   ]
  }
 ],
 "metadata": {
  "interpreter": {
   "hash": "e2562e5f1dc67fe0fe567c9a0f4e9063dbf1a64329752bf508d5198f12744fe1"
  },
  "kernelspec": {
   "display_name": "Python 3.11.2 64-bit",
   "language": "python",
   "name": "python3"
  },
  "language_info": {
   "codemirror_mode": {
    "name": "ipython",
    "version": 3
   },
   "file_extension": ".py",
   "mimetype": "text/x-python",
   "name": "python",
   "nbconvert_exporter": "python",
   "pygments_lexer": "ipython3",
   "version": "3.11.2"
  },
  "orig_nbformat": 4
 },
 "nbformat": 4,
 "nbformat_minor": 2
}
