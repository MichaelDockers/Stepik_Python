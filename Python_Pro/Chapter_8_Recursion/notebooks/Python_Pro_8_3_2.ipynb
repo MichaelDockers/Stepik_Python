{
 "cells": [
  {
   "cell_type": "markdown",
   "metadata": {},
   "source": [
    "## Task \"Сумма цифр\"\n",
    "\n",
    "Напишите программу с использованием рекурсии, которая принимает на вход число и выводит сумму цифр этого числа.\n",
    "\n",
    "**Формат входных данных**\n",
    "\n",
    "На вход программе подается неотрицательное целое число.\n",
    "\n",
    "**Формат выходных данных**\n",
    "Программа должна определить сумму цифр введенного числа и вывести полученный результат."
   ]
  },
  {
   "cell_type": "code",
   "execution_count": 1,
   "metadata": {},
   "outputs": [
    {
     "name": "stdout",
     "output_type": "stream",
     "text": [
      "16\n"
     ]
    }
   ],
   "source": [
    "def digits_sum(number: int) -> int:\n",
    "    if not number:\n",
    "        return 0\n",
    "    else:\n",
    "        return number % 10 + digits_sum(number // 10)\n",
    "    \n",
    "\n",
    "print(digits_sum(2077))"
   ]
  }
 ],
 "metadata": {
  "kernelspec": {
   "display_name": "Python 3",
   "language": "python",
   "name": "python3"
  },
  "language_info": {
   "codemirror_mode": {
    "name": "ipython",
    "version": 3
   },
   "file_extension": ".py",
   "mimetype": "text/x-python",
   "name": "python",
   "nbconvert_exporter": "python",
   "pygments_lexer": "ipython3",
   "version": "3.10.12"
  }
 },
 "nbformat": 4,
 "nbformat_minor": 2
}
