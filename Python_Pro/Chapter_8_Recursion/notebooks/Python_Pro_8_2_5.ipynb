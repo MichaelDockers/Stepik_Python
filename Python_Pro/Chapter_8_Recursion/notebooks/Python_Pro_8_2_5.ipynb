{
 "cells": [
  {
   "cell_type": "markdown",
   "metadata": {},
   "source": [
    "## Task \"Функция triangle() 😥\"\n",
    "\n",
    "Реализуйте функцию triangle() с использованием рекурсии, которая принимает один аргумент:\n",
    "\n",
    "* h — натуральное число\n",
    "\n",
    "Функция должна выводить звездный треугольник с высотой h в соответствии со следующим примером:\n",
    "\n",
    "...  \n",
    "\\*****  \n",
    "\\****  \n",
    "\\***  \n",
    "\\**  \n",
    "\\*  \n",
    "\n",
    "**Примечание 1.** В тестирующую систему сдайте программу, содержащую только необходимую функцию triangle(), но не код, вызывающий ее."
   ]
  },
  {
   "cell_type": "code",
   "execution_count": 1,
   "metadata": {},
   "outputs": [
    {
     "name": "stdout",
     "output_type": "stream",
     "text": [
      "*****\n",
      "****\n",
      "***\n",
      "**\n",
      "*\n"
     ]
    }
   ],
   "source": [
    "def triangle(h):\n",
    "    if h > 0:\n",
    "        print('*' * h)\n",
    "        triangle(h - 1)\n",
    "        \n",
    "\n",
    "triangle(5)"
   ]
  }
 ],
 "metadata": {
  "kernelspec": {
   "display_name": "Python 3",
   "language": "python",
   "name": "python3"
  },
  "language_info": {
   "codemirror_mode": {
    "name": "ipython",
    "version": 3
   },
   "file_extension": ".py",
   "mimetype": "text/x-python",
   "name": "python",
   "nbconvert_exporter": "python",
   "pygments_lexer": "ipython3",
   "version": "3.10.12"
  }
 },
 "nbformat": 4,
 "nbformat_minor": 2
}
