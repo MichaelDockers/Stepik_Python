{
 "cells": [
  {
   "cell_type": "markdown",
   "metadata": {},
   "source": [
    "## Task \"Подозрительно просто 🤫\"\n",
    "\n",
    "Вам доступна функция traffic(), реализованная с помощью цикла while, которая принимает в качестве аргумента число n и выводит n раз строку \"Не парковаться\".\n",
    "\n",
    "Перепишите данную функцию с использованием рекурсии, чтобы она выполняла ту же задачу.\n",
    "\n",
    "**Примечание.** В тестирующую систему сдайте программу, содержащую только необходимую функцию traffic(), но не код, вызывающий ее."
   ]
  },
  {
   "cell_type": "code",
   "execution_count": 1,
   "metadata": {},
   "outputs": [
    {
     "name": "stdout",
     "output_type": "stream",
     "text": [
      "Не парковаться\n",
      "Не парковаться\n",
      "Не парковаться\n",
      "Не парковаться\n",
      "Не парковаться\n"
     ]
    }
   ],
   "source": [
    "def traffic(n):\n",
    "    if n > 0:\n",
    "        print('Не парковаться')\n",
    "        traffic(n - 1)\n",
    "        \n",
    "\n",
    "traffic(5)"
   ]
  }
 ],
 "metadata": {
  "kernelspec": {
   "display_name": "Python 3",
   "language": "python",
   "name": "python3"
  },
  "language_info": {
   "codemirror_mode": {
    "name": "ipython",
    "version": 3
   },
   "file_extension": ".py",
   "mimetype": "text/x-python",
   "name": "python",
   "nbconvert_exporter": "python",
   "pygments_lexer": "ipython3",
   "version": "3.10.12"
  }
 },
 "nbformat": 4,
 "nbformat_minor": 2
}
