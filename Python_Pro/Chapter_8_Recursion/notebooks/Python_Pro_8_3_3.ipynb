{
 "cells": [
  {
   "cell_type": "markdown",
   "metadata": {},
   "source": [
    "## Task \"Функция number_of_frogs()\"\n",
    "\n",
    "В первый год в пруду живет 77 лягушек. Каждый год из пруда вылавливают 30 лягушек, а оставшиеся размножаются, и их становится в три раза больше. Так, количество лягушек k-й год  может быть описано формулой:\n",
    "\n",
    "Fk=3(Fk−1−30)\n",
    "\n",
    "Реализуйте функцию number_of_frogs() с использованием рекурсии, которая принимает один аргумент:\n",
    "\n",
    "* year — натуральное число\n",
    "\n",
    "Функция должна возвращать единственное число — количество лягушек в пруду в году year.\n",
    "\n",
    "**Примечание 1.** В тестирующую систему сдайте программу, содержащую только необходимую функцию number_of_frogs(), но не код, вызывающий ее."
   ]
  },
  {
   "cell_type": "code",
   "execution_count": 3,
   "metadata": {},
   "outputs": [
    {
     "name": "stdout",
     "output_type": "stream",
     "text": [
      "141\n"
     ]
    }
   ],
   "source": [
    "def number_of_frogs(year: int) -> int:\n",
    "    if year == 1:\n",
    "        return 77\n",
    "    else:\n",
    "        return 3 * (number_of_frogs(year - 1) - 30)\n",
    "    \n",
    "    \n",
    "print(number_of_frogs(2))"
   ]
  }
 ],
 "metadata": {
  "kernelspec": {
   "display_name": "Python 3",
   "language": "python",
   "name": "python3"
  },
  "language_info": {
   "codemirror_mode": {
    "name": "ipython",
    "version": 3
   },
   "file_extension": ".py",
   "mimetype": "text/x-python",
   "name": "python",
   "nbconvert_exporter": "python",
   "pygments_lexer": "ipython3",
   "version": "3.10.12"
  }
 },
 "nbformat": 4,
 "nbformat_minor": 2
}
