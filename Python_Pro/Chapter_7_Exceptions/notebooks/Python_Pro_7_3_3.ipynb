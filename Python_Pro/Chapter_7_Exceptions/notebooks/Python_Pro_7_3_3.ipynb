{
 "cells": [
  {
   "cell_type": "markdown",
   "metadata": {},
   "source": [
    "## Task \"readme.txt\"\n",
    "\n",
    "Напишите программу с использованием конструкции try-except, которая принимает на вход название текстового файла и выводит его содержимое. Если файла с данным названием нет в папке с программой, программа должна вывести текст:\n",
    "\n",
    "_​Файл не найден_\n",
    "\n",
    "**Формат входных данных**\n",
    "\n",
    "На вход программе подается название текстового файла.\n",
    "\n",
    "**Формат выходных данных**\n",
    "\n",
    "Программа должна вывести содержимое файла с введенным названием или соответствующий текст, если файла с данным названием нет в папке с программой.\n",
    "\n",
    "**Примечание 1.** Название подаваемого файла уже содержит расширение.\n",
    "\n",
    "**Примечание 2.** При открытии файла используйте явное указание кодировки UTF-8."
   ]
  },
  {
   "cell_type": "code",
   "execution_count": 3,
   "metadata": {},
   "outputs": [
    {
     "name": "stdout",
     "output_type": "stream",
     "text": [
      "​Файл не найден\n"
     ]
    }
   ],
   "source": [
    "try:\n",
    "    with open(f'../data/{input()}', 'r', encoding='utf-8') as file:\n",
    "        print(file.read())\n",
    "except FileNotFoundError:\n",
    "    print('​Файл не найден')"
   ]
  }
 ],
 "metadata": {
  "kernelspec": {
   "display_name": "Python 3",
   "language": "python",
   "name": "python3"
  },
  "language_info": {
   "codemirror_mode": {
    "name": "ipython",
    "version": 3
   },
   "file_extension": ".py",
   "mimetype": "text/x-python",
   "name": "python",
   "nbconvert_exporter": "python",
   "pygments_lexer": "ipython3",
   "version": "3.10.12"
  }
 },
 "nbformat": 4,
 "nbformat_minor": 2
}
