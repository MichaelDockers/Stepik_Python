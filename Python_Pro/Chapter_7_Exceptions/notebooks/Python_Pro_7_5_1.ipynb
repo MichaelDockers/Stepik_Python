{
 "cells": [
  {
   "cell_type": "markdown",
   "metadata": {},
   "source": [
    "## Task \"Функция is_good_password() 👀\"\n",
    "\n",
    "Назовем пароль хорошим, если\n",
    "\n",
    "* его длина равна 9 или более символам\n",
    "* в нем присутствуют большие и маленькие буквы любого алфавита\n",
    "* в нем имеется хотя бы одна цифра\n",
    "\n",
    "Реализуйте функцию is_good_password() в стиле LBYL, которая принимает один аргумент:\n",
    "\n",
    "* string — произвольная строка\n",
    "\n",
    "Функция должна возвращать True, если строка string представляет собой хороший пароль, или False в противном случае.\n",
    "\n",
    "**Примечание 1.** В тестирующую систему сдайте программу, содержащую только необходимую функцию is_good_password(), но не код, вызывающий ее. "
   ]
  },
  {
   "cell_type": "code",
   "execution_count": 7,
   "metadata": {},
   "outputs": [
    {
     "name": "stdout",
     "output_type": "stream",
     "text": [
      "False\n"
     ]
    }
   ],
   "source": [
    "def is_good_password(pw: str):\n",
    "    return all(\n",
    "        (\n",
    "        any(x.islower() for x in pw), \n",
    "        any(x.isupper() for x in pw), \n",
    "        any(x.isdigit() for x in pw),\n",
    "        len(pw) >= 9\n",
    "        )\n",
    "        )\n",
    "\n",
    "\n",
    "print(is_good_password('4abcdABC'))"
   ]
  }
 ],
 "metadata": {
  "kernelspec": {
   "display_name": "Python 3",
   "language": "python",
   "name": "python3"
  },
  "language_info": {
   "codemirror_mode": {
    "name": "ipython",
    "version": 3
   },
   "file_extension": ".py",
   "mimetype": "text/x-python",
   "name": "python",
   "nbconvert_exporter": "python",
   "pygments_lexer": "ipython3",
   "version": "3.10.12"
  }
 },
 "nbformat": 4,
 "nbformat_minor": 2
}
