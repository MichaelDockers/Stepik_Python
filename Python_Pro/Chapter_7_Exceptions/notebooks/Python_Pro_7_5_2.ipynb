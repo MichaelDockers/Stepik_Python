{
 "cells": [
  {
   "cell_type": "markdown",
   "metadata": {},
   "source": [
    "## Task \"Функция is_good_password() 🐍\"\n",
    "\n",
    "Назовем пароль хорошим, если\n",
    "\n",
    "* его длина равна 9 или более символам\n",
    "* в нем присутствуют большие и маленькие буквы любого алфавита\n",
    "* в нем имеется хотя бы одна цифра\n",
    "\n",
    "Реализуйте функцию is_good_password() в стиле EAFP, которая принимает один аргумент:\n",
    "\n",
    "* string — произвольная строка\n",
    "\n",
    "Функция должна возвращать True, если строка string представляет собой хороший пароль, или возбуждать исключение:\n",
    "\n",
    "* LengthError, если его длина меньше 9 символов\n",
    "* LetterError, если в нем отсутствуют буквы или все буквы имеют одинаковый регистр\n",
    "* DigitError, если в нем нет ни одной цифры\n",
    "\n",
    "**Примечание 1.** Исключения LengthError, LetterError и DigitError уже определены и доступны.\n",
    "\n",
    "**Примечание 2.** Приоритет возбуждения исключений в случае невыполнения нескольких условий: LengthError, затем LetterError, а уже после DigitError.\n",
    "\n",
    "**Примечание 3.** В тестирующую систему сдайте программу, содержащую только необходимую функцию is_good_password(), но не код, вызывающий ее."
   ]
  },
  {
   "cell_type": "code",
   "execution_count": 14,
   "metadata": {},
   "outputs": [
    {
     "name": "stdout",
     "output_type": "stream",
     "text": [
      "True\n"
     ]
    }
   ],
   "source": [
    "class LengthError(Exception):\n",
    "    pass\n",
    "\n",
    "\n",
    "class LetterError(Exception):\n",
    "    pass\n",
    "\n",
    "\n",
    "class DigitError(Exception):\n",
    "    pass\n",
    "\n",
    "\n",
    "def is_good_password(pw: str):\n",
    "    if len(pw) < 9:\n",
    "        raise LengthError\n",
    "    if pw.isupper() or pw.islower() or not any(x.isalpha() for x in pw):\n",
    "        raise LetterError\n",
    "    if pw.isalpha():\n",
    "        raise DigitError\n",
    "    return True\n",
    "\n",
    "\n",
    "try:\n",
    "    print(is_good_password('ASDLkjhfakljHLK'))\n",
    "except Exception as err:\n",
    "    print(type(err))"
   ]
  }
 ],
 "metadata": {
  "kernelspec": {
   "display_name": "Python 3",
   "language": "python",
   "name": "python3"
  },
  "language_info": {
   "codemirror_mode": {
    "name": "ipython",
    "version": 3
   },
   "file_extension": ".py",
   "mimetype": "text/x-python",
   "name": "python",
   "nbconvert_exporter": "python",
   "pygments_lexer": "ipython3",
   "version": "3.10.12"
  }
 },
 "nbformat": 4,
 "nbformat_minor": 2
}
