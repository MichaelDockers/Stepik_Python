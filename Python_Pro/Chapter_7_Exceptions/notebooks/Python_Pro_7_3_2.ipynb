{
 "cells": [
  {
   "cell_type": "markdown",
   "metadata": {},
   "source": [
    "## Task \"Функция add_to_list_in_dict()\"\n",
    "\n",
    "Реализуйте функцию add_to_list_in_dict() с использованием конструкции try-except, которая принимает три аргумента в следующем порядке:\n",
    "\n",
    "* data — словарь списков, то есть словарь, значениями в котором являются списки\n",
    "* key — хешируемый объект\n",
    "* element — произвольный объект\n",
    "\n",
    "Функция должна добавлять объект element в список по ключу key в словаре data. Если ключа key в словаре data нет, функция должна добавить его в словарь, присвоить ему в качестве значения пустой список и добавить в этот список объект element.\n",
    "\n",
    "**Примечание 1.** Функция должна изменять переданный словарь и возвращать значение None.\n",
    "\n",
    "**Примечание 2.** Элементы в список должны добавляться в конец.\n",
    "\n",
    "**Примечание 3.** В тестирующую систему сдайте программу, содержащую только необходимую функцию add_to_list_in_dict(), но не код, вызывающий ее."
   ]
  },
  {
   "cell_type": "code",
   "execution_count": 4,
   "metadata": {},
   "outputs": [
    {
     "name": "stdout",
     "output_type": "stream",
     "text": [
      "{'a': [1, 2, 3], 'b': [4, 5, 6], 'c': [7]}\n"
     ]
    }
   ],
   "source": [
    "def add_to_list_in_dict(data: dict, key, element):\n",
    "    try:\n",
    "        data[key].append(element)\n",
    "    except KeyError:\n",
    "        data[key] = [element]\n",
    "\n",
    "\n",
    "data = {'a': [1, 2, 3], 'b': [4, 5, 6]}\n",
    "add_to_list_in_dict(data, 'c', 7)\n",
    "\n",
    "print(data)"
   ]
  }
 ],
 "metadata": {
  "kernelspec": {
   "display_name": "Python 3",
   "language": "python",
   "name": "python3"
  },
  "language_info": {
   "codemirror_mode": {
    "name": "ipython",
    "version": 3
   },
   "file_extension": ".py",
   "mimetype": "text/x-python",
   "name": "python",
   "nbconvert_exporter": "python",
   "pygments_lexer": "ipython3",
   "version": "3.10.12"
  }
 },
 "nbformat": 4,
 "nbformat_minor": 2
}
