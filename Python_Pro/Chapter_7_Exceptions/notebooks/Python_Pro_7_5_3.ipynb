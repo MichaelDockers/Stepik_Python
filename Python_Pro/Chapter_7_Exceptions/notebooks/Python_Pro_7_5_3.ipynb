{
 "cells": [
  {
   "cell_type": "markdown",
   "metadata": {},
   "source": [
    "## Task \"Уж лучше матрицы 😐\"\n",
    "\n",
    "Назовем пароль хорошим, если\n",
    "\n",
    "* его длина равна 9 или более символам\n",
    "* в нем присутствуют большие и маленькие буквы любого алфавита\n",
    "* в нем имеется хотя бы одна цифра\n",
    "\n",
    "Напишите программу, которая требует ввода нового пароля до тех пор, пока не будет введен хороший.\n",
    "\n",
    "**Формат входных данных**\n",
    "\n",
    "На вход программе подается произвольное количество паролей, каждый на отдельной строке. Гарантируется, что среди них присутствует хороший.\n",
    "\n",
    "**Формат выходных данных**\n",
    "\n",
    "Для каждого введенного пароля программа должна вывести текст:\n",
    "\n",
    "* LengthError, если длина введенного пароля меньше 9 символов\n",
    "* LetterError, если в нем все буквы имеют одинаковый регистр либо отсутствуют\n",
    "* DigitError, если в нем нет ни одной цифры\n",
    "* Success!, если введенный пароль хороший\n",
    "\n",
    "После ввода хорошего пароля все последующие пароли должны игнорироваться.\n",
    "\n",
    "**Примечание 1.** Приоритет вывода сообщений об ошибке в случае невыполнения нескольких условий: LengthError, затем LetterError, а уже после DigitError.\n",
    "\n",
    "**Примечание 2.** Воспользуйтесь функцией is_good_password() из предыдущей задачи."
   ]
  },
  {
   "cell_type": "code",
   "execution_count": null,
   "metadata": {},
   "outputs": [],
   "source": [
    "import sys\n",
    "\n",
    "class LengthError(Exception):\n",
    "    pass\n",
    "\n",
    "\n",
    "class LetterError(Exception):\n",
    "    pass\n",
    "\n",
    "\n",
    "class DigitError(Exception):\n",
    "    pass\n",
    "\n",
    "\n",
    "def is_good_password(pw: str):\n",
    "    if len(pw) < 9:\n",
    "        raise LengthError('LengthError')\n",
    "    if pw.isupper() or pw.islower() or not any(x.isalpha() for x in pw):\n",
    "        raise LetterError('LetterError')\n",
    "    if pw.isalpha():\n",
    "        raise DigitError('DigitError')\n",
    "\n",
    "\n",
    "for line in sys.stdin:\n",
    "    try:\n",
    "        is_good_password(line.strip())\n",
    "    except Exception as err:\n",
    "        print(err)\n",
    "    else:\n",
    "        print('Success!')\n",
    "        break"
   ]
  }
 ],
 "metadata": {
  "kernelspec": {
   "display_name": "Python 3",
   "language": "python",
   "name": "python3"
  },
  "language_info": {
   "codemirror_mode": {
    "name": "ipython",
    "version": 3
   },
   "file_extension": ".py",
   "mimetype": "text/x-python",
   "name": "python",
   "nbconvert_exporter": "python",
   "pygments_lexer": "ipython3",
   "version": "3.10.12"
  }
 },
 "nbformat": 4,
 "nbformat_minor": 2
}
