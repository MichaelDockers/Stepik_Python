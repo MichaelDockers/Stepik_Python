{
 "cells": [
  {
   "cell_type": "markdown",
   "metadata": {},
   "source": [
    "## Task\n",
    "\n",
    "Вам доступна программа, которая добавляет в список fifth пятую букву каждого слова из списка food. Если слово не имеет пятой буквы, этой буквой считается символ _. Дополните приведенный ниже код конструкцией try-except, чтобы он выполнился без ошибок."
   ]
  },
  {
   "cell_type": "code",
   "execution_count": 2,
   "metadata": {},
   "outputs": [
    {
     "name": "stdout",
     "output_type": "stream",
     "text": [
      "['o', 'k', '_', 'w', '_', 't', '_', '_', 'n']\n"
     ]
    }
   ],
   "source": [
    "food = ['chocolate', 'chicken', 'corn', 'sandwich', 'soup', 'potatoes', 'beef', 'lox', 'lemonade']\n",
    "fifth = []\n",
    "\n",
    "for x in food:\n",
    "    try:\n",
    "        fifth.append(x[4])\n",
    "    except IndexError:\n",
    "        fifth.append('_')\n",
    "\n",
    "print(fifth)"
   ]
  }
 ],
 "metadata": {
  "interpreter": {
   "hash": "e2562e5f1dc67fe0fe567c9a0f4e9063dbf1a64329752bf508d5198f12744fe1"
  },
  "kernelspec": {
   "display_name": "Python 3.11.2 64-bit",
   "language": "python",
   "name": "python3"
  },
  "language_info": {
   "codemirror_mode": {
    "name": "ipython",
    "version": 3
   },
   "file_extension": ".py",
   "mimetype": "text/x-python",
   "name": "python",
   "nbconvert_exporter": "python",
   "pygments_lexer": "ipython3",
   "version": "3.11.2"
  },
  "orig_nbformat": 4
 },
 "nbformat": 4,
 "nbformat_minor": 2
}
