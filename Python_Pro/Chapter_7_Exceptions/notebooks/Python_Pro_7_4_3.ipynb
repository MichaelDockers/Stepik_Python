{
 "cells": [
  {
   "cell_type": "markdown",
   "metadata": {},
   "source": [
    "## Task \"Десериализация\"\n",
    "\n",
    "Напишите программу, которая принимает на вход название JSON файла, десериализует содержащийся в этом файле объект и выводит его.\n",
    "\n",
    "* если файла с данным названием нет в папке с программой, программа должна вывести текст:\n",
    "_Файл не найден_\n",
    "\n",
    "* если файл с данным названием содержит некорректные данные (то есть не удовлетворяющие формату JSON), программа должна вывести текст:\n",
    "\n",
    "_Ошибка при десериализации_\n",
    "\n",
    "**Формат входных данных**\n",
    "\n",
    "На вход программе подается название JSON файла.\n",
    "\n",
    "**Формат выходных данных**\n",
    "\n",
    "Программа должна десериализовать объект, содержащийся в файле с введенным названием, и вывести его. Если при поиске файла или десериализации его содержимого произошла ошибка, программа должна вывести соответствующий текст.\n",
    "\n",
    "**Примечание 1.** Название подаваемого файла уже содержит расширение."
   ]
  },
  {
   "cell_type": "code",
   "execution_count": 1,
   "metadata": {},
   "outputs": [
    {
     "name": "stdout",
     "output_type": "stream",
     "text": [
      "File not found\n"
     ]
    }
   ],
   "source": [
    "import json\n",
    "\n",
    "\n",
    "try:\n",
    "    with open(f'{input()}', 'r', encoding='utf-8') as file:\n",
    "        print(json.load(file))\n",
    "except FileNotFoundError:\n",
    "    print('Файл не найден')\n",
    "except json.JSONDecodeError:\n",
    "    print('Ошибка при десериализации')"
   ]
  }
 ],
 "metadata": {
  "kernelspec": {
   "display_name": "Python 3",
   "language": "python",
   "name": "python3"
  },
  "language_info": {
   "codemirror_mode": {
    "name": "ipython",
    "version": 3
   },
   "file_extension": ".py",
   "mimetype": "text/x-python",
   "name": "python",
   "nbconvert_exporter": "python",
   "pygments_lexer": "ipython3",
   "version": "3.10.12"
  }
 },
 "nbformat": 4,
 "nbformat_minor": 2
}
