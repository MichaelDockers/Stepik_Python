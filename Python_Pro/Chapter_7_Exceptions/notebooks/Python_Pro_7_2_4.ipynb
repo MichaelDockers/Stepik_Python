{
 "cells": [
  {
   "cell_type": "markdown",
   "metadata": {},
   "source": [
    "## Task \"Only numbers\"\n",
    "\n",
    "На вход программе подается неопределенное количество строк, каждая из которых содержит произвольное значение. Напишите программу с использованием конструкции try-except, которая выводит сумму всех введенных чисел, а затем — количество введенных нечисловых значений.\n",
    "\n",
    "**Формат входных данных**\n",
    "\n",
    "На вход программе подается неопределенное количество строк (хотя бы одна), каждая из которых содержит произвольное значение.\n",
    "\n",
    "**Формат выходных данных**\n",
    "\n",
    "Программа должна вывести сумму всех введенных чисел (тип int и float), а затем на следующей строке — количество введенных нечисловых значений.\n",
    "\n",
    "**Примечание 1.** Если ни одно число введено не было, то сумма равна 0.\n",
    "\n",
    "**Примечание 2.** Рассмотрим первый тест. Имеем три введенных числа, сумма которых равна:\n",
    "\n",
    "100+10+1.1=111.1\n",
    "\n",
    "Также три нечисловых значения, а именно: i'm number!, [1, 99], {'math', 'physics'}."
   ]
  },
  {
   "cell_type": "code",
   "execution_count": 1,
   "metadata": {},
   "outputs": [],
   "source": [
    "import sys\n",
    "\n",
    "total = 0\n",
    "counter = 0\n",
    "\n",
    "for line in sys.stdin:\n",
    "    try:\n",
    "        total += float(line)\n",
    "    except (TypeError, ValueError):\n",
    "        counter += 1\n",
    "\n",
    "print(int(total) if int(total) == total else total, counter, sep='\\n')"
   ]
  }
 ],
 "metadata": {
  "interpreter": {
   "hash": "e2562e5f1dc67fe0fe567c9a0f4e9063dbf1a64329752bf508d5198f12744fe1"
  },
  "kernelspec": {
   "display_name": "Python 3.11.2 64-bit",
   "language": "python",
   "name": "python3"
  },
  "language_info": {
   "codemirror_mode": {
    "name": "ipython",
    "version": 3
   },
   "file_extension": ".py",
   "mimetype": "text/x-python",
   "name": "python",
   "nbconvert_exporter": "python",
   "pygments_lexer": "ipython3",
   "version": "3.11.2"
  },
  "orig_nbformat": 4
 },
 "nbformat": 4,
 "nbformat_minor": 2
}
