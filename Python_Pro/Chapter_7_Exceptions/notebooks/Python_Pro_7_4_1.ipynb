{
 "cells": [
  {
   "cell_type": "markdown",
   "metadata": {},
   "source": [
    "## Task \"Функция get_weekday()\"\n",
    "\n",
    "Реализуйте функцию get_weekday(), которая принимает один аргумент:\n",
    "\n",
    "* number — целое число (от 1 до 7 включительно)\n",
    "\n",
    "Функция должна возвращать полное название дня недели на русском, который соответствует числу number, при этом:\n",
    "\n",
    "* если number не является целым числом, функция должна возбуждать исключение: \n",
    "\n",
    "_TypeError('Аргумент не является целым числом'))_\n",
    "\n",
    "* если number является целым числом, но не принадлежит отрезку [1;7], функция должна возбуждать исключение: \n",
    "\n",
    "_ValueError('Аргумент не принадлежит требуемому диапазону')_\n",
    "\n",
    "**Примечание 1.** В тестирующую систему сдайте программу, содержащую только необходимую функцию get_weekday(), но не код, вызывающий ее."
   ]
  },
  {
   "cell_type": "code",
   "execution_count": 16,
   "metadata": {},
   "outputs": [
    {
     "name": "stdout",
     "output_type": "stream",
     "text": [
      "Аргумент не является целым числом\n",
      "<class 'TypeError'>\n"
     ]
    }
   ],
   "source": [
    "def get_weekday(number: int):\n",
    "    week = {\n",
    "        1: \"Понедельник\", \n",
    "        2: \"Вторник\", \n",
    "        3: \"Среда\", \n",
    "        4: \"Четверг\", \n",
    "        5: \"Пятница\", \n",
    "        6: \"Суббота\", \n",
    "        7: \"Воскресенье\"\n",
    "        }\n",
    "    if not isinstance(number, int):\n",
    "        raise TypeError('Аргумент не является целым числом')\n",
    "    if number not in range(1, 8):\n",
    "        raise ValueError('Аргумент не принадлежит требуемому диапазону')\n",
    "    return week[number]\n",
    "\n",
    "\n",
    "try:\n",
    "    print(get_weekday('a'))\n",
    "except Exception as err:\n",
    "    print(err)\n",
    "    print(type(err))"
   ]
  }
 ],
 "metadata": {
  "kernelspec": {
   "display_name": "Python 3",
   "language": "python",
   "name": "python3"
  },
  "language_info": {
   "codemirror_mode": {
    "name": "ipython",
    "version": 3
   },
   "file_extension": ".py",
   "mimetype": "text/x-python",
   "name": "python",
   "nbconvert_exporter": "python",
   "pygments_lexer": "ipython3",
   "version": "3.10.12"
  }
 },
 "nbformat": 4,
 "nbformat_minor": 2
}
