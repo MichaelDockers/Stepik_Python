{
 "cells": [
  {
   "cell_type": "markdown",
   "metadata": {},
   "source": [
    "## Task \"Функция get_id()\"\n",
    "\n",
    "В онлайн-школе BEEGEEK имя ученика считается корректным, если оно начинается с заглавной латинской буквы, за которой следуют строчные латинские буквы. Например, имена Timur и Yo считаются корректными, а имена timyrik, Yo17, TimuRRR нет. Также у каждого ученика имеется идентификационный номер, представленный натуральным числом, который выдается при поступлении в школу. К примеру, если в школе обучается 10 учеников, то новый прибывший ученик получит идентификационный номер равный 11.\n",
    "\n",
    "Реализуйте функцию get_id(), которая принимает два аргумента:\n",
    "\n",
    "* names — список имен учеников, обучающихся в школе\n",
    "* name — имя поступающего ученика\n",
    "\n",
    "Функция должна возвращать идентификационный номер, который получит поступающий в школу ученик, при этом\n",
    "\n",
    "* если имя ученика name не является строкой (тип str), функция должна возбуждать исключение:\n",
    "_TypeError('Имя не является строкой')_\n",
    "\n",
    "* если имя ученика name является строкой (тип str), но не представляет собой корректное имя, функция должна возбуждать исключение:\n",
    "\n",
    "_ValueError('Имя не является корректным')_\n",
    "\n",
    "**Примечание 1.** В тестирующую систему сдайте программу, содержащую только необходимую функцию get_id(), но не код, вызывающий ее. "
   ]
  },
  {
   "cell_type": "code",
   "execution_count": 3,
   "metadata": {},
   "outputs": [
    {
     "name": "stdout",
     "output_type": "stream",
     "text": [
      "Имя не является строкой\n"
     ]
    }
   ],
   "source": [
    "def get_id(names: list, name: str):\n",
    "    if not isinstance(name, str):\n",
    "        raise TypeError('Имя не является строкой')\n",
    "    if not name.isalpha() or not name.istitle():\n",
    "        raise ValueError('Имя не является корректным')\n",
    "    return len(names) + 1\n",
    "\n",
    "\n",
    "names = ['Timur', 'Anri', 'Dima', 'Arthur', 'Ruslan']\n",
    "name = ['E', 'd', 'u', 'a', 'r', 'd']\n",
    "\n",
    "try:\n",
    "    print(get_id(names, name))\n",
    "except TypeError as e:\n",
    "    print(e)"
   ]
  }
 ],
 "metadata": {
  "kernelspec": {
   "display_name": "Python 3",
   "language": "python",
   "name": "python3"
  },
  "language_info": {
   "codemirror_mode": {
    "name": "ipython",
    "version": 3
   },
   "file_extension": ".py",
   "mimetype": "text/x-python",
   "name": "python",
   "nbconvert_exporter": "python",
   "pygments_lexer": "ipython3",
   "version": "3.10.12"
  }
 },
 "nbformat": 4,
 "nbformat_minor": 2
}
