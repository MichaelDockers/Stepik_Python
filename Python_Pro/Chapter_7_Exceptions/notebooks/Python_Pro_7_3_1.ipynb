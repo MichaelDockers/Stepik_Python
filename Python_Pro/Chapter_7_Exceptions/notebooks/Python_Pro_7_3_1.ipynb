{
 "cells": [
  {
   "cell_type": "markdown",
   "metadata": {},
   "source": [
    "## Task \"Январь, февраль, ...\"\n",
    "\n",
    "Напишите программу с использованием конструкции try-except, которая выводит название месяца, соответствующее введенному целому числу (от 1 до 12 включительно), причем \n",
    "* если введенное число не принадлежит отрезку [1;12], программа должна вывести текст:\n",
    "\n",
    "_Введено число из недопустимого диапазона_\n",
    "\n",
    "* если введенное значение не является целым числом, программа должна вывести текст:\n",
    "\n",
    "_Введено некорректное значение_\n",
    "\n",
    "**Формат входных данных**\n",
    "\n",
    "На вход программе подается единственная строка с произвольным значением.\n",
    "\n",
    "**Формат выходных данных**\n",
    "\n",
    "Программа должна вывести полное название месяца на английском, соответствующее введенному числу (от 1 до 12 включительно) или текст с соответствующей ошибкой, если введенное значение некорректно."
   ]
  },
  {
   "cell_type": "code",
   "execution_count": 11,
   "metadata": {},
   "outputs": [
    {
     "name": "stdout",
     "output_type": "stream",
     "text": [
      "Введено некорректное значение\n"
     ]
    }
   ],
   "source": [
    "from calendar import month_name\n",
    "\n",
    "valid_month_dict = dict(zip(range(1, 13), range(1, 13)))\n",
    "\n",
    "try:\n",
    "    print(month_name[valid_month_dict[int(input())]])\n",
    "except KeyError:\n",
    "    print('Введено число из недопустимого диапазона')\n",
    "except ValueError:\n",
    "    print('Введено некорректное значение')"
   ]
  }
 ],
 "metadata": {
  "interpreter": {
   "hash": "e2562e5f1dc67fe0fe567c9a0f4e9063dbf1a64329752bf508d5198f12744fe1"
  },
  "kernelspec": {
   "display_name": "Python 3.11.2 64-bit",
   "language": "python",
   "name": "python3"
  },
  "language_info": {
   "codemirror_mode": {
    "name": "ipython",
    "version": 3
   },
   "file_extension": ".py",
   "mimetype": "text/x-python",
   "name": "python",
   "nbconvert_exporter": "python",
   "pygments_lexer": "ipython3",
   "version": "3.11.2"
  },
  "orig_nbformat": 4
 },
 "nbformat": 4,
 "nbformat_minor": 2
}
