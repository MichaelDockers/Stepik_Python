{
 "cells": [
  {
   "cell_type": "markdown",
   "id": "c8ecfa5b-d4fa-41c2-b57c-8447c251f40a",
   "metadata": {},
   "source": [
    "## Task \"Функция best_sender()\"\n",
    "\n",
    "Рассмотрим два списка:\n",
    "\n",
    "messages = ['Hi, Linda', 'Hi, Sam', 'How are you doing?']\n",
    "\n",
    "senders = ['Sam Fisher', 'Linda', 'Sam Fisher']\n",
    "\n",
    "Первый список представляет набор отправленных сообщений в некотором мессенджере, второй список — набор отправителей этих сообщений. Причем сообщение messages[i] отправлено пользователем senders[i]. Каждое сообщение представляет собой последовательность слов, разделенных пробелом (знаки препинания считаются частями слов). Количество слов — это общее число слов, отправленное пользователем. Обратите внимание, что каждый пользователь может отправлять более одного сообщения. Например, пользователь Sam Fisher отправил 2 слова в первом сообщении и 4 слова во втором, следовательно, его количество слов равно 2+4=6. \n",
    "\n",
    "Реализуйте функцию best_sender(), которая принимает два аргумента в следующем порядке:\n",
    "\n",
    "* messages — список сообщений\n",
    "* senders — список имен отправителей\n",
    "\n",
    "Функция должна определять отправителя, имеющего наибольшее количество слов, и возвращать его имя. Если таких отправителей несколько, следует вернуть имя того, чье имя больше в лексикографическом сравнении.\n",
    "\n",
    "**Примечание 1.** Гарантируется, что длины передаваемых в функцию списков совпадают.\n",
    "\n",
    "**Примечание 2.** В тестирующую систему сдайте программу, содержащую только необходимую функцию best_sender(), но не код, вызывающий ее."
   ]
  },
  {
   "cell_type": "code",
   "execution_count": 7,
   "id": "072c35f3-0ee1-4d07-8bf1-0214def2d52c",
   "metadata": {},
   "outputs": [
    {
     "name": "stdout",
     "output_type": "stream",
     "text": [
      "Charlie\n"
     ]
    }
   ],
   "source": [
    "from collections import defaultdict\n",
    "\n",
    "def best_sender(messages: list, senders: list) -> str:\n",
    "    sender_dict = defaultdict(int)\n",
    "    for message, sender in zip(messages, senders):\n",
    "        sender_dict[sender] += len(message.split())\n",
    "    \n",
    "    return max(sender_dict.items(), key=lambda x: (x[1], x[0]))[0]\n",
    "\n",
    "messages = ['How is Stepik for everyone', 'Stepik is useful for practice']\n",
    "senders = ['Bob', 'Charlie']\n",
    "\n",
    "print(best_sender(messages, senders))"
   ]
  },
  {
   "cell_type": "code",
   "execution_count": 12,
   "id": "94899026-9dad-45d3-8984-517cc0174de5",
   "metadata": {},
   "outputs": [
    {
     "name": "stdout",
     "output_type": "stream",
     "text": [
      "Mercury Venues Earth Mars Jupiter Saturn Uranus Neptune\n"
     ]
    }
   ],
   "source": [
    "from collections import OrderedDict\n",
    "\n",
    "planets1 = OrderedDict(Mercury=None, Venues=2, Earth=None, Mars=4, Jupiter=5)\n",
    "planets2 = OrderedDict(Mercury=1, Saturn=6, Uranus=7, Neptune=8, Earth=3)\n",
    "\n",
    "solar_system = planets1 | planets2\n",
    "\n",
    "print(*solar_system)"
   ]
  }
 ],
 "metadata": {
  "kernelspec": {
   "display_name": "Python 3 (ipykernel)",
   "language": "python",
   "name": "python3"
  },
  "language_info": {
   "codemirror_mode": {
    "name": "ipython",
    "version": 3
   },
   "file_extension": ".py",
   "mimetype": "text/x-python",
   "name": "python",
   "nbconvert_exporter": "python",
   "pygments_lexer": "ipython3",
   "version": "3.9.16"
  }
 },
 "nbformat": 4,
 "nbformat_minor": 5
}
