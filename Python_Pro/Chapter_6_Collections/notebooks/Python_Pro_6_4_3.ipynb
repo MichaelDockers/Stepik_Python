{
 "cells": [
  {
   "cell_type": "markdown",
   "id": "cf2d8bdb-3627-4bb3-b6a1-6491d3f1c727",
   "metadata": {},
   "source": [
    "## Task\n",
    "\n",
    "Вам доступен именованный кортеж Animal, который содержит данные о животном. Первым элементом именованного кортежа является имя животного, вторым — семейство, третьим — пол, четвертым — цвет. Также доступен файл data.pkl, содержащий сериализованный список таких кортежей.\n",
    "\n",
    "Дополните приведенный ниже код, чтобы для каждого кортежа из этого списка он вывел названия его полей и значения этих полей в следующем формате:\n",
    "\n",
    "name: <значение>  \n",
    "family: <значение>  \n",
    "sex: <значение>  \n",
    "color: <значение>  \n",
    "\n",
    "Между полями и значениями двух разных кортежей должна располагаться пустая строка.\n",
    "\n",
    "**Примечание 1.** Сначала должно следовать содержание первого кортежа из списка, затем второго, и так далее."
   ]
  },
  {
   "cell_type": "code",
   "execution_count": 37,
   "id": "5286f7af-8bbc-414d-8c43-92a61b67fea2",
   "metadata": {},
   "outputs": [
    {
     "name": "stdout",
     "output_type": "stream",
     "text": [
      "name: Alex\n",
      "family: dogs\n",
      "sex: m\n",
      "color: brown\n",
      "\n",
      "name: Nancy\n",
      "family: cats\n",
      "sex: w\n",
      "color: white\n",
      "\n",
      "name: Sam\n",
      "family: dogs\n",
      "sex: m\n",
      "color: brown\n",
      "\n",
      "name: Misha\n",
      "family: hedgehogs\n",
      "sex: m\n",
      "color: black\n",
      "\n",
      "name: Fredd\n",
      "family: cats\n",
      "sex: m\n",
      "color: white\n",
      "\n",
      "name: Python\n",
      "family: snakes\n",
      "sex: w\n",
      "color: white\n",
      "\n",
      "name: Crispy\n",
      "family: cats\n",
      "sex: w\n",
      "color: white\n",
      "\n",
      "name: Adam\n",
      "family: hedgehogs\n",
      "sex: m\n",
      "color: black\n",
      "\n",
      "name: Daddy\n",
      "family: snakes\n",
      "sex: m\n",
      "color: brown\n",
      "\n",
      "name: Mickey\n",
      "family: hedgehogs\n",
      "sex: m\n",
      "color: brown\n",
      "\n",
      "name: Tom\n",
      "family: cats\n",
      "sex: m\n",
      "color: white\n",
      "\n",
      "name: Jerry\n",
      "family: snakes\n",
      "sex: m\n",
      "color: brown\n",
      "\n",
      "name: Chip\n",
      "family: hedgehogs\n",
      "sex: m\n",
      "color: white\n",
      "\n"
     ]
    }
   ],
   "source": [
    "from collections import namedtuple\n",
    "import pickle\n",
    "\n",
    "Animal = namedtuple('Animal', ['name', 'family', 'sex', 'color'])\n",
    "with open('../data/data.pkl', 'rb') as pkl_file:\n",
    "    data = pickle.load(pkl_file)\n",
    "\n",
    "for animal in data:\n",
    "    [print(f'{key}: {value}') for key, value in animal._asdict().items()]\n",
    "    print()"
   ]
  }
 ],
 "metadata": {
  "kernelspec": {
   "display_name": "Python 3 (ipykernel)",
   "language": "python",
   "name": "python3"
  },
  "language_info": {
   "codemirror_mode": {
    "name": "ipython",
    "version": 3
   },
   "file_extension": ".py",
   "mimetype": "text/x-python",
   "name": "python",
   "nbconvert_exporter": "python",
   "pygments_lexer": "ipython3",
   "version": "3.9.16"
  }
 },
 "nbformat": 4,
 "nbformat_minor": 5
}
