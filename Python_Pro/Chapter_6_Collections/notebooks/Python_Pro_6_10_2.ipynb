{
 "cells": [
  {
   "cell_type": "markdown",
   "metadata": {},
   "source": [
    "## Task \"Функция deep_update()\"\n",
    "\n",
    "Реализуйте функцию deep_update(), которая принимает три аргумента в следующем порядке:\n",
    "\n",
    "* chainmap — объект типа ChainMap, элементами которого являются словари\n",
    "* key — хешируемый объект\n",
    "* value — произвольный объект\n",
    "\n",
    "Функция должна изменять все значения по ключу key во всех словарях в chainmap на value. Если ключ key отсутствует в chainmap, функция должна добавить пару key: value в первый словарь.\n",
    "\n",
    "**Примечание 1.** Функция должна изменять передаваемый объект типа ChainMap и возвращать значение None.\n",
    "\n",
    "**Примечание 2.** Гарантируется, что передаваемый в функцию объект типа ChainMap содержит хотя бы один словарь.\n",
    "\n",
    "**Примечание 3.** В тестирующую систему сдайте программу, содержащую только необходимую функцию deep_update(), но не код, вызывающий ее."
   ]
  },
  {
   "cell_type": "code",
   "execution_count": 11,
   "metadata": {},
   "outputs": [
    {
     "name": "stdout",
     "output_type": "stream",
     "text": [
      "ChainMap({'name': 'Arthur', 'age': 20}, {'name': 'Timur'})\n"
     ]
    }
   ],
   "source": [
    "from collections import ChainMap\n",
    "\n",
    "\n",
    "def deep_update(chainmap: ChainMap, key: str, value) -> None:\n",
    "    if key not in chainmap:\n",
    "        chainmap.maps[0][key] = value\n",
    "    for one_dict in chainmap.maps:\n",
    "        if one_dict.get(key):\n",
    "            one_dict[key] = value\n",
    "\n",
    "\n",
    "chainmap = ChainMap({'name': 'Arthur'}, {'name': 'Timur'})\n",
    "deep_update(chainmap, 'age', 20)\n",
    "\n",
    "print(chainmap)"
   ]
  }
 ],
 "metadata": {
  "interpreter": {
   "hash": "e2562e5f1dc67fe0fe567c9a0f4e9063dbf1a64329752bf508d5198f12744fe1"
  },
  "kernelspec": {
   "display_name": "Python 3.11.2 64-bit",
   "language": "python",
   "name": "python3"
  },
  "language_info": {
   "codemirror_mode": {
    "name": "ipython",
    "version": 3
   },
   "file_extension": ".py",
   "mimetype": "text/x-python",
   "name": "python",
   "nbconvert_exporter": "python",
   "pygments_lexer": "ipython3",
   "version": "3.11.2"
  },
  "orig_nbformat": 4
 },
 "nbformat": 4,
 "nbformat_minor": 2
}
