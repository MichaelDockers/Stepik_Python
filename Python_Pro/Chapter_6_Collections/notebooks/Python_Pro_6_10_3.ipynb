{
 "cells": [
  {
   "cell_type": "markdown",
   "metadata": {},
   "source": [
    "## Task \"Функция get_value()\"\n",
    "\n",
    "Реализуйте функцию get_value(), которая принимает три аргумента в следующем порядке:\n",
    "\n",
    "* chainmap — объект типа ChainMap, элементами которого являются словари\n",
    "* key — произвольный объект\n",
    "* from_left — булево значение, по умолчанию равное True\n",
    "\n",
    "Функция должна возвращать значение по ключу key из chainmap, причем:\n",
    "\n",
    "* если from_left имеет значение True, поиск ключа в chainmap должен происходить от первого словаря к последнему\n",
    "* если from_left имеет значение False, поиск ключа в chainmap должен происходить от последнего словаря к первому\n",
    "\n",
    "Если ключ key отсутствует в chainmap, функция должна вернуть значение None.\n",
    "\n",
    "**Примечание 1.** В тестирующую систему сдайте программу, содержащую только необходимую функцию get_value(), но не код, вызывающий ее."
   ]
  },
  {
   "cell_type": "code",
   "execution_count": 7,
   "metadata": {},
   "outputs": [
    {
     "name": "stdout",
     "output_type": "stream",
     "text": [
      "None\n"
     ]
    }
   ],
   "source": [
    "from collections import ChainMap\n",
    "from typing import Any\n",
    "\n",
    "\n",
    "def get_value(chainmap: ChainMap, key: Any, from_left=True):\n",
    "    if from_left:\n",
    "        for current_dict in chainmap if from_left else reversed(chainmap.maps):\n",
    "            if current_dict.get(key):\n",
    "                return current_dict[key]\n",
    "                break\n",
    "\n",
    "\n",
    "chainmap = ChainMap({'name': 'Arthur'}, {'name': 'Timur'})\n",
    "\n",
    "print(get_value(chainmap, 'age', from_left=False))"
   ]
  }
 ],
 "metadata": {
  "interpreter": {
   "hash": "e2562e5f1dc67fe0fe567c9a0f4e9063dbf1a64329752bf508d5198f12744fe1"
  },
  "kernelspec": {
   "display_name": "Python 3.11.2 64-bit",
   "language": "python",
   "name": "python3"
  },
  "language_info": {
   "codemirror_mode": {
    "name": "ipython",
    "version": 3
   },
   "file_extension": ".py",
   "mimetype": "text/x-python",
   "name": "python",
   "nbconvert_exporter": "python",
   "pygments_lexer": "ipython3",
   "version": "3.11.2"
  },
  "orig_nbformat": 4
 },
 "nbformat": 4,
 "nbformat_minor": 2
}
