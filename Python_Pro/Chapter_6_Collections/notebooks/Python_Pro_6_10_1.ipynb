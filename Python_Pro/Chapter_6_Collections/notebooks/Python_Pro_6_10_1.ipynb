{
 "cells": [
  {
   "cell_type": "markdown",
   "metadata": {},
   "source": [
    "## Task \"Функция get_all_values()\"\n",
    "\n",
    "Реализуйте функцию get_all_values(), которая принимает два аргумента в следующем порядке:\n",
    "\n",
    "* chainmap — объект типа ChainMap, элементами которого являются словари\n",
    "* key — произвольный объект\n",
    "\n",
    "Функция должна возвращать множество, элементами которого являются все значения по ключу key из всех словарей в chainmap. Если ключ key отсутствует в chainmap, функция должна вернуть пустое множество.\n",
    "\n",
    "**Примечание 1.** Гарантируется, что передаваемый в функцию объект типа ChainMap содержит словари с хешируемыми значениями.\n",
    "\n",
    "**Примечание 2.** В тестирующую систему сдайте программу, содержащую только необходимую функцию get_all_values(), но не код, вызывающий ее."
   ]
  },
  {
   "cell_type": "code",
   "execution_count": 10,
   "metadata": {},
   "outputs": [
    {
     "name": "stdout",
     "output_type": "stream",
     "text": [
      "set()\n"
     ]
    }
   ],
   "source": [
    "from collections import ChainMap\n",
    "\n",
    "\n",
    "def get_all_values(chainmap: ChainMap, key) -> set:\n",
    "    return {x[key] for x in chainmap.maps if x.get(key)}\n",
    "\n",
    "\n",
    "chainmap = ChainMap({'name': 'Arthur'}, {'name': 'Timur'})\n",
    "result = get_all_values(chainmap, 'age')\n",
    "\n",
    "print(result)"
   ]
  }
 ],
 "metadata": {
  "interpreter": {
   "hash": "e2562e5f1dc67fe0fe567c9a0f4e9063dbf1a64329752bf508d5198f12744fe1"
  },
  "kernelspec": {
   "display_name": "Python 3.11.2 64-bit",
   "language": "python",
   "name": "python3"
  },
  "language_info": {
   "codemirror_mode": {
    "name": "ipython",
    "version": 3
   },
   "file_extension": ".py",
   "mimetype": "text/x-python",
   "name": "python",
   "nbconvert_exporter": "python",
   "pygments_lexer": "ipython3",
   "version": "3.11.2"
  },
  "orig_nbformat": 4
 },
 "nbformat": 4,
 "nbformat_minor": 2
}
