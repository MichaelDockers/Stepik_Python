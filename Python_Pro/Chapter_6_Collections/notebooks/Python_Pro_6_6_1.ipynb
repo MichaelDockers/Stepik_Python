{
 "cells": [
  {
   "cell_type": "markdown",
   "id": "306decde-4b88-49c2-abc8-6ab9e45bf88b",
   "metadata": {},
   "source": [
    "## Task\n",
    "\n",
    "Вам доступен словарь data. Дополните приведенный ниже код, чтобы он вывел данный словарь, расположив его элементы в обратном порядке.\n",
    "\n",
    "Примечание. Например, если бы словарь data имел вид:\n",
    "\n",
    "data = OrderedDict(key1='value1', key2='value2', key3='value3')\n",
    "\n",
    "то программа должна была бы вывести:\n",
    "\n",
    "OrderedDict([('key3', 'value3'), ('key2', 'value2'), ('key1', 'value1')])"
   ]
  },
  {
   "cell_type": "code",
   "execution_count": 11,
   "id": "18dff36a-9f3a-4891-82a9-2610ea21228d",
   "metadata": {},
   "outputs": [
    {
     "name": "stdout",
     "output_type": "stream",
     "text": [
      "OrderedDict([('SeatsCount', '10'), ('Address', 'город Москва, переулок Сивцев Вражек, дом 6/2'), ('District', 'район Арбат'), ('AdmArea', 'Центральный административный округ'), ('TypeObject', 'кафе'), ('OperatingCompany', 'Брусника'), ('IsNetObject', 'да'), ('Name', 'Брусника')])\n"
     ]
    }
   ],
   "source": [
    "from collections import OrderedDict\n",
    "\n",
    "data = OrderedDict(\n",
    "    {\n",
    "        'Name': 'Брусника', \n",
    "        'IsNetObject': 'да', \n",
    "        'OperatingCompany': 'Брусника', \n",
    "        'TypeObject': 'кафе', \n",
    "        'AdmArea': 'Центральный административный округ', \n",
    "        'District': 'район Арбат', \n",
    "        'Address': 'город Москва, переулок Сивцев Вражек, дом 6/2', \n",
    "        'SeatsCount': '10'\n",
    "    }\n",
    ")\n",
    "\n",
    "print(OrderedDict(reversed(data.items())))"
   ]
  }
 ],
 "metadata": {
  "kernelspec": {
   "display_name": "Python 3 (ipykernel)",
   "language": "python",
   "name": "python3"
  },
  "language_info": {
   "codemirror_mode": {
    "name": "ipython",
    "version": 3
   },
   "file_extension": ".py",
   "mimetype": "text/x-python",
   "name": "python",
   "nbconvert_exporter": "python",
   "pygments_lexer": "ipython3",
   "version": "3.9.16"
  }
 },
 "nbformat": 4,
 "nbformat_minor": 5
}
