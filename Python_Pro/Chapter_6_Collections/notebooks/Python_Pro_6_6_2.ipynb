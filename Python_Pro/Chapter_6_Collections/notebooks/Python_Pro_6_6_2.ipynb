{
 "cells": [
  {
   "cell_type": "markdown",
   "id": "51095957-e030-4968-9a0d-3102755f66b7",
   "metadata": {},
   "source": [
    "## Task\n",
    "\n",
    "Вам доступен словарь data с четным количеством элементов. Дополните приведенный ниже код, чтобы он вывел данный словарь, расположив его элементы по следующему правилу: первый, последний, второй, предпоследний, третий, и так далее.\n",
    "\n",
    "Примечание. Например, если бы словарь data имел вид:\n",
    "\n",
    "data = OrderedDict(key1='value1', key2='value2', key3='value3', key4='value4')\n",
    "\n",
    "то программа должны была бы вывести:\n",
    "\n",
    "OrderedDict([('key1', 'value1'), ('key4', 'value4'), ('key2', 'value2'), ('key3', 'value3')])"
   ]
  },
  {
   "cell_type": "code",
   "execution_count": 15,
   "id": "fe87334a-357b-4a70-8b34-9ce3d268f112",
   "metadata": {},
   "outputs": [
    {
     "name": "stdout",
     "output_type": "stream",
     "text": [
      "OrderedDict([('Name', 'Брусника'), ('SeatsCount', '10'), ('IsNetObject', 'да'), ('Address', 'город Москва, переулок Сивцев Вражек, дом 6/2'), ('OperatingCompany', 'Брусника'), ('District', 'район Арбат'), ('TypeObject', 'кафе'), ('AdmArea', 'Центральный административный округ')])\n"
     ]
    }
   ],
   "source": [
    "from collections import OrderedDict\n",
    "\n",
    "\n",
    "data = OrderedDict(\n",
    "    {\n",
    "        'Name': 'Брусника', \n",
    "        'IsNetObject': 'да', \n",
    "        'OperatingCompany': 'Брусника', \n",
    "        'TypeObject': 'кафе', \n",
    "        'AdmArea': 'Центральный административный округ', \n",
    "        'District': 'район Арбат', \n",
    "        'Address': 'город Москва, переулок Сивцев Вражек, дом 6/2', \n",
    "        'SeatsCount': '10'\n",
    "    }\n",
    ")\n",
    "\n",
    "new_data = OrderedDict()\n",
    "flag = False\n",
    "while data:\n",
    "    key, value = data.popitem(last=flag)\n",
    "    new_data[key] = value\n",
    "    flag = not flag\n",
    "\n",
    "print(new_data)"
   ]
  }
 ],
 "metadata": {
  "kernelspec": {
   "display_name": "Python 3 (ipykernel)",
   "language": "python",
   "name": "python3"
  },
  "language_info": {
   "codemirror_mode": {
    "name": "ipython",
    "version": 3
   },
   "file_extension": ".py",
   "mimetype": "text/x-python",
   "name": "python",
   "nbconvert_exporter": "python",
   "pygments_lexer": "ipython3",
   "version": "3.9.16"
  }
 },
 "nbformat": 4,
 "nbformat_minor": 5
}
