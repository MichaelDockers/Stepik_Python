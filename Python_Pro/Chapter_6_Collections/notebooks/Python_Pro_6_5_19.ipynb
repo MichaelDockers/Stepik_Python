{
 "cells": [
  {
   "cell_type": "markdown",
   "id": "3e703546-9f6b-41e1-8a4e-683be3e781b9",
   "metadata": {},
   "source": [
    "## Task\n",
    "\n",
    "Вам доступен список кортежей data с данными о доходах некоторого образовательного ресурса. Первым элементом кортежа является название продукта, вторым — прибыль в долларах.\n",
    "\n",
    "Дополните приведенный ниже код, чтобы он определил, какой общий доход принес каждый продукт и вывел названия всех продуктов, указав для каждого соответствующую общую прибыль. Продукты должны быть расположены в лексикографическом порядке, каждый на отдельной строке, в следующем формате:\n",
    "\n",
    "<продукт>: $<общая прибыль>"
   ]
  },
  {
   "cell_type": "code",
   "execution_count": 20,
   "id": "4bb6b490-367e-428e-a2a7-c1c4d450c97b",
   "metadata": {},
   "outputs": [
    {
     "name": "stdout",
     "output_type": "stream",
     "text": [
      "Books: $7969\n",
      "Courses: $2991\n",
      "Merch: $4083\n",
      "Tutorials: $3730\n"
     ]
    }
   ],
   "source": [
    "from collections import defaultdict\n",
    "\n",
    "data = [\n",
    "    ('Books', 1343), ('Books', 1166), ('Merch', 616), ('Courses', 966), ('Merch', 1145), \n",
    "    ('Courses', 1061), ('Books', 848), ('Courses', 964), ('Tutorials', 832), ('Merch', 642), \n",
    "    ('Books', 815), ('Tutorials', 1041), ('Books', 1218), ('Tutorials', 880), ('Books', 1003), \n",
    "    ('Merch', 951), ('Books', 920), ('Merch', 729), ('Tutorials', 977), ('Books', 656)\n",
    "]\n",
    "\n",
    "data_dict = defaultdict(int)\n",
    "for goods in data:\n",
    "    data_dict[goods[0]] += goods[1]\n",
    "\n",
    "for key, value in sorted(data_dict.items()):\n",
    "    print(f'{key}: ${value}')"
   ]
  }
 ],
 "metadata": {
  "kernelspec": {
   "display_name": "Python 3 (ipykernel)",
   "language": "python",
   "name": "python3"
  },
  "language_info": {
   "codemirror_mode": {
    "name": "ipython",
    "version": 3
   },
   "file_extension": ".py",
   "mimetype": "text/x-python",
   "name": "python",
   "nbconvert_exporter": "python",
   "pygments_lexer": "ipython3",
   "version": "3.9.16"
  }
 },
 "nbformat": 4,
 "nbformat_minor": 5
}
