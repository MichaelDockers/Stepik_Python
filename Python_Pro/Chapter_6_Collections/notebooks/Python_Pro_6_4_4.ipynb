{
 "cells": [
  {
   "cell_type": "markdown",
   "id": "12adbe96-1391-4282-a701-2d9865c0d504",
   "metadata": {},
   "source": [
    "## Task\n",
    "\n",
    "Вам доступен именованный кортеж User, который содержит данные о пользователе некоторого ресурса. Первым элементом именованного кортежа является имя пользователя, вторым — фамилия, третьим — адрес электронной почты, четвертым — статус оформленной подписки. Также доступен список users, содержащий эти кортежи.\n",
    "\n",
    "Дополните приведенный ниже код, чтобы он вывел данные о каждом пользователе из этого списка, предварительно отсортировав их по статусу подписки от дорогой к дешевой, а при совпадении статусов — в лексикографическом порядке адресов электронных почт. Данные о каждом пользователе должны быть указаны в следующем формате:\n",
    "\n",
    "<имя> <фамилия>  \n",
    "  Email: <адрес электронной почты>  \n",
    "  Plan: <статус подписки>  \n",
    "  \n",
    "Между данными двух разных пользователей должна располагаться пустая строка.\n",
    "\n",
    "**Примечание 1.** Самой дорогой подпиской считается Gold, затем Silver, Bronze и Basic.\n",
    "\n",
    "**Примечание 2.** В качестве отступов используйте два пробела."
   ]
  },
  {
   "cell_type": "code",
   "execution_count": 11,
   "id": "54dd055f-56fc-4c3b-8e62-d15a3dbc45d3",
   "metadata": {},
   "outputs": [
    {
     "name": "stdout",
     "output_type": "stream",
     "text": [
      "Kathleen Lyons\n",
      "  Email: balchen@att.net\n",
      "  Plan: Gold\n",
      "\n",
      "William Townsend\n",
      "  Email: kosact@verizon.net\n",
      "  Plan: Gold\n",
      "\n",
      "Stephanie Bush\n",
      "  Email: neuffer@live.com\n",
      "  Plan: Gold\n",
      "\n",
      "Dorothy Dennis\n",
      "  Email: sequin@live.com\n",
      "  Plan: Gold\n",
      "\n",
      "Clayton Morris\n",
      "  Email: berserk@yahoo.com\n",
      "  Plan: Silver\n",
      "\n",
      "Pamela Hicks\n",
      "  Email: corrada@sbcglobal.net\n",
      "  Plan: Silver\n",
      "\n",
      "Brenda Young\n",
      "  Email: retoh@outlook.com\n",
      "  Plan: Silver\n",
      "\n",
      "Tracy Wallace\n",
      "  Email: sblack@me.com\n",
      "  Plan: Silver\n",
      "\n",
      "Joseph Moore\n",
      "  Email: ylchang@sbcglobal.net\n",
      "  Plan: Silver\n",
      "\n",
      "Russell Smith\n",
      "  Email: isaacson@comcast.net\n",
      "  Plan: Bronze\n",
      "\n",
      "Kenneth Richardson\n",
      "  Email: tbusch@me.com\n",
      "  Plan: Bronze\n",
      "\n",
      "Megan Patterson\n",
      "  Email: hoangle@outlook.com\n",
      "  Plan: Basic\n",
      "\n",
      "Gregory Hughes\n",
      "  Email: juliano@att.net\n",
      "  Plan: Basic\n",
      "\n",
      "Tyler Walker\n",
      "  Email: noahb@comcast.net\n",
      "  Plan: Basic\n",
      "\n",
      "Mary Griffin\n",
      "  Email: sonnen@yahoo.com\n",
      "  Plan: Basic\n",
      "\n"
     ]
    }
   ],
   "source": [
    "from collections import namedtuple\n",
    "\n",
    "plan_price = ['Gold', 'Silver', 'Bronze', 'Basic']\n",
    "\n",
    "User = namedtuple('User', ['name', 'surname', 'email', 'plan'])\n",
    "\n",
    "users = [User('Mary', 'Griffin', 'sonnen@yahoo.com', 'Basic'),\n",
    "         User('Brenda', 'Young', 'retoh@outlook.com', 'Silver'),\n",
    "         User('Kathleen', 'Lyons', 'balchen@att.net', 'Gold'),\n",
    "         User('Pamela', 'Hicks', 'corrada@sbcglobal.net', 'Silver'),\n",
    "         User('William', 'Townsend', 'kosact@verizon.net', 'Gold'),\n",
    "         User('Clayton', 'Morris', 'berserk@yahoo.com', 'Silver'),\n",
    "         User('Dorothy', 'Dennis', 'sequin@live.com', 'Gold'),\n",
    "         User('Tyler', 'Walker', 'noahb@comcast.net', 'Basic'),\n",
    "         User('Joseph', 'Moore', 'ylchang@sbcglobal.net', 'Silver'),\n",
    "         User('Kenneth', 'Richardson', 'tbusch@me.com', 'Bronze'),\n",
    "         User('Stephanie', 'Bush', 'neuffer@live.com', 'Gold'),\n",
    "         User('Gregory', 'Hughes', 'juliano@att.net', 'Basic'),\n",
    "         User('Tracy', 'Wallace', 'sblack@me.com', 'Silver'),\n",
    "         User('Russell', 'Smith', 'isaacson@comcast.net', 'Bronze'),\n",
    "         User('Megan', 'Patterson', 'hoangle@outlook.com', 'Basic')]\n",
    "\n",
    "for user in sorted(users, key=lambda x: (plan_price.index(x.plan), x.email)):\n",
    "    print(f'{user.name} {user.surname}', f'  Email: {user.email}', f'  Plan: {user.plan}', '\\n', sep='\\n', end='')"
   ]
  },
  {
   "cell_type": "code",
   "execution_count": 2,
   "id": "4bbb9f8a-bbc3-438b-89ae-e98bfdd9c304",
   "metadata": {},
   "outputs": [
    {
     "name": "stdout",
     "output_type": "stream",
     "text": [
      "{'Gold', 'Bronze', 'Basic', 'Silver'}\n"
     ]
    }
   ],
   "source": [
    "print({x.plan for x in users})"
   ]
  }
 ],
 "metadata": {
  "kernelspec": {
   "display_name": "Python 3 (ipykernel)",
   "language": "python",
   "name": "python3"
  },
  "language_info": {
   "codemirror_mode": {
    "name": "ipython",
    "version": 3
   },
   "file_extension": ".py",
   "mimetype": "text/x-python",
   "name": "python",
   "nbconvert_exporter": "python",
   "pygments_lexer": "ipython3",
   "version": "3.9.16"
  }
 },
 "nbformat": 4,
 "nbformat_minor": 5
}
