{
 "cells": [
  {
   "cell_type": "markdown",
   "id": "569608a2-de36-4dc5-b06c-6f5622e1d34c",
   "metadata": {},
   "source": [
    "## Task\n",
    "\n",
    "Вам доступен список files, содержащий названия различных файлов. Дополните приведенный ниже код, чтобы он вывел все расширения файлов, присутствующие в списке files, указав для каждого количество файлов с данным расширением. Расширения должны быть расположены в лексикографическом порядке, каждый на отдельной строке, в следующем формате:\n",
    "\n",
    "<расширение>: <количество файлов>"
   ]
  },
  {
   "cell_type": "code",
   "execution_count": 7,
   "id": "b8f8f110-51c9-4476-b269-c2b5f07bbc5b",
   "metadata": {},
   "outputs": [
    {
     "name": "stdout",
     "output_type": "stream",
     "text": [
      "csv: 5\n",
      "exe: 12\n",
      "jpeg: 7\n",
      "json: 4\n",
      "mp3: 5\n",
      "mp4: 6\n",
      "pkl: 1\n",
      "py: 4\n",
      "xml: 4\n",
      "zip: 4\n"
     ]
    }
   ],
   "source": [
    "from collections import Counter\n",
    "\n",
    "files = [\n",
    "    'emoji_smile.jpeg', 'city-of-the-sun.mp3', 'dhook_hw.json', 'sample.xml',\n",
    "    'teamspeak3.exe', 'project_module3.py', 'math_lesson3.mp4', 'old_memories.mp4',\n",
    "    'spiritfarer.exe', 'backups.json', 'python_for_beg1.mp4', 'emoji_angry.jpeg',\n",
    "    'exam_results.csv', 'project_main.py', 'classes.csv', 'plants.xml',\n",
    "    'cant-help-myself.mp3', 'microsoft_edge.exe', 'steam.exe', 'math_lesson4.mp4',\n",
    "    'city.jpeg', 'bad-disease.mp3', 'beauty.jpeg', 'hollow_knight_silksong.exe',\n",
    "    'whatsapp.exe', 'photoshop.exe', 'telegram.exe', 'yandex_browser.exe',\n",
    "    'math_lesson7.mp4', 'students.csv', 'emojis.zip', '7z.zip',\n",
    "    'bones.mp3', 'python3.zip', 'dhook_lsns.json', 'carl_backups.json',\n",
    "    'forest.jpeg', 'python_for_pro8.mp4', 'yandexdisc.exe', 'but-you.mp3',\n",
    "    'project_module1.py', 'nothing.xml', 'flowers.jpeg', 'grades.csv',\n",
    "    'nvidia_gf.exe', 'small_txt.zip', 'project_module2.py', 'tab.csv',\n",
    "    'note.xml', 'sony_vegas11.exe', 'friends.jpeg', 'data.pkl'\n",
    "]\n",
    "\n",
    "ext_counter = Counter([x.split('.')[-1] for x in files])\n",
    "print(*[f'{key}: {value}' for key, value in sorted(ext_counter.items())], sep='\\n')"
   ]
  }
 ],
 "metadata": {
  "kernelspec": {
   "display_name": "Python 3 (ipykernel)",
   "language": "python",
   "name": "python3"
  },
  "language_info": {
   "codemirror_mode": {
    "name": "ipython",
    "version": 3
   },
   "file_extension": ".py",
   "mimetype": "text/x-python",
   "name": "python",
   "nbconvert_exporter": "python",
   "pygments_lexer": "ipython3",
   "version": "3.9.16"
  }
 },
 "nbformat": 4,
 "nbformat_minor": 5
}
