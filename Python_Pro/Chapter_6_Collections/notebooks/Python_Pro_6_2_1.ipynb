{
 "cells": [
  {
   "cell_type": "markdown",
   "id": "31e8541b-05f9-49db-ac52-85bfa757600e",
   "metadata": {},
   "source": [
    "## Task \"Я и сам своего рода переводчик\"\n",
    "\n",
    "Дана строка соответствия латинскому алфавиту: первый символ строки соответствует букве a, второй — b, третий — c, и так далее. Каждый символ соответствует как заглавной, так и строчной буквам. Количество символов в строке совпадает с количеством букв в латинском алфавите.\n",
    "\n",
    "Напишите программу, которая с помощью данной строки переводит заданный текст.\n",
    "\n",
    "**Формат входных данных**\n",
    "\n",
    "На вход программе в первой строке подается строка соответствия латинскому алфавиту, в следующей — текст, требующий перевода.\n",
    "\n",
    "**Формат выходных данных**\n",
    "\n",
    "Программа должна с помощью данной строки соответствия латинскому алфавиту перевести введенный текст и вывести полученный результат.\n",
    "\n",
    "**Примечание 1.** Программа должна игнорировать все символы, не являющиеся латинскими буквами."
   ]
  },
  {
   "cell_type": "code",
   "execution_count": 24,
   "id": "ea4ae21c-d5d1-4798-9c32-731c3462a080",
   "metadata": {},
   "outputs": [
    {
     "name": "stdout",
     "output_type": "stream",
     "text": [
      "🅘 🅛🅞🅥🅔 🅟🅨🅣🅗🅞🅝 =)\n"
     ]
    }
   ],
   "source": [
    "import string\n",
    "\n",
    "in_line = list('🅐🅑🅒🅓🅔🅕🅖🅗🅘🅙🅚🅛🅜🅝🅞🅟🅠🅡🅢🅣🅤🅥🅦🅧🅨🅩')\n",
    "alpha_line = list(string.ascii_lowercase)\n",
    "\n",
    "compare_dict = dict(zip(alpha_line, in_line))\n",
    "\n",
    "str_to_transform = 'I love Python =)'\n",
    "\n",
    "print(''.join([compare_dict.get(x.lower(), x) for x in str_to_transform]))"
   ]
  }
 ],
 "metadata": {
  "kernelspec": {
   "display_name": "Python 3 (ipykernel)",
   "language": "python",
   "name": "python3"
  },
  "language_info": {
   "codemirror_mode": {
    "name": "ipython",
    "version": 3
   },
   "file_extension": ".py",
   "mimetype": "text/x-python",
   "name": "python",
   "nbconvert_exporter": "python",
   "pygments_lexer": "ipython3",
   "version": "3.9.16"
  }
 },
 "nbformat": 4,
 "nbformat_minor": 5
}
