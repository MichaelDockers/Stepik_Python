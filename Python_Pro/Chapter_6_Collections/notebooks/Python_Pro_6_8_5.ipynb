{
 "cells": [
  {
   "cell_type": "markdown",
   "id": "27d1e14b-42c9-4bbd-bc34-d85d979b2167",
   "metadata": {},
   "source": [
    "## Task \"Все еще достоин\"\n",
    "\n",
    "Дан список имен учеников и их оценок за экзамен. Напишите программу, которая определяет второго по счету ученика, имеющего самую низкую оценку.\n",
    "\n",
    "**Формат входных данных**  \n",
    "На вход программе подается произвольное количество строк, в каждой из которых записаны имя очередного ученика и его оценка, разделенные пробелом.\n",
    "\n",
    "**Формат выходных данных**  \n",
    "Программа должна определить второго по счету ученика, который имеет самую низкую оценку, и вывести его имя.\n",
    "\n",
    "**Примечание 1.** Гарантируется, что все ученики имеют различные имена и оценки."
   ]
  },
  {
   "cell_type": "code",
   "execution_count": 20,
   "id": "47e22d6a-6263-4154-93f9-3936f7acb05f",
   "metadata": {},
   "outputs": [
    {
     "name": "stdout",
     "output_type": "stream",
     "text": [
      "Анри\n"
     ]
    }
   ],
   "source": [
    "from collections import Counter\n",
    "import sys\n",
    "\n",
    "st_counter = Counter({x.split()[0]: int(x.split()[1]) for x in sys.stdin.readlines()})\n",
    "print(st_counter.most_common()[-2][0])"
   ]
  }
 ],
 "metadata": {
  "kernelspec": {
   "display_name": "Python 3 (ipykernel)",
   "language": "python",
   "name": "python3"
  },
  "language_info": {
   "codemirror_mode": {
    "name": "ipython",
    "version": 3
   },
   "file_extension": ".py",
   "mimetype": "text/x-python",
   "name": "python",
   "nbconvert_exporter": "python",
   "pygments_lexer": "ipython3",
   "version": "3.9.16"
  }
 },
 "nbformat": 4,
 "nbformat_minor": 5
}
