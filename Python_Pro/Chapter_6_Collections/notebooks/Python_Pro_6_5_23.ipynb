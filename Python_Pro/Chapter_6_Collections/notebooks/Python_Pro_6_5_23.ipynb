{
 "cells": [
  {
   "cell_type": "markdown",
   "id": "1f770771-c4e2-4723-a879-797802b91544",
   "metadata": {},
   "source": [
    "## Task \"Функция flip_dict()\"\n",
    "\n",
    "Рассмотрим следующий словарь:\n",
    "\n",
    "{'a': [1, 2], 'b': [3, 1], 'c': [2]}\n",
    "\n",
    "«Перевернем» его, представив ключи в виде значений, а значения — в виде ключей:\n",
    "\n",
    "{1: ['a', 'b'], 2: ['a', 'c'], 3: ['b']}\n",
    "\n",
    "Реализуйте функцию flip_dict(), которая принимает один аргумент:\n",
    "\n",
    "* dict_of_lists — словарь, в котором ключом является число или строка, а значением — список чисел или строк\n",
    "\n",
    "Функция должна возвращать новый словарь (тип defaultdict с типом list в качестве значения по умолчанию), который представляет собой «перевернутый» словарь dict_of_lists.\n",
    "\n",
    "**Примечание 1.** Ключи в возвращаемом функцией словаре, а также элементы в списках должны располагаться в своем исходном порядке.\n",
    "\n",
    "**Примечание 2.** В тестирующую систему сдайте программу, содержащую только необходимую функцию flip_dict(), но не код, вызывающий ее."
   ]
  },
  {
   "cell_type": "code",
   "execution_count": 6,
   "id": "1d4d5b2a-fab6-46ba-ae76-def4db860760",
   "metadata": {},
   "outputs": [
    {
     "name": "stdout",
     "output_type": "stream",
     "text": [
      "cacao: Arthur\n",
      "tea: Arthur, Timur\n",
      "juice: Arthur, Timur, Anri\n",
      "coffee: Timur, Anri\n"
     ]
    }
   ],
   "source": [
    "from collections import defaultdict\n",
    "\n",
    "\n",
    "def flip_dict(dict_of_lists: list) -> defaultdict:\n",
    "    flip = defaultdict(list)\n",
    "    [flip[x].append(key) for key, value in dict_of_lists.items() for x in value]\n",
    "    return flip\n",
    "\n",
    "data = {'Arthur': ['cacao', 'tea', 'juice'], 'Timur': ['coffee', 'tea', 'juice'], 'Anri': ['juice', 'coffee']}\n",
    "\n",
    "for key, values in flip_dict(data).items():\n",
    "    print(f'{key}: {\", \".join(values)}')"
   ]
  }
 ],
 "metadata": {
  "kernelspec": {
   "display_name": "Python 3 (ipykernel)",
   "language": "python",
   "name": "python3"
  },
  "language_info": {
   "codemirror_mode": {
    "name": "ipython",
    "version": 3
   },
   "file_extension": ".py",
   "mimetype": "text/x-python",
   "name": "python",
   "nbconvert_exporter": "python",
   "pygments_lexer": "ipython3",
   "version": "3.9.16"
  }
 },
 "nbformat": 4,
 "nbformat_minor": 5
}
