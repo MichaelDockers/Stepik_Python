{
 "cells": [
  {
   "cell_type": "markdown",
   "id": "dfe82e71-087a-4205-813e-a95b3a0ae0fd",
   "metadata": {},
   "source": [
    "## Task\n",
    "\n",
    "Вам доступна переменная data, содержащая Counter словарь. Дополните приведенный ниже код, чтобы он добавил этому словарю два атрибута:\n",
    "\n",
    "* min_values() — функция, которая возвращает список элементов, имеющих наименьшее значение\n",
    "* max_values() — функция, которая возвращает список элементов, имеющих наибольшее значение\n",
    "\n",
    "Обе функции не должны принимать никаких аргументов.\n",
    "\n",
    "**Примечание 1.** Элементом словаря будем считать кортеж (ключ, значение).\n",
    "\n",
    "**Примечание 2.** Элементы словаря в возвращаемых функциями списках должны располагаться в своем исходном порядке.\n",
    "\n",
    "**Примечание 3.** Функции data.min_values() и data.max_values() должны учитывать содержимое словаря. Например, если в словарь data будет добавлена новая пара ключ-значение, то и в возвращаемых функциями списках данные ключ и значение должны присутствовать.\n",
    "\n",
    "**Примечание 4.** Программа ничего не должна выводить."
   ]
  },
  {
   "cell_type": "code",
   "execution_count": 28,
   "id": "e8f2faa4-2264-47f3-96ef-56de914b39da",
   "metadata": {},
   "outputs": [],
   "source": [
    "from collections import Counter\n",
    "\n",
    "data = Counter('aksjaskfjsklfjdslkfjajfopewtoieqpwdpqworiiqjskanvmcxbmpewrqopkqwlmdzczmxvmvlnjpjqpkqzxvmbowiqeorewi')\n",
    "\n",
    "\n",
    "data.max_values = lambda: [x for x in data.most_common() if x[1] == max(data.values())]\n",
    "data.min_values = lambda: [x for x in data.most_common() if x[1] == min(data.values())]"
   ]
  }
 ],
 "metadata": {
  "kernelspec": {
   "display_name": "Python 3 (ipykernel)",
   "language": "python",
   "name": "python3"
  },
  "language_info": {
   "codemirror_mode": {
    "name": "ipython",
    "version": 3
   },
   "file_extension": ".py",
   "mimetype": "text/x-python",
   "name": "python",
   "nbconvert_exporter": "python",
   "pygments_lexer": "ipython3",
   "version": "3.9.16"
  }
 },
 "nbformat": 4,
 "nbformat_minor": 5
}
