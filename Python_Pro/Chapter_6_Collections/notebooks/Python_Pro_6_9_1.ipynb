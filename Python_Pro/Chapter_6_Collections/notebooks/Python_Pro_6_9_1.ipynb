{
 "cells": [
  {
   "cell_type": "markdown",
   "id": "b2277a17-0cd3-4942-ab5b-ac75c9491db3",
   "metadata": {},
   "source": [
    "## Task \"Зоопарк\"\n",
    "\n",
    "Вам доступен файл zoo.json, содержащий список JSON-объектов с данными об обитателях некоторого зоопарка. Ключом в каждом объекте является название животного, значением — их количество в зоопарке.\n",
    "\n",
    "Напишите программу, которая определяет, сколько всего животных обитает в зоопарке, и выводит полученный результат.\n",
    "\n",
    "**Примечание 1.** Гарантируется, что все ключи в JSON-объектах, различны."
   ]
  },
  {
   "cell_type": "code",
   "execution_count": 1,
   "id": "7d08d3ef-454a-46bb-b6ab-54a36f97afe9",
   "metadata": {},
   "outputs": [
    {
     "name": "stdout",
     "output_type": "stream",
     "text": [
      "443\n"
     ]
    }
   ],
   "source": [
    "from collections import Counter\n",
    "import json\n",
    "\n",
    "total_counter = 0\n",
    "\n",
    "with open('../data/zoo.json', 'r', encoding='utf-8') as file:\n",
    "    zoo_data = json.load(file)\n",
    "    total_counter = sum([Counter(x).total() for x in zoo_data])\n",
    "\n",
    "print(total_counter)"
   ]
  }
 ],
 "metadata": {
  "kernelspec": {
   "display_name": "Python 3 (ipykernel)",
   "language": "python",
   "name": "python3"
  },
  "language_info": {
   "codemirror_mode": {
    "name": "ipython",
    "version": 3
   },
   "file_extension": ".py",
   "mimetype": "text/x-python",
   "name": "python",
   "nbconvert_exporter": "python",
   "pygments_lexer": "ipython3",
   "version": "3.10.12"
  }
 },
 "nbformat": 4,
 "nbformat_minor": 5
}
