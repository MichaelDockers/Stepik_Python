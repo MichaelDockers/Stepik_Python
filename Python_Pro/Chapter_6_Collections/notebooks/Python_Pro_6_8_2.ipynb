{
 "cells": [
  {
   "cell_type": "markdown",
   "id": "26b10a63-5ba6-41e0-a725-dd6184dc5533",
   "metadata": {},
   "source": [
    "## Task \"В поисках слов 😋\"\n",
    "\n",
    "Дана последовательность слов. Напишите программу, которая выводит наименее часто встречаемое слово в этой последовательности. Если таких слов несколько, программа должна вывести их все.\n",
    "\n",
    "**Формат входных данных**\n",
    "\n",
    "На вход программе подается последовательность слов, разделенных пробелом.\n",
    "\n",
    "**Формат выходных данных**\n",
    "\n",
    "Программа должна определить наименее часто встречаемое слово в введенной последовательности и вывести его в нижнем регистре. Если таких слов несколько, программа должна вывести их все в лексикографическом порядке, в нижнем регистре, разделяя запятой и пробелом.\n",
    "\n",
    "**Примечание 1.** Программа должна игнорировать регистр. То есть, например, слова Python и python считаются одинаковыми."
   ]
  },
  {
   "cell_type": "code",
   "execution_count": 21,
   "id": "44e1d643-0998-41eb-98ff-33ea4e14af83",
   "metadata": {},
   "outputs": [
    {
     "name": "stdout",
     "output_type": "stream",
     "text": [
      "банан,клубника,черешня\n"
     ]
    }
   ],
   "source": [
    "from collections import Counter\n",
    "\n",
    "in_str = 'Арбуз Малина Малина Арбуз Клубника арбуз банан малина вишня черешня вишня арбуЗ'\n",
    "\n",
    "word_counter = Counter([x.lower() for x in in_str.split()]).most_common()\n",
    "min_counter = word_counter[-1][1]\n",
    "\n",
    "print(*[x[0] for x in sorted(word_counter) if x[1] == min_counter], sep=', ')"
   ]
  }
 ],
 "metadata": {
  "kernelspec": {
   "display_name": "Python 3 (ipykernel)",
   "language": "python",
   "name": "python3"
  },
  "language_info": {
   "codemirror_mode": {
    "name": "ipython",
    "version": 3
   },
   "file_extension": ".py",
   "mimetype": "text/x-python",
   "name": "python",
   "nbconvert_exporter": "python",
   "pygments_lexer": "ipython3",
   "version": "3.9.16"
  }
 },
 "nbformat": 4,
 "nbformat_minor": 5
}
