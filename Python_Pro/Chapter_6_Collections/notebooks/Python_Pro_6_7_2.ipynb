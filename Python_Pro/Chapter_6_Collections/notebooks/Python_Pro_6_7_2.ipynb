{
 "cells": [
  {
   "cell_type": "markdown",
   "id": "7acc80eb-3e2f-4573-9974-3ec43f80571d",
   "metadata": {},
   "source": [
    "## Task \"Функция count_occurences()\"\n",
    "\n",
    "Реализуйте функцию count_occurences(), которая принимает два аргумента в следующем порядке:\n",
    "\n",
    "* word — слово\n",
    "* words — последовательность слов, разделенных пробелом\n",
    "\n",
    "Функция должна определять, сколько раз слово word встречается в последовательности words, и возвращать полученный результат.\n",
    "\n",
    "**Примечание 1.** Функция должна игнорировать регистр. То есть, например, слова Python и python считаются одинаковыми.\n",
    "\n",
    "**Примечание 2.** В тестирующую систему сдайте программу, содержащую только необходимую функцию count_occurences(), но не код, вызывающий ее."
   ]
  },
  {
   "cell_type": "code",
   "execution_count": 4,
   "id": "754d77b2-a3f6-411f-836e-04e7e020662c",
   "metadata": {},
   "outputs": [
    {
     "name": "stdout",
     "output_type": "stream",
     "text": [
      "0\n"
     ]
    }
   ],
   "source": [
    "from collections import Counter\n",
    "\n",
    "\n",
    "def count_occurences(word: str, words: str):\n",
    "    word_counter = Counter([x for x in words.lower().split()])\n",
    "    return word_counter[word.lower()]\n",
    "    \n",
    "    \n",
    "word = 'Java'\n",
    "words = 'Python C++ C# JavaScript Go Assembler'\n",
    "\n",
    "print(count_occurences(word, words))"
   ]
  }
 ],
 "metadata": {
  "kernelspec": {
   "display_name": "Python 3 (ipykernel)",
   "language": "python",
   "name": "python3"
  },
  "language_info": {
   "codemirror_mode": {
    "name": "ipython",
    "version": 3
   },
   "file_extension": ".py",
   "mimetype": "text/x-python",
   "name": "python",
   "nbconvert_exporter": "python",
   "pygments_lexer": "ipython3",
   "version": "3.9.16"
  }
 },
 "nbformat": 4,
 "nbformat_minor": 5
}
