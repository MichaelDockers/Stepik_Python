{
 "cells": [
  {
   "cell_type": "markdown",
   "id": "ac46ffc6-8a5b-4551-a739-f8d9d358816a",
   "metadata": {},
   "source": [
    "## Task \"Функция print_bar_chart()\"\n",
    "\r\n",
    "Реализуйте функцию print_bar_chart(), которая принимает два аргумента в следующем порядке:\r",
    "* \n",
    "\r\n",
    "data — строка или список ст  р* ок\r\n",
    "mark — одиночный си  м\n",
    "вол\r\n",
    "Функция должна определя* ть:\r\n",
    "\r\n",
    "сколько раз встречается каждый символ в строке, если data является с* трокой\r\n",
    "сколько раз встречается каждая строка в списке, если data является\n",
    " списком\r\n",
    "Затем функция должна выводить результат в виде столбчатой диаграммы, указывая каждый символ (строку) и его количество. Количество отображается как повторение символа mark соответствующее число раз, например, если mark='+', то количество, равное четырем, будет отображено как ++++. Символы (строки) в диаграмме должны быть расположены в порядке уменьшения количества, при равных количествах — в своем исходном порядке, каждая на отдельной строке, в следующем формате:\r\n",
    "\r\n",
    "<символ или строка> |<\n",
    "к**оличество>\r\n",
    "П**римечание 1. Обратите внимание на второй тест, функция должна добавлять нужное количество пробелов, если строка имеет меньшую длину, ч**ем другие.\r\n",
    "\r",
    "**\n",
    "Примечание 2. Программа должна учитывать регистр. То есть, например, строки Python и python считаются** различными.\r",
    "**\n",
    "\r\n",
    "Примечание 3. В тестирующую систему сдайте программу, содержащую только необходимую функцию print_bar_chart(), но не код, вызывающий ее."
   ]
  },
  {
   "cell_type": "code",
   "execution_count": 13,
   "id": "aaf1bb57-d80b-45a2-9cdd-33731c62bb05",
   "metadata": {},
   "outputs": [
    {
     "name": "stdout",
     "output_type": "stream",
     "text": [
      "java      |####\n",
      "C++       |###\n",
      "pascal    |##\n",
      "python    |#\n",
      "assembler |#\n",
      "C         |#\n"
     ]
    }
   ],
   "source": [
    "from collections import Counter\n",
    "\n",
    "def print_bar_chart(data, mark):\n",
    "    data_counter = Counter(data).most_common()\n",
    "    max_str = max(map(len, data))\n",
    "    print(*[f'{x[0]:{max_str}} |{mark * x[1]}' for x in data_counter], sep='\\n')\n",
    "\n",
    "\n",
    "languages = [\n",
    "    'java', 'java', 'python', 'C++', 'assembler', 'java', 'C++', 'C', 'pascal', 'C++', 'pascal', 'java'\n",
    "]\n",
    "\n",
    "`print_bar_chart(languages, '#')"
   ]
  }
 ],
 "metadata": {
  "kernelspec": {
   "display_name": "Python 3 (ipykernel)",
   "language": "python",
   "name": "python3"
  },
  "language_info": {
   "codemirror_mode": {
    "name": "ipython",
    "version": 3
   },
   "file_extension": ".py",
   "mimetype": "text/x-python",
   "name": "python",
   "nbconvert_exporter": "python",
   "pygments_lexer": "ipython3",
   "version": "3.11.2"
  }
 },
 "nbformat": 4,
 "nbformat_minor": 5
}
