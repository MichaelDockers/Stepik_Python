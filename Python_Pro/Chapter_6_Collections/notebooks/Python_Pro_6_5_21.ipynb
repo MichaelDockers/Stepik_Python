{
 "cells": [
  {
   "cell_type": "markdown",
   "id": "57d6308b-0bf4-4581-99f7-b45cc826a19c",
   "metadata": {},
   "source": [
    "## Task\n",
    "\n",
    "Вам доступен список кортежей staff_broken с данными о сотрудниках некоторой компании. Первым элементом кортежа является название отдела, вторым — имя и фамилия сотрудника, работающего в этом отделе. Некоторые сотрудники могут встречаться в списке несколько раз.\n",
    "\n",
    "Дополните приведенный ниже код, чтобы он сгруппировал сотрудников по соответствующим отделам и вывел названия всех отделов, указав для каждого имена и фамилии его сотрудников. Отделы, а также имена и фамилии сотрудников в этих отделах, должны быть расположены в лексикографическом порядке, каждый на отдельной строке, в следующем формате:\n",
    "\n",
    "<отдел>: <имя> <фамилия>, <имя> <фамилия>, ..."
   ]
  },
  {
   "cell_type": "code",
   "execution_count": 12,
   "id": "4ab47582-140f-4ef4-a8b9-c8225bbf84f2",
   "metadata": {},
   "outputs": [
    {
     "name": "stdout",
     "output_type": "stream",
     "text": [
      "Accounting: Aaron Ferguson, Ann Bell, Brenda Davis, Casey Jenkins, Craig Wood, Dale Houston, Edna Cunningham, Gloria Higgins, James Wilkins, Jane Jackson, John Watts, Kay Scott, Kimberly Reynolds, Linda Hudson, Michelle Wright, Rosemary Garcia, Steven Diaz\n",
      "Developing: Arlene Gibson, Deborah George, Joyce Rivera, Miguel Norris, Nicole Watts, Thomas Porter, Wilma Woods\n",
      "Marketing: Andrew Clark, Bernice Ramos, Billy Lloyd, Carol Peters, Charles Bailey, Gail Hill, Helen Taylor, John Gonzalez, Joyce Lawrence, Mario Reynolds, Mary King, Ralph Morgan, Sam Davis\n",
      "Sales: Alicia Mendoza, Charlotte Cox, Chester Fernandez, Connie Reid, Evelyn Martin, Gladys Taylor, John Washington, John White, Jose Taylor, Joseph Lee, Katie Warner, Marie Cooper, Robert Barnes\n"
     ]
    }
   ],
   "source": [
    "from collections import defaultdict\n",
    "\n",
    "staff_broken = [\n",
    "    ('Developing', 'Miguel Norris'), ('Sales', 'Connie Reid'), ('Sales', 'Joseph Lee'), ('Marketing', 'Carol Peters'), \n",
    "    ('Accounting', 'Linda Hudson'), ('Accounting', 'Ann Bell'), ('Marketing', 'Ralph Morgan'), ('Accounting', 'Gloria Higgins'), \n",
    "    ('Developing', 'Wilma Woods'), ('Developing', 'Wilma Woods'), ('Marketing', 'Bernice Ramos'), ('Marketing', 'Joyce Lawrence'), \n",
    "    ('Accounting', 'Craig Wood'), ('Developing', 'Nicole Watts'), ('Sales', 'Jose Taylor'), ('Accounting', 'Linda Hudson'), \n",
    "    ('Accounting', 'Edna Cunningham'), ('Sales', 'Jose Taylor'), ('Marketing', 'Helen Taylor'), ('Accounting', 'Kimberly Reynolds'), \n",
    "    ('Marketing', 'Mary King'), ('Sales', 'Joseph Lee'), ('Accounting', 'Gloria Higgins'), ('Marketing', 'Andrew Clark'), \n",
    "    ('Accounting', 'John Watts'), ('Accounting', 'Rosemary Garcia'), ('Accounting', 'Steven Diaz'), ('Marketing', 'Mary King'), \n",
    "    ('Sales', 'Gladys Taylor'), ('Developing', 'Thomas Porter'), ('Accounting', 'Brenda Davis'), ('Sales', 'Connie Reid'), \n",
    "    ('Sales', 'Alicia Mendoza'), ('Marketing', 'Mario Reynolds'), ('Sales', 'John White'), ('Developing', 'Joyce Rivera'), \n",
    "    ('Accounting', 'Steven Diaz'), ('Developing', 'Arlene Gibson'), ('Sales', 'Robert Barnes'), ('Sales', 'Charlotte Cox'), \n",
    "    ('Accounting', 'Craig Wood'), ('Marketing', 'Carol Peters'), ('Marketing', 'Ralph Morgan'), ('Accounting', 'Kay Scott'), \n",
    "    ('Sales', 'Evelyn Martin'), ('Marketing', 'Billy Lloyd'), ('Sales', 'Gladys Taylor'), ('Developing', 'Deborah George'), \n",
    "    ('Sales', 'Charlotte Cox'), ('Marketing', 'Sam Davis'), ('Sales', 'John White'), ('Sales', 'Marie Cooper'), \n",
    "    ('Marketing', 'John Gonzalez'), ('Sales', 'John Washington'), ('Sales', 'Chester Fernandez'), ('Sales', 'Alicia Mendoza'), \n",
    "    ('Sales', 'Katie Warner'), ('Accounting', 'Jane Jackson'), ('Sales', 'Chester Fernandez'), ('Marketing', 'Charles Bailey'), \n",
    "    ('Marketing', 'Gail Hill'), ('Accounting', 'Casey Jenkins'), ('Accounting', 'James Wilkins'), ('Accounting', 'Casey Jenkins'), \n",
    "    ('Marketing', 'Mario Reynolds'), ('Accounting', 'Aaron Ferguson'), ('Accounting', 'Kimberly Reynolds'), ('Sales', 'Robert Barnes'), \n",
    "    ('Accounting', 'Aaron Ferguson'), ('Accounting', 'Jane Jackson'), ('Developing', 'Deborah George'), ('Accounting', 'Michelle Wright'), \n",
    "    ('Accounting', 'Dale Houston')\n",
    "]\n",
    "\n",
    "staff_dict = defaultdict(set)\n",
    "for depart, emp in staff_broken:\n",
    "    staff_dict[depart].add(emp)\n",
    "    \n",
    "print(*[f\"{x[0]}: {', '.join(sorted(x[1]))}\" for x in sorted(staff_dict.items())], sep='\\n')"
   ]
  }
 ],
 "metadata": {
  "kernelspec": {
   "display_name": "Python 3 (ipykernel)",
   "language": "python",
   "name": "python3"
  },
  "language_info": {
   "codemirror_mode": {
    "name": "ipython",
    "version": 3
   },
   "file_extension": ".py",
   "mimetype": "text/x-python",
   "name": "python",
   "nbconvert_exporter": "python",
   "pygments_lexer": "ipython3",
   "version": "3.9.16"
  }
 },
 "nbformat": 4,
 "nbformat_minor": 5
}
