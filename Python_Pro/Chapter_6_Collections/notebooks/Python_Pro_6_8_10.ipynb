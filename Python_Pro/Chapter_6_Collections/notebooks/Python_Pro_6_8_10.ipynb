{
 "cells": [
  {
   "cell_type": "markdown",
   "id": "53b206d8-6886-40b6-9cfb-8e03e0c71f9b",
   "metadata": {},
   "source": [
    "## Task \"Бесплатные курсы берут свое 😢\"\n",
    "\n",
    "Для дополнительного заработка Тимур решил заняться продажей овощей. У него имеются данные о продажах за год, разделенные на четыре файла по кварталам: quarter1.csv, quarter2.csv, quarter3.csv и quarter4.csv. В каждом файле в первом столбце указывается название продукта, а в последующих — количество проданного продукта в килограммах за определенный месяц:\n",
    "\n",
    "продукт,январь,февраль,март  \n",
    "Картофель,39,61,3  \n",
    "Дайкон,51,96,83  \n",
    "...\n",
    "\n",
    "Также присутствует файл prices.json, содержащий словарь, в котором ключом является название продукта, а значением — цена за килограмм в рублях:\n",
    "\n",
    "{  \n",
    "   \"Картофель\": 53,  \n",
    "   \"Дайкон\": 55,  \n",
    "...  \n",
    "}\n",
    "\n",
    "Напишите программу, которая выводит единственное число — сумму, заработанную Тимуром за год на продаже овощей."
   ]
  },
  {
   "cell_type": "code",
   "execution_count": 13,
   "id": "bdc0677f-6358-408c-ae5a-11fa1bdee8a1",
   "metadata": {},
   "outputs": [
    {
     "ename": "AttributeError",
     "evalue": "'Counter' object has no attribute 'total'",
     "output_type": "error",
     "traceback": [
      "\u001b[0;31m---------------------------------------------------------------------------\u001b[0m",
      "\u001b[0;31mAttributeError\u001b[0m                            Traceback (most recent call last)",
      "Cell \u001b[0;32mIn[13], line 15\u001b[0m\n\u001b[1;32m     12\u001b[0m     prices \u001b[38;5;241m=\u001b[39m json\u001b[38;5;241m.\u001b[39mload(json_file)\n\u001b[1;32m     14\u001b[0m result_counter \u001b[38;5;241m=\u001b[39m Counter({key: (value \u001b[38;5;241m*\u001b[39m prices[key]) \u001b[38;5;28;01mfor\u001b[39;00m key, value \u001b[38;5;129;01min\u001b[39;00m data\u001b[38;5;241m.\u001b[39mitems()})\n\u001b[0;32m---> 15\u001b[0m \u001b[38;5;28mprint\u001b[39m(\u001b[43mresult_counter\u001b[49m\u001b[38;5;241;43m.\u001b[39;49m\u001b[43mtotal\u001b[49m())\n",
      "\u001b[0;31mAttributeError\u001b[0m: 'Counter' object has no attribute 'total'"
     ]
    }
   ],
   "source": [
    "from collections import Counter\n",
    "import csv\n",
    "import json\n",
    "\n",
    "data = Counter()\n",
    "for i in range(1, 5):\n",
    "    with open(f'../data/quarter{i}.csv', 'r', encoding='utf-8') as file:\n",
    "        quoter_dict = {x[0]: sum(map(int, x[1:])) for x in list(csv.reader(file))[1:]}\n",
    "        data += quoter_dict\n",
    "\n",
    "with open('../data/prices.json', 'r', encoding='utf-8') as json_file:\n",
    "    prices = json.load(json_file)\n",
    "\n",
    "result_counter = Counter({key: (value * prices[key]) for key, value in data.items()})\n",
    "print(result_counter.total())"
   ]
  }
 ],
 "metadata": {
  "kernelspec": {
   "display_name": "Python 3 (ipykernel)",
   "language": "python",
   "name": "python3"
  },
  "language_info": {
   "codemirror_mode": {
    "name": "ipython",
    "version": 3
   },
   "file_extension": ".py",
   "mimetype": "text/x-python",
   "name": "python",
   "nbconvert_exporter": "python",
   "pygments_lexer": "ipython3",
   "version": "3.9.16"
  }
 },
 "nbformat": 4,
 "nbformat_minor": 5
}
