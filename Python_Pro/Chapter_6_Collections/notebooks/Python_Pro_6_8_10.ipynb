{
 "cells": [
  {
   "cell_type": "markdown",
   "id": "53b206d8-6886-40b6-9cfb-8e03e0c71f9b",
   "metadata": {},
   "source": [
    "## Task \"Бесплатные курсы берут свое 😢\"\n",
    "\n",
    "Для дополнительного заработка Тимур решил заняться продажей овощей. У него имеются данные о продажах за год, разделенные на четыре файла по кварталам: quarter1.csv, quarter2.csv, quarter3.csv и quarter4.csv. В каждом файле в первом столбце указывается название продукта, а в последующих — количество проданного продукта в килограммах за определенный месяц:\n",
    "\n",
    "продукт,январь,февраль,март  \n",
    "Картофель,39,61,3  \n",
    "Дайкон,51,96,83  \n",
    "...\n",
    "\n",
    "Также присутствует файл prices.json, содержащий словарь, в котором ключом является название продукта, а значением — цена за килограмм в рублях:\n",
    "\n",
    "{  \n",
    "   \"Картофель\": 53,  \n",
    "   \"Дайкон\": 55,  \n",
    "...  \n",
    "}\n",
    "\n",
    "Напишите программу, которая выводит единственное число — сумму, заработанную Тимуром за год на продаже овощей."
   ]
  },
  {
   "cell_type": "code",
   "execution_count": 1,
   "id": "bdc0677f-6358-408c-ae5a-11fa1bdee8a1",
   "metadata": {},
   "outputs": [
    {
     "name": "stdout",
     "output_type": "stream",
     "text": [
      "924593\n"
     ]
    }
   ],
   "source": [
    "from collections import Counter\n",
    "import csv\n",
    "import json\n",
    "\n",
    "data = Counter()\n",
    "for i in range(1, 5):\n",
    "    with open(f'../data/quarter{i}.csv', 'r', encoding='utf-8') as file:\n",
    "        quoter_dict = {x[0]: sum(map(int, x[1:])) for x in list(csv.reader(file))[1:]}\n",
    "        data += quoter_dict\n",
    "\n",
    "with open('../data/prices.json', 'r', encoding='utf-8') as json_file:\n",
    "    prices = json.load(json_file)\n",
    "\n",
    "result_counter = Counter({key: (value * prices[key]) for key, value in data.items()})\n",
    "print(result_counter.total())"
   ]
  }
 ],
 "metadata": {
  "interpreter": {
   "hash": "79fe34b18ce81c0f7bfaf0a309179d654a07485513c71814328606a9094041dd"
  },
  "kernelspec": {
   "display_name": "Python 3.10.4 ('py310')",
   "language": "python",
   "name": "python3"
  },
  "language_info": {
   "codemirror_mode": {
    "name": "ipython",
    "version": 3
   },
   "file_extension": ".py",
   "mimetype": "text/x-python",
   "name": "python",
   "nbconvert_exporter": "python",
   "pygments_lexer": "ipython3",
   "version": "3.10.4"
  }
 },
 "nbformat": 4,
 "nbformat_minor": 5
}
