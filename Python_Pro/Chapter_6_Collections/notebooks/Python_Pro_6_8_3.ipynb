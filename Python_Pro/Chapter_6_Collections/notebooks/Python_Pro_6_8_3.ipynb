{
 "cells": [
  {
   "cell_type": "markdown",
   "id": "f3eed914-4871-4367-8dfd-89f6e49b3f1d",
   "metadata": {},
   "source": [
    "## Task \"В поисках слов 🥳\"\n",
    "\n",
    "Дана последовательность слов. Напишите программу, которая выводит наиболее часто встречаемое слово в этой последовательности. Если таких слов несколько, программа должна вывести то, которое больше в лексикографическом сравнении.\n",
    "\n",
    "**Формат входных данных**\n",
    "\n",
    "На вход программе подается последовательность слов, разделенных пробелом.\n",
    "\n",
    "**Формат выходных данных**\n",
    "\n",
    "Программа должна определить наиболее часто встречаемое слово в введенной строке и вывести его в нижнем регистре. Если таких слов несколько, программа должна вывести то, которое больше в лексикографическом сравнении, также в нижнем регистре.\n",
    "\n",
    "**Примечание 1.** Программа должна игнорировать регистр. То есть, например, слова Python и python считаются одинаковыми."
   ]
  },
  {
   "cell_type": "code",
   "execution_count": 5,
   "id": "4984c97f-f021-4657-8d95-c377b7bcf304",
   "metadata": {},
   "outputs": [
    {
     "name": "stdout",
     "output_type": "stream",
     "text": [
      "малина\n"
     ]
    }
   ],
   "source": [
    "from collections import Counter\n",
    "\n",
    "\n",
    "in_str = 'МаЛиНа клубника Арбуз банаН Малина Черешня вишня арбуз клубника банан'\n",
    "\n",
    "word_counter = Counter([x.lower() for x in in_str.split()]).most_common()\n",
    "\n",
    "print(max(word_counter, key=lambda x: (x[1], x[0]))[0])"
   ]
  }
 ],
 "metadata": {
  "kernelspec": {
   "display_name": "Python 3 (ipykernel)",
   "language": "python",
   "name": "python3"
  },
  "language_info": {
   "codemirror_mode": {
    "name": "ipython",
    "version": 3
   },
   "file_extension": ".py",
   "mimetype": "text/x-python",
   "name": "python",
   "nbconvert_exporter": "python",
   "pygments_lexer": "ipython3",
   "version": "3.9.16"
  }
 },
 "nbformat": 4,
 "nbformat_minor": 5
}
