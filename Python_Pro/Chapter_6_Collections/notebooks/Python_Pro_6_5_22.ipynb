{
 "cells": [
  {
   "cell_type": "markdown",
   "id": "b695855b-dbb2-46d2-932e-ee6131530a31",
   "metadata": {},
   "source": [
    "## Task \"Функция wins()\"\n",
    "\n",
    "В онлайн-школе BEEGEEK каждое лето проходят соревнования по шахматам, во время которых ведется статистика побед и поражений. Каждая партия описывается кортежем из двух элементов, где первый элемент — имя победившего ученика, второй элемент — имя проигравшего ученика.\n",
    "\n",
    "Реализуйте функцию wins(), которая принимает один аргумент:\n",
    "\n",
    "* pairs — итерируемый объект, элементами которого являются кортежи, каждый из которых представляет собой пару имён победитель-проигравший\n",
    "\n",
    "Функция должна возвращать словарь, в котором ключом служит имя ученика, а значением — множество (тип set) имен учеников, которых он победил.\n",
    "\n",
    "**Примечание 1.** Гарантируется, что каждая партия заканчивается победой одного из учеников, то есть ничьей быть не может.\n",
    "\n",
    "**Примечание 2.** Элементы в возвращаемом функцией словаре могут располагаться в произвольном порядке.\n",
    "\n",
    "**Примечание 3.** В тестирующую систему сдайте программу, содержащую только необходимую функцию wins(), но не код, вызывающий ее."
   ]
  },
  {
   "cell_type": "code",
   "execution_count": 7,
   "id": "8cf8dfb0-8659-42a4-b580-644908a8f1ab",
   "metadata": {},
   "outputs": [
    {
     "name": "stdout",
     "output_type": "stream",
     "text": [
      "Артур -> Анри Дима Тимур\n",
      "Дима -> Артур\n"
     ]
    }
   ],
   "source": [
    "from collections import defaultdict\n",
    "\n",
    "\n",
    "def wins(pair: list) -> defaultdict:\n",
    "    win_dict = defaultdict(set)\n",
    "\n",
    "    [win_dict[win].add(defeat) for win, defeat in pair]\n",
    "        \n",
    "    return win_dict\n",
    "\n",
    "result = wins([('Артур', 'Дима'), ('Артур', 'Тимур'), ('Артур', 'Анри'), ('Дима', 'Артур')])\n",
    "\n",
    "for winner, losers in sorted(result.items()):\n",
    "    print(winner, '->', *sorted(losers))"
   ]
  }
 ],
 "metadata": {
  "kernelspec": {
   "display_name": "Python 3 (ipykernel)",
   "language": "python",
   "name": "python3"
  },
  "language_info": {
   "codemirror_mode": {
    "name": "ipython",
    "version": 3
   },
   "file_extension": ".py",
   "mimetype": "text/x-python",
   "name": "python",
   "nbconvert_exporter": "python",
   "pygments_lexer": "ipython3",
   "version": "3.9.16"
  }
 },
 "nbformat": 4,
 "nbformat_minor": 5
}
