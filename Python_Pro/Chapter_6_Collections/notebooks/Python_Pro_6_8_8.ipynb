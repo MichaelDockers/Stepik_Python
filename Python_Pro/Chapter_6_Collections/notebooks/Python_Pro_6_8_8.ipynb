{
 "cells": [
  {
   "cell_type": "markdown",
   "id": "a999ccf8-8e15-43ef-ae37-2211386ca501",
   "metadata": {},
   "source": [
    "## Task \"Функция scrabble()\"\n",
    "\n",
    "Реализуйте функцию scrabble(), которая принимает два аргумента в следующем порядке:\n",
    "\n",
    "* symbols — набор символов\n",
    "* word — слово\n",
    "\n",
    "Функция должна возвращать True, если из набора символов symbols можно составить слово word, или False в противном случае.\n",
    "\n",
    "**Примечание 1.** При проверке учитывается количество символов, которые нужны для составления слова, и не учитывается их регистр.\n",
    "\n",
    "**Примечание 2.** В тестирующую систему сдайте программу, содержащую только необходимую функцию scrabble(), но не код, вызывающий ее."
   ]
  },
  {
   "cell_type": "code",
   "execution_count": 10,
   "id": "8b6e118b-7e37-4efc-9c43-09a62930dad6",
   "metadata": {},
   "outputs": [
    {
     "name": "stdout",
     "output_type": "stream",
     "text": [
      "False\n"
     ]
    }
   ],
   "source": [
    "from collections import Counter\n",
    "\n",
    "\n",
    "def scrabble(symbol: str, word: str) -> bool:\n",
    "    symbol_counter = Counter(symbol.lower())\n",
    "    word_couner = Counter(word.lower())\n",
    "    return not bool(word_couner - symbol_counter)\n",
    "    \n",
    "\n",
    "print(scrabble('begk', 'beegeek'))"
   ]
  }
 ],
 "metadata": {
  "kernelspec": {
   "display_name": "Python 3 (ipykernel)",
   "language": "python",
   "name": "python3"
  },
  "language_info": {
   "codemirror_mode": {
    "name": "ipython",
    "version": 3
   },
   "file_extension": ".py",
   "mimetype": "text/x-python",
   "name": "python",
   "nbconvert_exporter": "python",
   "pygments_lexer": "ipython3",
   "version": "3.9.16"
  }
 },
 "nbformat": 4,
 "nbformat_minor": 5
}
