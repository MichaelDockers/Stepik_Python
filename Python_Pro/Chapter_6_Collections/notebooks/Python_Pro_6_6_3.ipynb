{
 "cells": [
  {
   "cell_type": "markdown",
   "id": "c7c5ef8e-d0f7-4983-b247-063503cf453c",
   "metadata": {},
   "source": [
    "## Task \"Функция custom_sort() 🌶️\"\n",
    "\n",
    "Реализуйте функцию custom_sort(), которая принимает два аргумента в следующем порядке:\n",
    "\n",
    "* ordered_dict — словарь OrderedDict\n",
    "* by_values — булево значение, по умолчанию имеет значение False\n",
    "\n",
    "Функция должна сортировать словарь ordered_dict:\n",
    "\n",
    "* по ключам, если by_values имеет значение False\n",
    "* по значениям, если by_values имеет значение True\n",
    "\n",
    "**Примечание 1.** Функция должна изменять переданный словарь, а не возвращать новый. Возвращаемым значением функции должно быть None.\n",
    "\n",
    "**Примечание 2.** Гарантируется, что переданный в функцию словарь можно отсортировать, то есть он не содержит ключи, имеющие разные типы, а также значения, имеющие разные типы.\n",
    "\n",
    "**Примечание 3.** Если два элемента имеют равные значения, то следует сохранить их исходный порядок следования.\n",
    "\n",
    "**Примечание 4.** В тестирующую систему сдайте программу, содержащую только необходимую функцию custom_sort(), но не код, вызывающий ее."
   ]
  },
  {
   "cell_type": "code",
   "execution_count": 16,
   "id": "56e70e77-0be9-40d9-a28b-87edf07fd80c",
   "metadata": {},
   "outputs": [
    {
     "name": "stdout",
     "output_type": "stream",
     "text": [
      "OrderedDict([('Anabel', 17), ('Brian', 40), ('Carol', 16), ('Dustin', 29)])\n"
     ]
    }
   ],
   "source": [
    "from collections import OrderedDict\n",
    "\n",
    "def custom_sort(ordered_dict: OrderedDict, by_values=False):\n",
    "    [ordered_dict.move_to_end(key) for key, item in sorted(ordered_dict.items(), key=lambda x: x[by_values])]\n",
    "            \n",
    "        \n",
    "data = OrderedDict(Dustin=29, Anabel=17, Brian=40, Carol=16)\n",
    "custom_sort(data)\n",
    "\n",
    "print(data)"
   ]
  }
 ],
 "metadata": {
  "kernelspec": {
   "display_name": "Python 3 (ipykernel)",
   "language": "python",
   "name": "python3"
  },
  "language_info": {
   "codemirror_mode": {
    "name": "ipython",
    "version": 3
   },
   "file_extension": ".py",
   "mimetype": "text/x-python",
   "name": "python",
   "nbconvert_exporter": "python",
   "pygments_lexer": "ipython3",
   "version": "3.9.16"
  }
 },
 "nbformat": 4,
 "nbformat_minor": 5
}
