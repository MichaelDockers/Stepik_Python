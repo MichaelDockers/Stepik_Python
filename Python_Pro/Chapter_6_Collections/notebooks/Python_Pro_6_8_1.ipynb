{
 "cells": [
  {
   "cell_type": "markdown",
   "id": "8ab75ea0-b4af-4a96-8323-8324e319d494",
   "metadata": {},
   "source": [
    "## Task \"В поисках слов 😇\"\n",
    "\n",
    "Дана последовательность слов. Напишите программу, которая выводит наиболее часто встречаемое слово в этой последовательности.\n",
    "\n",
    "**Формат входных данных**\n",
    "\n",
    "На вход программе подается последовательность слов, разделенных пробелом.\n",
    "\n",
    "**Формат выходных данных**\n",
    "\n",
    "Программа должна определить наиболее часто встречаемое слово в введенной последовательности и вывести его в нижнем регистре.\n",
    "\n",
    "**Примечание 1.** Гарантируется, что искомое слово единственное.\n",
    "\n",
    "**Примечание 2.** Программа должна игнорировать регистр. То есть, например, слова Python и python считаются одинаковыми."
   ]
  },
  {
   "cell_type": "code",
   "execution_count": 6,
   "id": "2fc8d5f5-0dd4-4c7a-a46f-35caf62a4833",
   "metadata": {},
   "outputs": [
    {
     "name": "stdout",
     "output_type": "stream",
     "text": [
      "малина\n"
     ]
    }
   ],
   "source": [
    "from collections import Counter\n",
    "\n",
    "in_str = 'Черешня Вишня Арбуз малина Малина клубникА Арбуз Банан вишня малина'\n",
    "\n",
    "print(Counter([x.lower() for x in in_str.split()]).most_common(1)[0][0])"
   ]
  }
 ],
 "metadata": {
  "kernelspec": {
   "display_name": "Python 3 (ipykernel)",
   "language": "python",
   "name": "python3"
  },
  "language_info": {
   "codemirror_mode": {
    "name": "ipython",
    "version": 3
   },
   "file_extension": ".py",
   "mimetype": "text/x-python",
   "name": "python",
   "nbconvert_exporter": "python",
   "pygments_lexer": "ipython3",
   "version": "3.9.16"
  }
 },
 "nbformat": 4,
 "nbformat_minor": 5
}
