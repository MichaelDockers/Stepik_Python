{
 "cells": [
  {
   "cell_type": "markdown",
   "id": "ddf29227-eaf3-4d8e-b18e-8568a8fcb074",
   "metadata": {},
   "source": [
    "## Task \"The Zen of Python\"\n",
    "\n",
    "Вам доступен текстовый файл pythonzen.txt, содержащий текст на английском языке:\n",
    "\n",
    "The Zen of Python, by Tim Peters\n",
    "\n",
    "Beautiful is better than ugly.  \n",
    "Explicit is better than implicit.  \n",
    "...\n",
    "\n",
    "Напишите программу, которая определяет, сколько раз встречается каждая буква в этом тексте. Буквы и их количество должны выводиться в лексикографическом порядке, каждая на отдельной строке, в следующем формате:\n",
    "\n",
    "<буква>: <количество>\n",
    "\n",
    "**Примечание 1.** Начальная часть ответа выглядит так:\n",
    "\n",
    "a: 53  \n",
    "b: 21  \n",
    "...\n",
    "\n",
    "**Примечание 2.** Программа не должна учитывать регистр, то есть, например, буквы a и A считаются одинаковыми.\n",
    "\n",
    "**Примечание 3.** Программа должна игнорировать все небуквенные символы."
   ]
  },
  {
   "cell_type": "code",
   "execution_count": 9,
   "id": "0bc3e937-852a-413a-b891-cefbdfccd18d",
   "metadata": {},
   "outputs": [
    {
     "name": "stdout",
     "output_type": "stream",
     "text": [
      "a: 53\n",
      "b: 21\n",
      "c: 17\n",
      "d: 17\n",
      "e: 92\n",
      "f: 12\n",
      "g: 11\n",
      "h: 31\n",
      "i: 53\n",
      "k: 2\n",
      "l: 33\n",
      "m: 16\n",
      "n: 42\n",
      "o: 43\n",
      "p: 22\n",
      "r: 33\n",
      "s: 46\n",
      "t: 79\n",
      "u: 21\n",
      "v: 5\n",
      "w: 4\n",
      "x: 6\n",
      "y: 17\n",
      "z: 1\n"
     ]
    }
   ],
   "source": [
    "from collections import Counter\n",
    "\n",
    "letters_counter = Counter()\n",
    "\n",
    "with open('../data/pythonzen.txt', 'r', encoding='utf-8') as py_file:\n",
    "    for line in py_file.read():\n",
    "        letters_counter.update([char.lower() for char in line if char.isalpha()])\n",
    "        \n",
    "print(*[f'{key}: {value}' for key, value in sorted(letters_counter.items())], sep='\\n')"
   ]
  }
 ],
 "metadata": {
  "kernelspec": {
   "display_name": "Python 3 (ipykernel)",
   "language": "python",
   "name": "python3"
  },
  "language_info": {
   "codemirror_mode": {
    "name": "ipython",
    "version": 3
   },
   "file_extension": ".py",
   "mimetype": "text/x-python",
   "name": "python",
   "nbconvert_exporter": "python",
   "pygments_lexer": "ipython3",
   "version": "3.9.16"
  }
 },
 "nbformat": 4,
 "nbformat_minor": 5
}
